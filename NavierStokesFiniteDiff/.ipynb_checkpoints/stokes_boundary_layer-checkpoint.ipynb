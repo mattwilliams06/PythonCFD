{
 "cells": [
  {
   "cell_type": "markdown",
   "metadata": {},
   "source": [
    "# Stokes boundary layer\n",
    "\n",
    "This problem assumes that a viscous liquid is being poured into a tank, which oscillates with a lateral speed $U(y=0,t)=U_0 \\sin(2\\pi ft)$. The problem will be analyzed using the vorticity-streamfunction formulation:\n",
    "\n",
    "$$u=\\frac{\\partial{\\psi}}{\\partial{y}} \\qquad v=-\\frac{\\partial{\\psi}}{\\partial{x}}$$\n",
    "\n",
    "$$\\vec{\\omega}=\\nabla\\times\\vec{u}=-\\nabla^2\\psi$$\n",
    "\n",
    "$$\\frac{\\partial{\\vec{\\omega}}}{\\partial{t}}+(\\vec{u}\\cdot\\nabla)\\vec{\\omega}=\\nu\\nabla^2\\vec{\\omega}$$\n",
    "\n",
    "For simplification, the following assumptions are made:\n",
    "\n",
    "- There is no vertical velocity\n",
    "- Flow is 2D with no body forces\n",
    "- The horizontal velocity is constant in any horizontal plane\n",
    "- There is a no-slip condition at y=0\n",
    "\n",
    "These assumpyions lead to:\n",
    "\n",
    "$$u=\\frac{\\partial{\\psi}}{\\partial{y}} \\qquad v=-\\frac{\\partial{\\psi}}{\\partial{x}}=0$$\n",
    "\n",
    "$$\\omega=-\\frac{\\partial{u}}{\\partial{y}}=-\\frac{\\partial^2{\\psi}}{\\partial{y^2}}$$\n",
    "\n",
    "$$\\frac{\\partial{\\omega}}{\\partial{t}}=\\nu\\frac{\\partial^2{\\omega}}{\\partial{y^2}}$$"
   ]
  },
  {
   "cell_type": "markdown",
   "metadata": {},
   "source": [
    "## Initial conditions\n",
    "\n",
    "Since the fluid is initially at rest, $u(y,t)=0$ everywhere, and the streamfunction is an arbitrary constant. We can therefore also choose the streamfunction to be identically zero at the beginning of the problem. The vorticity will be zero everywhere in the domain.\n",
    "\n",
    "## Boundary conditions\n",
    "\n",
    "We need two boundary conditions to cover the two spatial derivitives. The first is the no-slip condition for the tank bottom. The second will be the vorticity at the bottom. Taking a Taylor expansion of the stream function at the bottom of the tank:\n",
    "\n",
    "$$\\psi(y=\\Delta{y},t)=\\psi(y=0,t)+\\frac{\\partial{\\psi}}{\\partial{y}}\\Delta{y}+\\frac{\\partial^2{\\psi}}{\\partial{y^2}}\\frac{\\Delta{y}^2}{2}+...$$\n",
    "\n",
    "We have an expression for $u(y=0, t) = U_0 \\sin(2\\pi ft) = \\frac{\\partial \\psi}{\\partial y}$. Therefore, solving the above for the vorticity $\\omega = -\\frac{\\partial^2 \\psi}{\\partial y^2}$:\n",
    "\n",
    "$$\\omega(y=0,t)\\approx 2\\left(\\frac{U_0 \\sin(2\\pi ft)}{\\Delta y}-\\frac{\\psi(y=\\Delta y,t)}{\\Delta y^2}\\right)$$"
   ]
  },
  {
   "cell_type": "markdown",
   "metadata": {},
   "source": [
    "## Non-dimensionalization\n",
    "\n",
    "### Governing equations\n",
    "\n",
    "We want to non-dimensionalize some of the parameters to simplify the analysis:\n",
    "- $y\\;[L] = \\sqrt{\\frac{\\nu}{\\Omega}}\\hat{y}$\n",
    "- $t\\;[T] = \\Omega^{-1}\\hat{t}$ where $\\Omega = 2\\pi f$\n",
    "- $u\\;[LT^{-1}] = \\sqrt{nu\\Omega}\\hat{u}$\n",
    "- $\\omega\\;[T^{-1}] =\\Omega\\hat{\\omega}$\n",
    "- $\\psi\\;[L^2T^{-1}] = \\nu\\hat{\\psi}$\n",
    "\n",
    "The governing equations are therefore:\n",
    "\n",
    "$$\\frac{\\partial{\\hat{\\psi}}}{\\partial{\\hat{y}}}=\\hat{u} \\qquad \\frac{\\partial{\\hat{\\psi}}}{\\partial{\\hat{x}}}=0$$\n",
    "\n",
    "$$\\hat{\\omega} = -\\frac{\\partial{\\hat{u}}}{\\partial{\\hat{y}}}=-\\frac{\\partial^2{\\hat{\\psi}}}{\\partial{\\hat{y}^2}}$$\n",
    "\n",
    "$$\\frac{\\partial{\\hat{\\omega}}}{\\partial{\\hat{t}}}=\\frac{\\partial^2{\\hat{\\omega}}}{\\partial{\\hat{y}^2}}$$\n",
    "\n",
    "### Initial conditions\n",
    "\n",
    "The non-dimensional initial conditions are:\n",
    "\n",
    "$$\\hat{u}(\\hat{y},\\hat{t}=0)=\\hat{\\psi}(\\hat{y},\\hat{t}=0)=\\hat{\\omega}(\\hat{y},\\hat{t}=0)=0$$\n",
    "\n",
    "### Boundary conditions\n",
    "The non-dimensional initial conditions at $\\hat{y}=0$ are:\n",
    "\n",
    "$$\\hat{u}(\\hat{y}=0,\\hat{t}) = H\\sin(\\hat{t})$$\n",
    "\n",
    "$$\\hat{\\psi}(\\hat{y}=0,\\hat{t})=0$$\n",
    "\n",
    "$$\\hat{\\omega}(\\hat{y}=0,\\hat{t})\\approx 2\\left(\\frac{H \\sin(\\hat{t})}{\\Delta \\hat{y}}-\\frac{\\hat{\\psi}(\\hat{y}=\\Delta \\hat{y},\\hat{t})}{\\Delta \\hat{y}^2}\\right)$$\n",
    "\n",
    "The $H$ term is non-dimensionalized velocity:\n",
    "\n",
    "$$H \\equiv \\frac{U_0}{\\sqrt{\\nu\\Omega}}=\\sqrt{\\frac{1}{2\\pi}\\left(\\frac{U_0 L}{\\nu}\\right)\\left(\\frac{U_0}{fL}\\right)}=\\sqrt{\\frac{Re}{2\\pi St}}$$"
   ]
  },
  {
   "cell_type": "markdown",
   "metadata": {},
   "source": [
    "## Discretization\n",
    "\n",
    "Proceeding with finite differences, the vorticity transport equation is:\n",
    "\n",
    "$$\\hat{\\omega}^{n+1}_{j}=\\hat{\\omega}^{n}_{j}+\\frac{\\Delta{\\hat{t}}}{\\Delta{\\hat{y}^2}}\\left(\\hat{\\omega}^{n}_{j+1}-2\\hat{\\omega}^{n}_{j}+\\hat{\\omega}^{n}_{j-1}\\right)$$\n",
    "\n",
    "The relationship between vorticity and the streamfunction is discretized as:\n",
    "\n",
    "$$\\left(\\hat{\\psi}^{n+1}_{j+1}-2\\hat{\\psi}^{n+1}_{j}+\\hat{\\psi}^{n+1}_{j-1}\\right)=-{\\Delta{\\hat{y}^2}}\\hat{\\omega}^{n+1}_{j}$$\n",
    "\n",
    "The vorticity can be solved explicitly by time-marching, but the streamfunction must be solved implicitly from the vorticity at the next time-step. The streamfunction can be found by constructing a matrix equation $[A][\\hat{\\psi}]=[B]$:\n",
    "\n",
    "$$\\left(\\begin{array}{ccc} \n",
    "-2 & 1 & 0 & 0 & \\cdots & 0 \\\\\n",
    "1 & -2 & 1 & 0 & \\cdots & 0 \\\\\n",
    "0 & 1 & -2 & 1 & \\cdots & 0 \\\\\n",
    "\\vdots & \\vdots\\ & \\vdots & \\vdots & \\ddots & \\vdots \\\\\n",
    "0 & 0 & 0 & 0 & \\cdots & 1 \\\\\n",
    "0 & 0 & 0 & 0 & \\cdots & -1 \\\\\n",
    "\\end{array}\\right)\\left(\\begin{array}{ccc}\n",
    "\\hat{\\psi}^{n+1}_{1} \\\\\n",
    "\\hat{\\psi}^{n+1}_{2} \\\\\n",
    "\\hat{\\psi}^{n+1}_{3} \\\\\n",
    "\\vdots \\\\\n",
    "\\hat{\\psi}^{n+1}_{ny-1} \\\\\n",
    "\\hat{\\psi}^{n+1}_{ny} \\end{array}\\right)=-\\Delta{\\hat{y}^2}\\left(\\begin{array}{ccc}\n",
    "\\hat{\\omega}^{n+1}_{1} \\\\\n",
    "\\hat{\\omega}^{n+1}_{2} \\\\\n",
    "\\hat{\\omega}^{n+1}_{3} \\\\\n",
    "\\vdots \\\\\n",
    "\\hat{\\omega}^{n+1}_{ny-1} \\\\\n",
    "\\hat{\\omega}^{n+1}_{ny} \\end{array}\\right)$$"
   ]
  },
  {
   "cell_type": "markdown",
   "metadata": {},
   "source": [
    "The first row starts at $i=1$ and not $i=0$ because of the boundary condition imposed there. The last row contains $-1$ instead of $-2$ because for sufficiently large $y$, $\\hat{\\psi}^{n+1}_{ny+1}\\approx\\hat{\\psi}^{n+1}_{ny}$. Therefore:\n",
    "\n",
    "$$-\\Delta{\\hat{y}^2}\\hat{\\omega}^{n+1}_{ny}=\\left(\\hat{\\psi}^{n+1}_{ny+1}-2\\hat{\\psi}^{n+1}_{ny}+\\hat{\\psi}^{n+1}_{ny-1}\\right)\\approx\\left(\\hat{\\psi}^{n+1}_{ny}-2\\hat{\\psi}^{n+1}_{ny}+\\hat{\\psi}^{n+1}_{ny-1}\\right)=\\left(-\\hat{\\psi}^{n+1}_{ny}+\\hat{\\psi}^{n+1}_{ny-1}\\right)$$"
   ]
  },
  {
   "cell_type": "code",
   "execution_count": 1,
   "metadata": {},
   "outputs": [],
   "source": [
    "# Solve [A][X] = [B]\n",
    "def coeff_mat(N):\n",
    "    import numpy as np\n",
    "    d = -2*np.ones(N)    # main diagonal\n",
    "    d[N-1] = -1          # last element of main diagonal\n",
    "    d_n = np.copy(d)\n",
    "    l = np.ones(N-1)     # lower diagonal\n",
    "    u = np.ones(N-1)     # upper diagonal\n",
    "    \n",
    "    # Forward elimination of lower-diagonal elements\n",
    "    for i in range(1, N):\n",
    "        d_n[i] = d[i] - u[i-1]*l[i-1]/d_n[i-1]\n",
    "    \n",
    "    return l, d_n, u"
   ]
  },
  {
   "cell_type": "code",
   "execution_count": null,
   "metadata": {},
   "outputs": [],
   "source": [
    "def thomas_algo(B, l, d_n, u):\n",
    "    import numpy as np\n",
    "    N = np.size(B)\n",
    "    \n",
    "    # Thomas algorithm\n",
    "    # Forward elimination of lower-diagonal elements\n",
    "    for i in range(1, N):\n",
    "        B[i] = B[i] - B[i-1]*l[i-1]/d_n[i-1]\n",
    "        \n",
    "    X = np.zeros_like(B)\n",
    "    # Backward substitution\n",
    "    X[-1] = B[-1]/d_n[-1]\n",
    "    for i in range(N-2, -1, -1):\n",
    "        X[i] = (B[i] - u[i]*X[i+1])/d_n[i]\n",
    "    return X"
   ]
  }
 ],
 "metadata": {
  "kernelspec": {
   "display_name": "Python 3",
   "language": "python",
   "name": "python3"
  },
  "language_info": {
   "codemirror_mode": {
    "name": "ipython",
    "version": 3
   },
   "file_extension": ".py",
   "mimetype": "text/x-python",
   "name": "python",
   "nbconvert_exporter": "python",
   "pygments_lexer": "ipython3",
   "version": "3.7.6"
  }
 },
 "nbformat": 4,
 "nbformat_minor": 4
}
