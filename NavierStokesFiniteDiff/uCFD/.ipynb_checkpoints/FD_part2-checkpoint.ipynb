{
 "cells": [
  {
   "cell_type": "code",
   "execution_count": 1,
   "metadata": {},
   "outputs": [
    {
     "data": {
      "text/html": [
       "CSS style adapted from https://github.com/barbagroup/CFDPython. Copyright (c) Barba group\n",
       "<link href='http://fonts.googleapis.com/css?family=Merriweather' rel='stylesheet' type='text/css'>\n",
       "<link href='http://fonts.googleapis.com/css?family=Bitter' rel='stylesheet' type='text/css'>\n",
       "<link href='http://fonts.googleapis.com/css?family=Oxygen' rel='stylesheet' type='text/css'>\n",
       "<link href='http://fonts.googleapis.com/css?family=Lora' rel='stylesheet' type='text/css'>\n",
       "<link href='http://fonts.googleapis.com/css?family=Fenix' rel='stylesheet' type='text/css'>\n",
       "<link href='http://fonts.googleapis.com/css?family=Alegreya+Sans:100,300,400,500,700,800,900,100italic,300italic,400italic,500italic,700italic,800italic,900italic' rel='stylesheet' type='text/css'>\n",
       "<link href='http://fonts.googleapis.com/css?family=Source+Code+Pro:300,400' rel='stylesheet' type='text/css'>\n",
       "\n",
       "<style>\n",
       "    @font-face {\n",
       "        font-family: \"Computer Modern\";\n",
       "        src: url('http://mirrors.ctan.org/fonts/cm-unicode/fonts/otf/cmunss.otf');\n",
       "    }\n",
       "\n",
       "    /*div.cell{\n",
       "        width:800px;\n",
       "        margin-left:16% !important;\n",
       "        margin-right:auto;\n",
       "    } */\n",
       "\n",
       "    /* set the font size in tables */\n",
       "    tr, td, th{\n",
       "        font-size:110%;\n",
       "    }\n",
       "\n",
       "    /* spec for headers */\n",
       "    h1 {\n",
       "        font-family: 'Bitter', serif;\n",
       "    }\n",
       "\n",
       "    h2 {\n",
       "        font-family: 'Fenix', serif;\n",
       "    }\n",
       "    \n",
       "    h3{\n",
       "        font-family: 'Fenix', serif;\n",
       "        margin-top:12px;\n",
       "        margin-bottom: 3px;\n",
       "    }\n",
       "\n",
       "    h4{\n",
       "        font-family: 'Fenix', serif;\n",
       "    }\n",
       "\n",
       "    h5 {\n",
       "        font-family: 'Alegreya Sans', sans-serif;\n",
       "    }\n",
       "\n",
       "    div.text_cell_render{\n",
       "        font-family: 'Merriweather','Alegreya Sans','Lora', 'Oxygen', \"Helvetica Neue\", Arial, Helvetica, Geneva, sans-serif;\n",
       "        line-height: 160%;\n",
       "        font-size: 130%;\n",
       "    }\n",
       "\n",
       "    .CodeMirror{\n",
       "        font-family: \"Source Code Pro\";\n",
       "        font-size: 100%;\n",
       "    }\n",
       "\n",
       "    .text_cell_render h1 {\n",
       "        font-weight: 200;\n",
       "        font-size: 32pt;\n",
       "        line-height: 120%;\n",
       "        color:#CD2305;\n",
       "        margin-bottom: 0.5em;\n",
       "        margin-top: 0.5em;\n",
       "        display: block;\n",
       "    }\n",
       "\n",
       "    .text_cell_render h2 {\n",
       "        font-size: 26pt;\n",
       "        text-align: center;\n",
       "    }\n",
       "\n",
       "    .text_cell_render h3 {\n",
       "        font-size: 20pt;\n",
       "    }\n",
       "\n",
       "    .text_cell_render h4 {\n",
       "        font-size: 18pt;\n",
       "    }\n",
       "\n",
       "    .text_cell_render h5 {\n",
       "        font-weight: 300;\n",
       "        font-size: 16pt;\n",
       "        color: #CD2305;\n",
       "        font-style: italic;\n",
       "        margin-bottom: .5em;\n",
       "        margin-top: 0.5em;\n",
       "        display: block;\n",
       "    }\n",
       "    \n",
       "    .warning{\n",
       "        color: rgb( 240, 20, 20 )\n",
       "    }  \n",
       "\n",
       "/*  div#notebook {background-color: #1e1e1e; border-top: none;}\n",
       "    div#notebook-container {background-color: rgb(180, 180, 180);}\n",
       " */\n",
       "\n",
       "</style>\n",
       "\n",
       "<script>\n",
       "    MathJax.Hub.Config({\n",
       "                TeX: {\n",
       "                    extensions: [\"AMSmath.js\"]\n",
       "                },\n",
       "                tex2jax: {\n",
       "                    inlineMath: [ ['$','$'], [\"\\\\(\",\"\\\\)\"] ],\n",
       "                    displayMath: [ ['$$','$$'], [\"\\\\[\",\"\\\\]\"] ]\n",
       "                },\n",
       "                displayAlign: 'center', // Change this to 'center' to center equations.\n",
       "                \"HTML-CSS\": {\n",
       "                    availableFonts: [\"TeX\"],\n",
       "                    scale: 100,\n",
       "                    styles: {'.MathJax_Display': {\"margin\": 4}}\n",
       "                }\n",
       "        });\n",
       "</script>\n"
      ],
      "text/plain": [
       "<IPython.core.display.HTML object>"
      ]
     },
     "execution_count": 1,
     "metadata": {},
     "output_type": "execute_result"
    }
   ],
   "source": [
    "import urllib\n",
    "import requests\n",
    "from IPython.core.display import HTML\n",
    "def css_styling():\n",
    "    styles = requests.get('https://raw.githubusercontent.com/saadtony/NumericalMethods/master/styles/custom.css')\n",
    "    return HTML(styles.text)\n",
    "css_styling()"
   ]
  },
  {
   "cell_type": "markdown",
   "metadata": {},
   "source": [
    "# Linear Advection with Finite Differences\n",
    "## Taken from Tony Saad's CHEN 6355 CFD course at University of Utah\n",
    "**Adapted by Matt Williams (<a>matt.williams@alum.mit.edu</a>)**\n",
    "<hr/>\n",
    "\n",
    "This notebook will solve the linear advection equation with periodic boundary conditions:\n",
    "\n",
    "$$\\begin{equation}\n",
    "\\frac{\\partial u}{\\partial t} = - c \\frac{\\partial u}{\\partial x}\n",
    "\\end{equation}$$\n",
    "\n",
    "subject to the initial condition $u(x,0)\\equiv u_0(x)$. The exact solution is:\n",
    "\n",
    "$$\\begin{equation}\n",
    "u(x, t) = u_0(x-ct)\n",
    "\\end{equation}$$"
   ]
  },
  {
   "cell_type": "code",
   "execution_count": 3,
   "metadata": {},
   "outputs": [],
   "source": [
    "import numpy as np\n",
    "import matplotlib.pyplot as plt\n",
    "%config InlineBackend.figure_format='retina'\n",
    "%matplotlib inline\n",
    "import matplotlib.animation as animation"
   ]
  },
  {
   "cell_type": "code",
   "execution_count": 6,
   "metadata": {},
   "outputs": [
    {
     "data": {
      "text/plain": [
       "[<matplotlib.lines.Line2D at 0x7f93b13b1390>]"
      ]
     },
     "execution_count": 6,
     "metadata": {},
     "output_type": "execute_result"
    },
    {
     "data": {
      "image/png": "[encoded data removed]",
      "text/plain": [
       "<Figure size 432x288 with 1 Axes>"
      ]
     },
     "metadata": {
      "image/png": {
       "height": 248,
       "width": 386
      },
      "needs_background": "light"
     },
     "output_type": "display_data"
    }
   ],
   "source": [
    "# Initial condition\n",
    "Lx = 1.\n",
    "nx = 21\n",
    "dx = Lx/(nx-1)\n",
    "x = np.linspace(0, Lx, nx)\n",
    "u0 = np.sin(2.*np.pi*x)\n",
    "plt.plot(x, u0,'go')"
   ]
  },
  {
   "cell_type": "markdown",
   "metadata": {},
   "source": [
    "## Forward in Time, Centered in Space (FTCS)\n",
    "$$u^{n+1}_{i}\\  =\\  u^{n}_{i}\\  -\\  c\\Delta t\\frac{u^{n}_{i+1\\  -}u^{n}_{i-1}}{2\\Delta x}$$"
   ]
  },
  {
   "cell_type": "code",
   "execution_count": 9,
   "metadata": {},
   "outputs": [],
   "source": [
    "dt = 0.01         # sec\n",
    "t_end = 3.        # sec\n",
    "c = 1.            # wave speed, m/s\n",
    "cfl = c*dt/2/dx   # CFL number\n",
    "\n",
    "sol = []\n",
    "sol.append(u0)\n",
    "t = 0.\n",
    "\n",
    "while t < t_end:\n",
    "    un = sol[-1]\n",
    "    unew = np.copy(un)\n",
    "    # Interior nodes\n",
    "    unew[1:-1] = un[1:-1] - cfl*(un[2:]-un[:-2])\n",
    "    # Periodic boundary condition, u[i+1] = u[1] at right boundary\n",
    "    unew[-1] = un[-1] - cfl*(un[1]-un[-2])\n",
    "    unew[0] = unew[-1]\n",
    "    sol.append(unew)\n",
    "    t += dt"
   ]
  },
  {
   "cell_type": "code",
   "execution_count": 17,
   "metadata": {},
   "outputs": [
    {
     "data": {
      "image/png": "[encoded data removed]",
      "text/plain": [
       "<Figure size 432x288 with 1 Axes>"
      ]
     },
     "metadata": {
      "image/png": {
       "height": 252,
       "width": 386
      },
      "needs_background": "light"
     },
     "output_type": "display_data"
    }
   ],
   "source": [
    "ims = []\n",
    "fig = plt.figure()\n",
    "plt.grid()\n",
    "\n",
    "i = 0\n",
    "for solution in sol:\n",
    "    if (i%1==0):\n",
    "        im = plt.plot(x, solution, 'k-', animated=True)\n",
    "        plt.ylim(-1,1)\n",
    "        ims.append(im)\n",
    "    i += 1\n",
    "ani = animation.ArtistAnimation(fig, ims, interval=35, blit=True, repeat_delay=1000)\n",
    "ani.save('fcts_2.mp4')"
   ]
  },
  {
   "cell_type": "code",
   "execution_count": 18,
   "metadata": {},
   "outputs": [
    {
     "data": {
      "text/html": [
       "<video width=\"640\" height=\"480\" controls>\n",
       "    <source src=\"fcts_2.mp4\" type=\"video/mp4\">\n",
       "</video>\n"
      ],
      "text/plain": [
       "<IPython.core.display.HTML object>"
      ]
     },
     "metadata": {},
     "output_type": "display_data"
    }
   ],
   "source": [
    "%%HTML\n",
    "<video width=\"640\" height=\"480\" controls>\n",
    "    <source src=\"fcts_2.mp4\" type=\"video/mp4\">\n",
    "</video>"
   ]
  },
  {
   "cell_type": "markdown",
   "metadata": {},
   "source": [
    "The amplitude of the advected quantity begins to grow without bound, despite having an acceptable CFL number."
   ]
  },
  {
   "cell_type": "code",
   "execution_count": 19,
   "metadata": {},
   "outputs": [
    {
     "data": {
      "text/plain": [
       "0.09999999999999999"
      ]
     },
     "execution_count": 19,
     "metadata": {},
     "output_type": "execute_result"
    }
   ],
   "source": [
    "cfl"
   ]
  },
  {
   "cell_type": "markdown",
   "metadata": {},
   "source": [
    "From the notes on the Microsoft Surface, the numerical discretization introduces a numerical diffusion term:\n",
    "\n",
    "$$-\\frac{\\Delta t}{2} c^{2}u^{\\prime \\prime }$$\n",
    "\n",
    "The negative diffusion term causes the expression to \"blow up\" instead of diffusing. Instead of using a centered difference, we can use a backward difference. This reduces the order of accuracy, but it will prevent the numerical diffusion and the solution won't explode.\n",
    "\n",
    "# Forward in Time, Backward in Space (Upwind, FTUS)\n",
    "$$u^{n+1}_{i}=u^{n}_{i}-c\\Delta t\\frac{u^{n}_{i}-u^{n}_{i-1}}{\\Delta x}$$"
   ]
  },
  {
   "cell_type": "code",
   "execution_count": 57,
   "metadata": {},
   "outputs": [],
   "source": [
    "t_end = 3.        # sec\n",
    "c = 1.            # wave speed, m/s\n",
    "dt = 0.9*dx/c \n",
    "cfl = c*dt/dx     # CFL number\n",
    "\n",
    "sol = []\n",
    "sol.append(u0)\n",
    "t = 0.\n",
    "\n",
    "while t < t_end:\n",
    "    un = sol[-1]\n",
    "    unew = np.copy(un)\n",
    "    # Interior nodes\n",
    "    unew[1:-1] = un[1:-1] - cfl*(un[1:-1]-un[:-2])\n",
    "    # Periodic boundary condition, u[i+1] = u[1] at right boundary\n",
    "    unew[-1] = un[-1] - cfl*(un[-1]-un[-2])\n",
    "    unew[0] = unew[-1]\n",
    "    sol.append(unew)\n",
    "    t += dt"
   ]
  },
  {
   "cell_type": "code",
   "execution_count": 58,
   "metadata": {},
   "outputs": [
    {
     "data": {
      "image/png": "[encoded data removed]",
      "text/plain": [
       "<Figure size 432x288 with 1 Axes>"
      ]
     },
     "metadata": {
      "image/png": {
       "height": 252,
       "width": 386
      },
      "needs_background": "light"
     },
     "output_type": "display_data"
    }
   ],
   "source": [
    "ims = []\n",
    "fig = plt.figure()\n",
    "plt.grid()\n",
    "\n",
    "i = 0\n",
    "for solution in sol:\n",
    "    if (i%1==0):\n",
    "        im = plt.plot(x, solution, 'k-', animated=True)\n",
    "        plt.ylim(-1,1)\n",
    "        ims.append(im)\n",
    "    i += 1\n",
    "ani = animation.ArtistAnimation(fig, ims, interval=35, blit=True, repeat_delay=1000)\n",
    "ani.save('ftus.mp4')"
   ]
  },
  {
   "cell_type": "code",
   "execution_count": 60,
   "metadata": {},
   "outputs": [
    {
     "data": {
      "text/html": [
       "<video width=\"640\" height=\"480\" controls>\n",
       "    <source src=\"ftus.mp4\" type=\"video/mp4\">\n",
       "</video>\n"
      ],
      "text/plain": [
       "<IPython.core.display.HTML object>"
      ]
     },
     "metadata": {},
     "output_type": "display_data"
    }
   ],
   "source": [
    "%%HTML\n",
    "<video width=\"640\" height=\"480\" controls>\n",
    "    <source src=\"ftus.mp4\" type=\"video/mp4\">\n",
    "</video>"
   ]
  },
  {
   "cell_type": "markdown",
   "metadata": {},
   "source": [
    "Now the solution is shrinking, but it is stable. Per the notes in the Surface, the numerical diffusion term will be positive so long as $\\Delta x-c\\Delta t>0$, or $\\Delta x>c\\Delta t$."
   ]
  },
  {
   "cell_type": "code",
   "execution_count": 61,
   "metadata": {},
   "outputs": [
    {
     "data": {
      "text/plain": [
       "0.0049999999999999975"
      ]
     },
     "execution_count": 61,
     "metadata": {},
     "output_type": "execute_result"
    }
   ],
   "source": [
    "dx-c*dt # check numerical diffusion coefficient"
   ]
  },
  {
   "cell_type": "markdown",
   "metadata": {},
   "source": [
    "Additionally, if we set $\\Delta x-c\\Delta t=0$, there is no numerical diffusion, and we get an exact solution."
   ]
  },
  {
   "cell_type": "code",
   "execution_count": 62,
   "metadata": {},
   "outputs": [
    {
     "data": {
      "text/plain": [
       "0.05"
      ]
     },
     "execution_count": 62,
     "metadata": {},
     "output_type": "execute_result"
    }
   ],
   "source": [
    "dx"
   ]
  },
  {
   "cell_type": "code",
   "execution_count": null,
   "metadata": {},
   "outputs": [],
   "source": []
  }
 ],
 "metadata": {
  "kernelspec": {
   "display_name": "Python 3",
   "language": "python",
   "name": "python3"
  },
  "language_info": {
   "codemirror_mode": {
    "name": "ipython",
    "version": 3
   },
   "file_extension": ".py",
   "mimetype": "text/x-python",
   "name": "python",
   "nbconvert_exporter": "python",
   "pygments_lexer": "ipython3",
   "version": "3.7.4"
  }
 },
 "nbformat": 4,
 "nbformat_minor": 4
}
