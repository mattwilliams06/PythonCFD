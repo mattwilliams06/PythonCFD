{
 "cells": [
  {
   "cell_type": "code",
   "execution_count": 1,
   "metadata": {},
   "outputs": [],
   "source": [
    "import numpy as np\n",
    "import matplotlib.pyplot as plt\n",
    "%config InlineBackend.figure_format='retina'"
   ]
  },
  {
   "cell_type": "code",
   "execution_count": null,
   "metadata": {},
   "outputs": [],
   "source": [
    "rho = 1.\n",
    "gamma = 0.01\n",
    "nxx = 41\n",
    "nx = nxx - 1  # Velocity nodes\n",
    "nyy = 41      # Centroid nodes\n",
    "ny = nyy - 1\n",
    "Lx = 1.\n",
    "Ly = 1.\n",
    "dx = Lx/nx\n",
    "dy = Ly/ny\n",
    "eps = 1e-6"
   ]
  },
  {
   "cell_type": "code",
   "execution_count": null,
   "metadata": {},
   "outputs": [],
   "source": [
    "xx = np.linspace(0, Lx, nxx)\n",
    "yy = np.linspace(0, Ly, nyy)\n",
    "x = np.linspace(0+dx/2, Lx-dx/2, nx)\n",
    "y = np.linspace(0+dy/2, Ly-dy/2, ny)"
   ]
  },
  {
   "cell_type": "code",
   "execution_count": null,
   "metadata": {},
   "outputs": [],
   "source": [
    "A = np.zeros((nx,ny))\n",
    "B = np.zeros((nx,ny))\n",
    "phi = np.zeros((nx, ny))"
   ]
  },
  {
   "cell_type": "markdown",
   "metadata": {},
   "source": [
    "As shown above, there are two grids that will be referenced during the simulation. The double-letter grid tracks the edges of the control volumes where the velocity is stored. The single-letter grid tracks the control volume centroids, where the flux is stored.\n",
    "\n",
    "The velocity is prescribed for this problem such that the streamfunction = $xy$, and therefore $u=x$ and $v=-y$."
   ]
  },
  {
   "cell_type": "code",
   "execution_count": null,
   "metadata": {},
   "outputs": [],
   "source": [
    "u = xx\n",
    "v = -yy"
   ]
  },
  {
   "cell_type": "code",
   "execution_count": null,
   "metadata": {},
   "outputs": [],
   "source": [
    "# Initialize phi at the CV centroids\n",
    "phi = np.ones((nx, ny))"
   ]
  },
  {
   "cell_type": "code",
   "execution_count": null,
   "metadata": {},
   "outputs": [],
   "source": [
    "# A and B are defined in my notes\n",
    "A = np.zeros((nx,ny))\n",
    "B = np.zeros((nx,ny))\n",
    "for i in range(1, nx-1):\n",
    "    for j in range(1, nx-1):\n",
    "        A[i,j] = rho/2*((u[i+1]-u[i])*dy + (v[j+1]-v[j])*dx)\n",
    "        B[i,j] = gamma*(-dy/(x[i+1]-x[i]) + dy/(x[i]-x[i-1]) - dx/(y[j+1]-y[j]) + dx/(y[i]-y[i-1]))"
   ]
  },
  {
   "cell_type": "markdown",
   "metadata": {},
   "source": [
    "# Boundary Conditions"
   ]
  },
  {
   "cell_type": "code",
   "execution_count": null,
   "metadata": {},
   "outputs": [],
   "source": [
    "# West boundary, x = 0. I will compute along the entire boundary. The corner nodes must be summed with other boundaries.\n",
    "phi_west = np.zeros(ny)\n",
    "phi_west = -y/Ly + 1"
   ]
  },
  {
   "cell_type": "code",
   "execution_count": null,
   "metadata": {},
   "outputs": [],
   "source": [
    "phi_west"
   ]
  },
  {
   "cell_type": "code",
   "execution_count": null,
   "metadata": {},
   "outputs": [],
   "source": [
    "for j in range(ny):\n",
    "    A[0,j] = rho/2*((u[1]-0)*dy + (v[j+1]-v[j])*dx)\n",
    "    if j == 0:\n",
    "        B[0,j] = gamma*(-dy/(x[1]-x[0]) - dy/(xx[0]-x[0]) - dx/(y[j+1]-y[j]) - dx/(y[j]-yy[j]))\n",
    "    elif j == ny-1:\n",
    "        B[0,j] = gamma*(-dy/(x[1]-x[0]) - dy/(xx[0]-x[0]) - dx/(yy[j+1]-y[j]) - dx/(y[j]-y[j-1]))\n",
    "    else:\n",
    "        B[0,j] = gamma*(-dy/(x[1]-x[0]) - dy/(xx[0]-x[0]) - dx/(y[j+1]-y[j]) - dx/(y[j]-y[j-1]))\n",
    "for j in range(ny):\n",
    "    if j == 0:\n",
    "        phi[0,j] += 1/(A[0,j]-B[0,j])*(gamma*(phi[1,j]*dy/(x[1]-x[0]) + phi_west[j]*dy/(x[0]-xx[0]) + \n",
    "                                   phi[0,j+1]*dy/(y[j+1]-y[j]) + phi[0,j]/(y[j]-yy[0])) -\n",
    "                                      rho/2*((u[1]*phi[1,j]-0)*dy + (v[j+1]*phi[0,j+1]-v[j]*phi[0,j])*dx))\n",
    "    elif j == ny-1:\n",
    "        phi[0,j] = 1/(A[0,j]-B[0,j])*(gamma*(phi[1,j]*dy/(x[1]-x[0]) + phi_west[j]*dy/(x[0]-xx[0]) + \n",
    "                                   0*dy/(yy[-1]-y[j]) + phi[0,j-1]/(y[j]-y[j-1])) -\n",
    "                                     rho/2*((u[1]*phi[1,j]-0)*dy + (v[j+1]*0-v[j]*phi[0,j-1])*dx))\n",
    "    else:\n",
    "        phi[0,j] = 1/(A[0,j]-B[0,j]) *(gamma*(phi[1,j]*dy/(x[1]-x[0]) + phi_west[j]*dy/(x[0]-xx[0]) + \n",
    "                                    phi[0,j+1]*dx/(y[j+1]-y[j]) + phi[0,j-1]*dx/(y[j]-y[j-1])) -\n",
    "                                      rho/2*((u[1]*phi[1,j]-0)*dy + (v[j+1]*phi[0,j+1]-v[j]*phi[0,j-1])*dx))"
   ]
  },
  {
   "cell_type": "code",
   "execution_count": null,
   "metadata": {},
   "outputs": [],
   "source": [
    "phi[0,:]"
   ]
  },
  {
   "cell_type": "code",
   "execution_count": null,
   "metadata": {},
   "outputs": [],
   "source": [
    "plt.plot(phi[0,:])"
   ]
  },
  {
   "cell_type": "code",
   "execution_count": null,
   "metadata": {},
   "outputs": [],
   "source": [
    "# North boundary, y = Ly\n",
    "# phi_north = np.zeros(nx)\n",
    "# A1 = np.zeros_like(phi_north)\n",
    "# B2 = np.zeros_like(A1)\n",
    "for i in range(nx):\n",
    "    A[i,-1] = rho/2*((u[i+1]-u[i])*dx-v[-2]*dx) + eps\n",
    "    if i == 0:\n",
    "        B[i,-1] = gamma*(-dy/(x[1]-x[0]) - dy/(x[0]-xx[0]) - dx/(yy[-1]-y[-1]) - dx/(y[-1]-y[-2])) \n",
    "    elif i == nx-1:\n",
    "        B[i,-1] = gamma*(-dy/(xx[-1]-x[-1]) - dy/(x[-1]-x[-2]) - dx/(yy[-1]-y[-1]) - dx/(y[-1]-y[-2]))\n",
    "    else:\n",
    "        B[i,-1] = gamma*(-dy/(x[i+1]-x[i]) - dy/(x[i]-x[i-1]) - dx/(yy[-1]-y[-1]) - dx/(y[-1]-y[-2])) \n",
    "\n",
    "for i in range(nx):\n",
    "    if i == 0:\n",
    "        phi[i,-1] += 1/(A[i,-1]-B[i,-1])*(gamma*(phi[i+1,-1]*dy/(x[i+1]-x[0]) + phi_west[-1]*dy/(x[i]-xx[i]) + phi[i,-2]*dx/(y[-1]-y[-2])) -\n",
    "                                           rho/2*(u[i+1]*phi[i+1,-1]*dy - u[i]*phi_west[-1]*dy - v[-2]*phi[i,-2]*dx))\n",
    "    elif i == nx-1:\n",
    "        phi[i,-1] += 1/(A[i,-1]-B[i,-1])*(gamma*(phi[i,-1]*dy/(xx[i]-x[i]) + phi[i-1,-1]*dy/(x[i]-x[i-1]) + phi[i,-2]*dx/(y[-1]-y[-2])) -\n",
    "                                           rho/2*(u[i+1]*phi[i,-1]*dy - u[i]*phi[i-1,-1]*dy - v[-2]*phi[i,-2]*dx))\n",
    "    else:\n",
    "        phi[i,-1] = 1/(A[i,-1]-B[i,-1])*(gamma*(phi[i+1,-1]*dy/(x[i+1]-x[i]) + phi[i-1,-1]*dy/(x[i]-x[i-1]) + phi[i,-2]*dx/(y[-1]-y[-2])) -\n",
    "                                           rho/2*(u[i+1]*phi[i+1,-1]*dy - u[i]*phi[i-1,-1]*dy - v[-2]*phi[i,-2]*dx))"
   ]
  },
  {
   "cell_type": "code",
   "execution_count": null,
   "metadata": {},
   "outputs": [],
   "source": [
    "phi[:,-1]"
   ]
  },
  {
   "cell_type": "code",
   "execution_count": null,
   "metadata": {},
   "outputs": [],
   "source": [
    "plt.plot(phi[:,-1])"
   ]
  },
  {
   "cell_type": "code",
   "execution_count": null,
   "metadata": {},
   "outputs": [],
   "source": [
    "# East boundary, x = Lx, no gradient\n",
    "# phi_east = np.zeros(ny)\n",
    "for j in range(ny):\n",
    "    A[-1,j] = rho/2*((u[-1]-u[-2])*dx + (v[j+1]-v[j])*dx) + eps\n",
    "    if j == 0:\n",
    "        B[-1,j] = gamma*(-dy/(x[-1]-x[-2]) - dx/(y[j+1]-y[j]) - dx/(y[j]-yy[j]))\n",
    "    elif j == ny-1:\n",
    "        B[-1,j] = gamma*(-dy/(x[-1]-x[-2]) - dx/(yy[j]-y[j]) - dx/(y[j]-y[j-1])) \n",
    "    else:\n",
    "        B[-1,j] = gamma*(-dy/(x[-1]-x[-2]) - dx/(y[j+1]-y[j]) - dx/(y[j]-y[j-1])) \n",
    "        \n",
    "for j in range(ny):\n",
    "    if j == 0:\n",
    "        phi[-1,j] += 1/(A[-1,j]-B[-1,j])*(gamma*(phi[-2,j]*dy/(x[-1]-x[-2]) + phi[-1,j+1]*dx/(y[j+1]-y[j]) + phi[-1,j]*dx/(y[j]-yy[j])) -\n",
    "                                    rho/2*(-u[-2]*phi[-2,j]*dy + v[j+1]*phi[-1,j+1]*dx - v[j]*phi[-1,j]*dx))\n",
    "    elif j == ny-1:\n",
    "        phi[-1,j] += 1/(A[-1,j]-B[-1,j])*(gamma*(phi[-2,j]*dy/(x[-1]-x[-2]) + 0*dx/(yy[j]-y[j]) + phi[-1,j-1]*dx/(y[j]-y[j-1])) -\n",
    "                                    rho/2*(-u[-2]*phi[-2,j]*dy + v[j+1]*0*dx - v[j]*phi[-1,j-1]*dx))\n",
    "    else:\n",
    "        phi[-1,j] = 1/(A[-1,j]-B[-1,j])*(gamma*(phi[-2,j]*dy/(x[-1]-x[-2]) + phi[-1,j+1]*dx/(y[j+1]-y[j]) + phi[-1,j-1]*dx/(y[j]-y[j-1])) -\n",
    "                                        rho/2*(-u[-2]*phi[-2,j]*dy + v[j+1]*phi[-1,j+1]*dx - v[j]*phi[-1,j-1]*dx))"
   ]
  },
  {
   "cell_type": "code",
   "execution_count": null,
   "metadata": {},
   "outputs": [],
   "source": [
    "# South boundary, y = 0, no gradient\n",
    "for i in range(nx):\n",
    "    A[i,0] = rho/2*((u[i+1]-u[1])*dy + (v[-1]-v[-2])*dx) + eps\n",
    "    if i == 0:\n",
    "        B[i,0] = gamma*(-dy/(x[i+1]-x[i]) - dy/(x[i]-xx[i]) - dx/(y[1]-y[0]))\n",
    "    elif i == nx-1:\n",
    "        B[i,0] = gamma*(-dy/(xx[i]-x[i]) - dy/(x[i]-x[i-1]) - dx/(y[1]-y[0]))\n",
    "    else:\n",
    "        B[i,0] = gamma*(-dy/(x[i+1]-x[i]) - dy/(x[i]-x[i-1]) - dx/(y[1]-y[0]))\n",
    "\n",
    "for i in range(nx):\n",
    "    if i == 0:\n",
    "        phi[i,0] += 1/(A[i,0]-B[i,0])*(gamma*(phi[i+1,0]*dy/(x[i+1]-x[i]) + phi_west[0]*dy/(x[i]-xx[i]) + phi[i,1]*dx/(y[1]-y[0])) - \n",
    "                                      rho/2*((u[i+1]*phi[i+1,0] - u[i]*phi_west[0])*dy - v[0]*phi[i,0]*dx))\n",
    "    elif i == nx-1:\n",
    "        phi[i,0] += 1/(A[i,0]-B[i,0])*(gamma*(phi[i,0]*dy/(xx[i]-x[i]) + phi[i-1,0]*dy/(x[i]-x[i-1]) + phi[i,1]*dx/(y[1]-y[0])) - \n",
    "                                      rho/2*((u[i+1]*phi[i,0] - u[i]*phi_west[0])*dy - v[0]*phi[i,0]*dx))\n",
    "    else:\n",
    "        phi[i,0] = 1/(A[i,0]-B[i,0])*(gamma*(phi[i+1,0]*dy/(x[i+1]-x[i]) + phi[i-1,0]*dy/(x[i]-x[i-1]) + phi[i,1]*dx/(y[1]-y[0])) - \n",
    "                                      rho/2*((u[i+1]*phi[i+1,0] - u[i]*phi[i-1,0])*dy - v[0]*phi[i-1,0]*dx))"
   ]
  },
  {
   "cell_type": "code",
   "execution_count": null,
   "metadata": {},
   "outputs": [],
   "source": [
    "# Internal nodes excluding the boundaries\n",
    "for i in range(1, nx-1):\n",
    "    for j in range (1, ny-1):\n",
    "        A[i,j] = rho/2*((u[i+1]-u[i])*dy + (v[j+1]-v[j])*dx) + eps\n",
    "        B[i,j] = gamma*(-dy/(x[i+1]-x[i]) - dy/(x[i]-x[i-1]) - dx/(y[j+1]-y[j]) - dx/(y[i]-y[i-1]))\n",
    "        phi[i,j] = 1/(A[i,j]-B[i,j])*(gamma*(phi[i+1,j]*dy/(x[i+1]-x[i]) + phi[i-1,j]*dy/(x[i]-x[i-1]) + phi[i,j+1]*dx/(y[j+1]-y[j]) + phi[i,j-1]*dx/(y[j]-y[j-1])) -\n",
    "                                     rho/2*((u[i+1]*phi[i+1,j] - u[i]*phi[i-1,j])*dy - (v[j+1]*phi[i,j+1] - v[j]*phi[i,j-1])*dx))"
   ]
  },
  {
   "cell_type": "code",
   "execution_count": null,
   "metadata": {},
   "outputs": [],
   "source": [
    "phi"
   ]
  },
  {
   "cell_type": "code",
   "execution_count": null,
   "metadata": {},
   "outputs": [],
   "source": [
    "A-B"
   ]
  },
  {
   "cell_type": "code",
   "execution_count": null,
   "metadata": {},
   "outputs": [],
   "source": [
    "(u[2]-u[1])*dy + (v[2]-v[1])*dx"
   ]
  },
  {
   "cell_type": "code",
   "execution_count": null,
   "metadata": {},
   "outputs": [],
   "source": [
    "rho = 1.\n",
    "gamma = 0.01\n",
    "nxx = 101      # velocity nodes\n",
    "nx = nxx - 1  # centroid nodes \n",
    "nyy = 101      \n",
    "ny = nyy - 1\n",
    "Lx = 1.\n",
    "Ly = 1.\n",
    "dx = Lx/nx\n",
    "dy = Ly/ny\n",
    "x = np.linspace(0+dx/2, Lx-dx/2, nx)\n",
    "y = np.linspace(0+dy/2, Ly-dy/2, ny)\n",
    "eps = 1e-6\n",
    "phi_west = np.zeros(ny)\n",
    "phi_west = -y/Ly + 1\n",
    "n_iter =1\n",
    "xx = np.linspace(0, Lx, nxx)\n",
    "yy = np.linspace(0, Ly, nyy)\n",
    "A = np.zeros((nx,ny))\n",
    "B = np.zeros((nx,ny))\n",
    "phi = np.zeros((nx, ny))\n",
    "u = xx\n",
    "v = -yy\n",
    "for step in range(n_iter):\n",
    "    \n",
    "    # Internal nodes excluding the boundaries\n",
    "    for i in range(1, nx-1):\n",
    "        for j in range (1, ny-1):\n",
    "            A[i,j] = rho/2*((u[i+1]-u[i])*dy + (v[j+1]-v[j])*dx) + eps\n",
    "            B[i,j] = gamma*(-dy/(x[i+1]-x[i]) - dy/(x[i]-x[i-1]) - dx/(y[j+1]-y[j]) - dx/(y[i]-y[i-1]))\n",
    "            phi[i,j] = 1/(A[i,j]-B[i,j])*(gamma*(phi[i+1,j]*dy/(x[i+1]-x[i]) + phi[i-1,j]*dy/(x[i]-x[i-1]) + phi[i,j+1]*dx/(y[j+1]-y[j]) + phi[i,j-1]*dx/(y[j]-y[j-1])) -\n",
    "                                         rho/2*((u[i+1]*phi[i+1,j] - u[i]*phi[i-1,j])*dy - (v[j+1]*phi[i,j+1] - v[j]*phi[i,j-1])*dx))\n",
    "    # West boundary \n",
    "    for j in range(ny):\n",
    "        A[0,j] = rho/2*((u[1]-u[0])*dy + (v[j+1]-v[j])*dx) + eps\n",
    "        if j == 0:\n",
    "            B[0,j] = gamma*(-dy/(x[1]-x[0]) - dy/(x[0]-xx[0]) - dx/(y[j+1]-y[j]) - dx/(y[j]-yy[j]))\n",
    "        elif j == ny-1:\n",
    "            B[0,j] = gamma*(-dy/(x[1]-x[0]) - dy/(x[0]-xx[0]) - dx/(yy[j+1]-y[j]) - dx/(y[j]-y[j-1]))\n",
    "        else:\n",
    "            B[0,j] = gamma*(-dy/(x[1]-x[0]) - dy/(x[0]-xx[0]) - dx/(y[j+1]-y[j]) - dx/(y[j]-y[j-1]))\n",
    "    for j in range(ny):\n",
    "        if j == 0:\n",
    "            phi[0,j] = 1/(A[0,j]-B[0,j])*(gamma*(phi[1,j]*dy/(x[1]-x[0]) + phi_west[j]*dy/(x[0]-xx[0]) + \n",
    "                                       phi[0,j+1]*dy/(y[j+1]-y[j]) + phi[0,j]*dy/(y[j]-yy[0])) -\n",
    "                                          rho/2*((u[1]*phi[1,j]-0)*dy + (v[j+1]*phi[0,j+1]-v[j]*phi[0,j])*dx))\n",
    "        elif j == ny-1:\n",
    "            phi[0,j] = 1/(A[0,j]-B[0,j])*(gamma*(phi[1,j]*dy/(x[1]-x[0]) + phi_west[j]*dy/(x[0]-xx[0]) + \n",
    "                                       0*dy/(yy[-1]-y[j]) + phi[0,j-1]/(y[j]-y[j-1])) -\n",
    "                                         rho/2*((u[1]*phi[1,j]-u[0]*phi_west[j])*dy + (v[j+1]*0-v[j]*phi[0,j-1])*dx))\n",
    "        else:\n",
    "            phi[0,j] = 1/(A[0,j]-B[0,j]) *(gamma*(phi[1,j]*dy/(x[1]-x[0]) + phi_west[j]*dy/(x[0]-xx[0]) + \n",
    "                                        phi[0,j+1]*dx/(y[j+1]-y[j]) + phi[0,j-1]*dx/(y[j]-y[j-1])) -\n",
    "                                          rho/2*((u[1]*phi[1,j]-u[0]*phi_west[j])*dy + (v[j+1]*phi[0,j+1]-v[j]*phi[0,j-1])*dx))\n",
    "            \n",
    "            \n",
    "    # North boundary, y = Ly VERIFIED\n",
    "    for i in range(nx):\n",
    "        A[i,-1] = rho/2*((u[i+1]-u[i])*dy + (v[-1]-v[-2])*dx) + eps\n",
    "        if i == 0:\n",
    "            B[i,-1] = gamma*(-dy/(x[i+1]-x[i]) - dy/(x[i]-xx[i]) - dx/(yy[-1]-y[-1]) - dx/(y[-1]-y[-2])) \n",
    "        elif i == nx-1:\n",
    "            B[i,-1] = gamma*(-dy/(xx[i]-x[i]) - dy/(x[i]-x[i-1]) - dx/(yy[-1]-y[-1]) - dx/(y[-1]-y[-2]))\n",
    "        else:\n",
    "            B[i,-1] = gamma*(-dy/(x[i+1]-x[i]) - dy/(x[i]-x[i-1]) - dx/(yy[-1]-y[-1]) - dx/(y[-1]-y[-2])) \n",
    "\n",
    "    for i in range(nx):\n",
    "        if i == 0:\n",
    "            phi[i,-1] = 1/(A[i,-1]-B[i,-1])*(gamma*(phi[i+1,-1]*dy/(x[i+1]-x[0]) + phi_west[-1]*dy/(x[i]-xx[i]) + phi[i,-2]*dx/(y[-1]-y[-2])) -\n",
    "                                               rho/2*(u[i+1]*phi[i+1,-1]*dy - u[i]*phi_west[-1]*dy - v[-2]*phi[i,-2]*dx))\n",
    "        elif i == nx-1:\n",
    "            phi[i,-1] = 1/(A[i,-1]-B[i,-1])*(gamma*(phi[i,-1]*dy/(xx[i]-x[i]) + phi[i-1,-1]*dy/(x[i]-x[i-1]) + phi[i,-2]*dx/(y[-1]-y[-2])) -\n",
    "                                               rho/2*(u[i+1]*phi[i,-1]*dy - u[i]*phi[i-1,-1]*dy - v[-2]*phi[i,-2]*dx))\n",
    "        else:\n",
    "            phi[i,-1] = 1/(A[i,-1]-B[i,-1])*(gamma*(phi[i+1,-1]*dy/(x[i+1]-x[i]) + phi[i-1,-1]*dy/(x[i]-x[i-1]) + phi[i,-2]*dx/(y[-1]-y[-2])) -\n",
    "                                               rho/2*(u[i+1]*phi[i+1,-1]*dy - u[i]*phi[i-1,-1]*dy - v[-2]*phi[i,-2]*dx))\n",
    "            \n",
    "    # East boundary, x = Lx, no gradient VERIFIED\n",
    "    for j in range(ny):\n",
    "        A[-1,j] = rho/2*((u[-1]-u[-2])*dx + (v[j+1]-v[j])*dx) + eps\n",
    "        if j == 0:\n",
    "            # No gradient at east or south boundaries\n",
    "            B[-1,j] = gamma*(-0*dy/(xx[-1]-x[-1]) - dy/(x[-1]-x[-2]) - dx/(y[j+1]-y[j]) - 0*dx/(y[j]-yy[j]))\n",
    "        elif j == ny-1:\n",
    "            B[-1,j] = gamma*(-0*dy/(xx[-1]-x[-1]) - dy/(x[-1]-x[-2]) - dx/(yy[j]-y[j]) - dx/(y[j]-y[j-1])) \n",
    "        else:\n",
    "            B[-1,j] = gamma*(-0*dy/(xx[-1]-x[-1]) - dy/(x[-1]-x[-2]) - dx/(y[j+1]-y[j]) - dx/(y[j]-y[j-1])) \n",
    "\n",
    "    for j in range(ny):\n",
    "        if j == 0:\n",
    "            # No gradient at east or south boundaries\n",
    "            phi[-1,j] = 1/(A[-1,j]-B[-1,j])*(gamma*(0*dy/(xx[-1]-x[-1]) + phi[-2,j]*dy/(x[-1]-x[-2]) + phi[-1,j+1]*dx/(y[j+1]-y[j]) + 0*dx/(y[j]-yy[j])) -\n",
    "                                        rho/2*(u[-1]*phi[-1,j]*dy - u[-2]*phi[-2,j]*dy + v[j+1]*phi[-1,j+1]*dx - v[j]*phi[-1,j]*dx))\n",
    "        elif j == ny-1:\n",
    "            # Prescribed zero phi condition on north boundary\n",
    "            phi[-1,j] = 1/(A[-1,j]-B[-1,j])*(gamma*(phi[-1,j]*dy/(xx[-1]-x[-1]) + phi[-2,j]*dy/(x[-1]-x[-2]) + 0*dx/(yy[j]-y[j]) + phi[-1,j-1]*dx/(y[j]-y[j-1])) -\n",
    "                                        rho/2*(u[-1]*phi[-1,j]*dy - u[-2]*phi[-2,j]*dy + v[j+1]*0*dx - v[j]*phi[-1,j-1]*dx))\n",
    "        else:\n",
    "            phi[-1,j] = 1/(A[-1,j]-B[-1,j])*(gamma*(phi[-1,j]*dy/(xx[-1]-x[-1]) + phi[-2,j]*dy/(x[-1]-x[-2]) + phi[-1,j+1]*dx/(y[j+1]-y[j]) + phi[-1,j-1]*dx/(y[j]-y[j-1])) -\n",
    "                                            rho/2*(u[-1]*phi[-1,j]*dy - u[-2]*phi[-2,j]*dy + v[j+1]*phi[-1,j+1]*dx - v[j]*phi[-1,j-1]*dx)) \n",
    "\n",
    "    # South boundary, y = 0, no gradient\n",
    "    for i in range(nx):\n",
    "        A[i,0] = rho/2*((u[i+1]-u[1])*dy + (v[-1]-v[-2])*dx) + eps\n",
    "        if i == 0:\n",
    "            B[i,0] = gamma*(-dy/(x[i+1]-x[i]) - dy/(x[i]-xx[i]) - dx/(y[1]-y[0]) - 0*dx/(y[0]-yy[0]))\n",
    "        elif i == nx-1:\n",
    "            B[i,0] = gamma*(-dy/(xx[i]-x[i]) - dy/(x[i]-x[i-1]) - dx/(y[1]-y[0]) - 0*dx/(y[0]-yy[0]))\n",
    "        else:\n",
    "            B[i,0] = gamma*(-dy/(x[i+1]-x[i]) - dy/(x[i]-x[i-1]) - dx/(y[1]-y[0]) - 0*dx/(y[0]-yy[0]))\n",
    "\n",
    "    for i in range(nx):\n",
    "        if i == 0:\n",
    "            phi[i,0] = 1/(A[i,0]-B[i,0])*(gamma*(phi[i+1,0]*dy/(x[i+1]-x[i]) + phi_west[0]*dy/(x[i]-xx[i]) + phi[i,1]*dx/(y[1]-y[0]) + 0*dx/(y[0]-yy[0])) - \n",
    "                                          rho/2*((u[i+1]*phi[i+1,0] - u[i]*phi_west[0])*dy + v[1]*phi[i,1]*dx - v[0]*phi[i,0]*dx))\n",
    "        elif i == nx-1:\n",
    "            phi[i,0] = 1/(A[i,0]-B[i,0])*(gamma*(phi[i,0]*dy/(xx[i]-x[i]) + phi[i-1,0]*dy/(x[i]-x[i-1]) + phi[i,1]*dx/(y[1]-y[0]) + 0*dx/(y[0]-yy[0])) - \n",
    "                                          rho/2*((u[i+1]*phi[i,0] - u[i]*phi[i-1,0])*dy + v[1]*phi[i,1]*dx - v[0]*phi[i,0]*dx))\n",
    "        else:\n",
    "            phi[i,0] = 1/(A[i,0]-B[i,0])*(gamma*(phi[i+1,0]*dy/(x[i+1]-x[i]) + phi[i-1,0]*dy/(x[i]-x[i-1]) + phi[i,1]*dx/(y[1]-y[0]) + 0*dx/(y[0]-yy[0])) - \n",
    "                                          rho/2*((u[i+1]*phi[i+1,0] - u[i]*phi[i-1,0])*dy + v[1]*phi[i,1]*dx - v[0]*phi[i,0]*dx))\n",
    "    print(f'Step: {step}')"
   ]
  },
  {
   "cell_type": "code",
   "execution_count": null,
   "metadata": {},
   "outputs": [],
   "source": [
    "phi"
   ]
  },
  {
   "cell_type": "code",
   "execution_count": null,
   "metadata": {},
   "outputs": [],
   "source": [
    "X, Y = np.meshgrid(x, y)"
   ]
  },
  {
   "cell_type": "code",
   "execution_count": null,
   "metadata": {},
   "outputs": [],
   "source": [
    "abs(A-B).min()"
   ]
  },
  {
   "cell_type": "code",
   "execution_count": null,
   "metadata": {},
   "outputs": [],
   "source": [
    "yy[0]"
   ]
  },
  {
   "cell_type": "code",
   "execution_count": 67,
   "metadata": {},
   "outputs": [],
   "source": [
    "rho = 1.\n",
    "gamma = 0.01\n",
    "nxx = 101      # velocity nodes\n",
    "nx = nxx - 1  # centroid nodes \n",
    "nyy = 101      \n",
    "ny = nyy - 1\n",
    "Lx = 1.\n",
    "Ly = 1.\n",
    "dx = Lx/nx\n",
    "dy = Ly/ny\n",
    "x = np.linspace(0+dx/2, Lx-dx/2, nx)\n",
    "y = np.linspace(0+dy/2, Ly-dy/2, ny)\n",
    "eps = 1e-6\n",
    "phi_west = np.zeros(ny)\n",
    "phi_west = -y/Ly + 1\n",
    "xx = np.linspace(0, Lx, nxx)\n",
    "yy = np.linspace(0, Ly, nyy)\n",
    "Ac_E = np.zeros((nx,ny))\n",
    "Ac_W = np.zeros((nx,ny))\n",
    "Ac_N = np.zeros((nx,ny))\n",
    "Ac_S = np.zeros((nx,ny))\n",
    "Ac_P = np.zeros((nx,ny))\n",
    "Ad_E = np.zeros((nx,ny))\n",
    "Ad_W = np.zeros((nx,ny))\n",
    "Ad_N = np.zeros((nx,ny))\n",
    "Ad_S = np.zeros((nx,ny))\n",
    "Ad_P = np.zeros((nx,ny))\n",
    "At_E = np.zeros((nx,ny))\n",
    "At_W = np.zeros((nx,ny))\n",
    "At_N = np.zeros((nx,ny))\n",
    "At_S = np.zeros((nx,ny))\n",
    "At_P = np.zeros((nx,ny))\n",
    "phi = np.zeros((nx, ny))\n",
    "u = xx\n",
    "v = -yy\n",
    "lam_w = np.zeros((nx,ny))\n",
    "lam_e = np.zeros((nx,ny))\n",
    "lam_n = np.zeros((nx,ny))\n",
    "lam_s = np.zeros((nx,ny))\n",
    "m_w = np.zeros((nx,ny))\n",
    "m_e = np.zeros((nx,ny))\n",
    "m_n = np.zeros((nx,ny))\n",
    "m_s = np.zeros((nx,ny))\n",
    "\n",
    "nsteps = 5000\n",
    "\n",
    "# Internal nodes excluding the boundaries VERIFIED\n",
    "for i in range(1, nx-1):\n",
    "    for j in range (1, ny-1):\n",
    "        # Calculate convection coefficients\n",
    "        lam_w[i,j] = (xx[i] - x[i])/(x[i-1] - x[i])\n",
    "        lam_e[i,j] = (xx[i+1] - x[i])/(x[i+1] - x[i])\n",
    "        lam_n[i,j] = (yy[j+1] - y[j])/(y[j+1] - y[j])\n",
    "        lam_s[i,j] = (yy[j] - y[j])/(y[j-1] - y[j])\n",
    "        m_w[i,j] = rho*u[i]*dy\n",
    "        m_e[i,j] = rho*u[i+1]*dy\n",
    "        m_n[i,j] = rho*v[j+1]*dx\n",
    "        m_s[i,j] = rho*v[j]*dx\n",
    "        Ac_E[i,j] = m_e[i,j]*lam_e[i,j]\n",
    "        Ac_W[i,j] = m_w[i,j]*lam_w[i,j]\n",
    "        Ac_N[i,j] = m_n[i,j]*lam_n[i,j]\n",
    "        Ac_S[i,j] = m_s[i,j]*lam_s[i,j]\n",
    "\n",
    "        # Calculate diffusion coefficients\n",
    "        Ad_E[i,j] = -gamma*dy/(x[i+1]-x[i])\n",
    "        Ad_W[i,j] = -gamma*dy/(x[i]-x[i-1])\n",
    "        Ad_N[i,j] = -gamma*dx/(y[j+1]-y[j])\n",
    "        Ad_S[i,j] = -gamma*dx/(y[j]-y[j-1])"
   ]
  },
  {
   "cell_type": "markdown",
   "metadata": {},
   "source": [
    "# Boundary Conditions\n",
    "\n",
    "The corner nodes have overlap from the boundaries, and so they are additive (i.e. I use the $+=$ operator)."
   ]
  },
  {
   "cell_type": "code",
   "execution_count": 68,
   "metadata": {},
   "outputs": [],
   "source": [
    "# West boundary, prescribed phi using a half-interval VERIFIED\n",
    "for j in range(ny):\n",
    "    i = 0\n",
    "    lam_w[i,j] = (xx[i]-x[i])/(xx[i]-x[i])\n",
    "    lam_e[i,j] = (xx[i+1]-x[i])/(x[i+1]-x[i])\n",
    "    m_w[i,j] = rho*u[i]*dy   # Zero velocity on wall, so calculate west first\n",
    "    m_e[i,j] = rho*u[i+1]*dy\n",
    "    if j == 0:  ## SW corner node ##\n",
    "        lam_s[i,j] = (yy[j]-y[j])/(yy[j]-y[j])\n",
    "        lam_n[i,j] = (yy[j+1]-y[j])/(y[j+1]-y[j])\n",
    "        m_n[i,j] += rho*v[j+1]*dx\n",
    "        m_s[i,j] += rho*v[j]*dx\n",
    "        Ac_N[i,j] += m_n[i,j]*lam_n[i,j]\n",
    "        Ac_S[i,j] += m_s[i,j]*lam_s[i,j]\n",
    "        Ac_E[i,j] += m_e[i,j]*lam_e[i,j]\n",
    "        Ac_W[i,j] += m_w[i,j]*lam_w[i,j]\n",
    "        \n",
    "        Ad_S[i,j] += -gamma*dx/(y[j]-yy[j])\n",
    "        Ad_E[i,j] += -gamma*dy/(x[i+1]-x[i])\n",
    "        Ad_W[i,j] += -gamma*dy/(x[i]-xx[i])\n",
    "        Ad_N[i,j] += -gamma*dx/(y[j+1]-y[j])\n",
    "    elif j == ny-1:  ## NW corner node ##\n",
    "        lam_n[i,j] = (yy[j+1]-y[j])/(yy[j+1]-y[j])\n",
    "        lam_s[i,j] = (yy[j]-y[j])/(y[j-1]-y[j])\n",
    "        m_n[i,j] += rho*v[j+1]*dx\n",
    "        m_s[i,j] += rho*v[j]*dx\n",
    "        Ac_N[i,j] += m_n[i,j]*lam_n[i,j]\n",
    "        Ac_S[i,j] += m_s[i,j]*lam_s[i,j]\n",
    "        Ac_E[i,j] += m_e[i,j]*lam_e[i,j]\n",
    "        Ac_W[i,j] += m_w[i,j]*lam_w[i,j]\n",
    "        \n",
    "        Ad_N[i,j] += -gamma*dx/(yy[j+1]-y[j])\n",
    "        Ad_E[i,j] += -gamma*dy/(x[i+1]-x[i])\n",
    "        Ad_W[i,j] += -gamma*dy/(x[i]-xx[i])\n",
    "        Ad_S[i,j] += -gamma*dx/(y[j]-y[j-1])\n",
    "    else:\n",
    "        lam_n[i,j] = (yy[j+1]-y[j])/(y[j+1]-y[j])\n",
    "        lam_s[i,j] = (yy[j]-y[j])/(y[j-1]-y[j])\n",
    "        m_n[i,j] = rho*v[j+1]*dx\n",
    "        m_s[i,j] = rho*v[j]*dx\n",
    "        \n",
    "        # Convection coefficients\n",
    "        Ac_E[i,j] = m_e[i,j]*lam_e[i,j]\n",
    "        Ac_W[i,j] = m_w[i,j]*lam_w[i,j]\n",
    "        Ac_N[i,j] = m_n[i,j]*lam_n[i,j]\n",
    "        Ac_S[i,j] = m_s[i,j]*lam_s[i,j]\n",
    "\n",
    "        # Diffusion coefficients\n",
    "        Ad_E[i,j] = -gamma*dy/(x[i+1]-x[i])\n",
    "        Ad_W[i,j] = -gamma*dy/(x[i]-xx[i])\n",
    "        Ad_N[i,j] = -gamma*dx/(y[j+1]-y[j])\n",
    "        Ad_S[i,j] = -gamma*dx/(y[j]-y[j-1])"
   ]
  },
  {
   "cell_type": "code",
   "execution_count": 69,
   "metadata": {},
   "outputs": [],
   "source": [
    "# North boundary, prescribed phi using a half-interval \n",
    "for i in range(nx):\n",
    "    j = -1\n",
    "    lam_n[i,j] = (yy[j+1]-y[j])/(yy[j+1]-y[j])\n",
    "    lam_s[i,j] = (yy[j]-y[j])/(y[j-1]-y[j])\n",
    "    m_n[i,j] = rho*v[j+1]*dx\n",
    "    m_s[i,j] = rho*v[j]*dx\n",
    "    if i == 0: ## NW corner node ##\n",
    "        lam_w[i,j] = (xx[i]-x[i])/(xx[i]-x[i])\n",
    "        lam_e[i,j] = (xx[i+1]-x[i])/(x[i+1]-x[i])\n",
    "        m_w[i,j] += rho*u[i]*dy\n",
    "        m_e[i,j] += rho*u[i+1]*dy\n",
    "        Ac_N[i,j] += m_n[i,j]*lam_n[i,j]\n",
    "        Ac_S[i,j] += m_s[i,j]*lam_s[i,j]\n",
    "        Ac_E[i,j] += m_e[i,j]*lam_e[i,j]\n",
    "        Ac_W[i,j] += m_w[i,j]*lam_w[i,j]\n",
    "        \n",
    "        Ad_W[i,j] += -gamma*dy/(x[i]-xx[i])\n",
    "        Ad_E[i,j] += -gamma*dy/(x[i+1]-x[i])\n",
    "        Ad_N[i,j] += -gamma*dx/(yy[j+1]-y[j])\n",
    "        Ad_S[i,j] += -gamma*dx/(y[j]-y[j-1])\n",
    "    elif i == nx-1: ## NE corner node ##\n",
    "        lam_e[i,j] = (xx[i+1]-x[i])/(xx[i+1]-x[i])\n",
    "        lam_w[i,j] = (xx[i]-x[i])/(x[i-1]-x[i])\n",
    "        m_e[i,j] += rho*u[i+1]*dy\n",
    "        m_w[i,j] += rho*u[i]*dy\n",
    "        Ac_E[i,j] += m_e[i,j]*lam_e[i,j]\n",
    "        Ac_W[i,j] += m_w[i,j]*lam_w[i,j]\n",
    "        Ac_N[i,j] += m_n[i,j]*lam_n[i,j]\n",
    "        Ac_S[i,j] += m_s[i,j]*lam_s[i,j]\n",
    "        \n",
    "        Ad_E[i,j] += -gamma*dy/(xx[i+1]-x[i])\n",
    "        Ad_W[i,j] += -gamma*dy/(x[i]-x[i-1])\n",
    "        Ad_N[i,j] += -gamma*dx/(yy[j+1]-y[j])\n",
    "        Ad_S[i,j] += -gamma*dx/(y[j]-y[j-1])\n",
    "    else:\n",
    "        # Convection coefficients\n",
    "        lam_w[i,j] = (xx[i] - x[i])/(x[i-1] - x[i])\n",
    "        lam_e[i,j] = (xx[i+1] - x[i])/(x[i+1] - x[i])\n",
    "        m_w[i,j] = rho*u[i]*dy\n",
    "        m_e[i,j] = rho*u[i+1]*dy\n",
    "        Ac_E[i,j] = m_e[i,j]*lam_e[i,j]\n",
    "        Ac_W[i,j] = m_w[i,j]*lam_w[i,j]\n",
    "        Ac_N[i,j] = m_n[i,j]*lam_n[i,j]\n",
    "        Ac_S[i,j] = m_s[i,j]*lam_s[i,j]\n",
    "        \n",
    "        # Diffusion coefficients\n",
    "        Ad_E[i,j] = -gamma*dy/(x[i+1]-x[i])\n",
    "        Ad_W[i,j] = -gamma*dy/(x[i]-x[i-1])\n",
    "        Ad_N[i,j] = -gamma*dx/(yy[j+1]-y[j])\n",
    "        Ad_S[i,j] = -gamma*dx/(y[j]-y[j-1])"
   ]
  },
  {
   "cell_type": "code",
   "execution_count": 70,
   "metadata": {},
   "outputs": [],
   "source": [
    "# East boundary, zero gradient\n",
    "for j in range(ny):\n",
    "    i = -1\n",
    "    lam_e[i,j] = (xx[i+1]-x[i])/(xx[i+1]-x[i])\n",
    "    lam_w[i,j] = (xx[i]-x[i])/(x[i-1]-x[i])\n",
    "    m_e[i,j] = rho*u[i+1]*dy\n",
    "    m_w[i,j] = rho*u[i]*dy\n",
    "    if j == 0: # SE corner node ##\n",
    "        lam_s[i,j] = (yy[j]-y[j])/(yy[j]-y[j])\n",
    "        lam_n[i,j] = (yy[j+1]-y[j])/(y[j+1]-y[j])\n",
    "        m_s[i,j] += rho*v[j]*dx\n",
    "        m_n[i,j] += rho*v[j+1]*dx\n",
    "        Ac_E[i,j] += m_e[i,j]*lam_e[i,j]\n",
    "        Ac_W[i,j] += m_w[i,j]*lam_w[i,j]\n",
    "        Ac_N[i,j] += m_n[i,j]*lam_n[i,j]\n",
    "        Ac_S[i,j] += m_s[i,j]*lam_s[i,j]\n",
    "        \n",
    "        Ad_S[i,j] += -gamma*dx/(y[j]-yy[j])\n",
    "        Ad_E[i,j] += 0.\n",
    "        Ad_W[i,j] += -gamma*dy/(x[i]-x[i-1])\n",
    "        Ad_N[i,j] += -gamma*dx/(y[j+1]-y[j])\n",
    "    elif j == nx-1: ## NE corner node ##\n",
    "        lam_n[i,j] = (yy[j+1]-y[j])/(yy[j+1]-y[j])\n",
    "        lam_s[i,j] = (yy[j]-y[j])/(y[j-1]-y[j])\n",
    "        m_n[i,j] += rho*v[j+1]*dx\n",
    "        m_s[i,j] += rho*v[j]*dx\n",
    "        Ac_E[i,j] += m_e[i,j]*lam_e[i,j]\n",
    "        Ac_W[i,j] += m_w[i,j]*lam_w[i,j]\n",
    "        Ac_N[i,j] += m_n[i,j]*lam_n[i,j]\n",
    "        Ac_S[i,j] += m_s[i,j]*lam_s[i,j]\n",
    "        \n",
    "        Ad_N[i,j] += -gamma*dx/(yy[j+1]-y[j])\n",
    "        Ad_E[i,j] += 0.\n",
    "        Ad_W[i,j] += -gamma*dy/(x[i]-x[i-1])\n",
    "        Ad_S[i,j] += -gamma*dx/(y[j]-y[j-1])\n",
    "    else:\n",
    "        # Convection coefficients\n",
    "        lam_n[i,j] = (yy[j+1]-y[j])/(y[j+1]-y[j])\n",
    "        lam_s[i,j] = (yy[j]-y[j])/(y[j-1]-y[j])\n",
    "        m_n[i,j] = rho*v[j+1]*dx\n",
    "        m_s[i,j] = rho*v[j]*dx\n",
    "        Ac_E[i,j] = m_e[i,j]*lam_e[i,j]\n",
    "        Ac_W[i,j] = m_w[i,j]*lam_w[i,j]\n",
    "        Ac_N[i,j] = m_n[i,j]*lam_n[i,j]\n",
    "        Ac_S[i,j] = m_s[i,j]*lam_s[i,j]\n",
    "        \n",
    "        # Diffusion coefficients\n",
    "        Ad_E[i,j] = 0.\n",
    "        Ad_W[i,j] = -gamma*dy/(x[i]-x[i-1])\n",
    "        Ad_N[i,j] = -gamma*dx/(y[j+1]-y[j])\n",
    "        Ad_S[i,j] = -gamma*dx/(y[j]-y[j-1])"
   ]
  },
  {
   "cell_type": "code",
   "execution_count": 71,
   "metadata": {},
   "outputs": [],
   "source": [
    "# South boundary, zero gradient\n",
    "for i in range(nx):\n",
    "    j = 0\n",
    "    lam_s[i,j] = (yy[j]-y[j])/(yy[j]-y[j])\n",
    "    lam_n[i,j] = (yy[j+1]-y[j])/(y[j+1]-y[j])\n",
    "    m_s[i,j] = rho*v[j]*dx\n",
    "    m_n[i,j] = rho*v[j+1]*dx\n",
    "    if i == 0: ## SW corner node ##\n",
    "        lam_w[i,j] = (xx[i]-x[i])/(xx[i]-x[i])\n",
    "        lam_e[i,j] = (xx[i+1]-x[i])/(x[i+1]-x[i])\n",
    "        m_w[i,j] += rho*u[i]*dy\n",
    "        m_e[i,j] += rho*u[i+1]*dy\n",
    "        Ac_E[i,j] += m_e[i,j]*lam_e[i,j]\n",
    "        Ac_W[i,j] += m_w[i,j]*lam_w[i,j]\n",
    "        Ac_N[i,j] += m_n[i,j]*lam_n[i,j]\n",
    "        Ac_S[i,j] += m_s[i,j]*lam_s[i,j]\n",
    "        \n",
    "        Ad_W[i,j] += -gamma*dx/(x[i]-xx[i])\n",
    "        Ad_S[i,j] += 0.\n",
    "        Ad_N[i,j] += -gamma*dx/(y[j+1]-y[j])\n",
    "        Ad_E[i,j] += -gamma*dy/(x[i+1]-x[i])\n",
    "        \n",
    "    elif i == nx-1: ## SE corner node ##\n",
    "        lam_e[i,j] = (xx[i+1]-x[i])/(xx[i+1]-x[i])\n",
    "        lam_w[i,j] = (xx[i]-x[i])/(x[i-1]-x[i])\n",
    "        m_e[i,j] += rho*u[i+1]*dy\n",
    "        m_w[i,j] += rho*u[i]*dy\n",
    "        Ac_E[i,j] += m_e[i,j]*lam_e[i,j]\n",
    "        Ac_W[i,j] += m_w[i,j]*lam_w[i,j]\n",
    "        Ac_N[i,j] += m_n[i,j]*lam_n[i,j]\n",
    "        Ac_S[i,j] += m_s[i,j]*lam_s[i,j]\n",
    "        \n",
    "        Ad_E[i,j] += -gamma*dx/(xx[i+1]-x[i])\n",
    "        Ad_S[i,j] = 0.\n",
    "        Ad_W[i,j] += -gamma*dy/(x[i]-x[i-1])\n",
    "        Ad_N[i,j] += -gamma*dx/(y[j+1]-y[j])\n",
    "    else:\n",
    "        # Convection coefficients\n",
    "        lam_e[i,j] = (xx[i+1]-x[i])/(x[i+1]-x[i])\n",
    "        lam_w[i,j] = (xx[i]-x[i])/(x[i-1]-x[i])\n",
    "        m_e[i,j] = rho*u[i+1]*dy\n",
    "        m_w[i,j] = rho*u[i]*dy\n",
    "        Ac_E[i,j] = m_e[i,j]*lam_e[i,j]\n",
    "        Ac_W[i,j] = m_w[i,j]*lam_w[i,j]\n",
    "        Ac_N[i,j] = m_n[i,j]*lam_n[i,j]\n",
    "        Ac_S[i,j] = m_s[i,j]*lam_s[i,j]\n",
    "        \n",
    "        # Diffusion coefficients\n",
    "        Ad_S[i,j] = 0.\n",
    "        Ad_W[i,j] = -gamma*dy/(x[i]-x[i-1])\n",
    "        Ad_N[i,j] = -gamma*dx/(y[j+1]-y[j])\n",
    "        Ad_E[i,j] = -gamma*dy/(x[i+1]-x[i])"
   ]
  },
  {
   "cell_type": "code",
   "execution_count": 72,
   "metadata": {},
   "outputs": [],
   "source": [
    "# Totals\n",
    "Ad_P = -(Ad_E + Ad_W + Ad_N + Ad_S)\n",
    "Ac_P = -(Ac_E + Ac_W + Ac_N + Ac_S)\n",
    "At_E = Ac_E + Ad_E\n",
    "At_W = Ac_W + Ad_W\n",
    "At_N = Ac_N + Ad_N\n",
    "At_S = Ac_S + Ad_S\n",
    "At_P = Ac_P + Ad_P"
   ]
  },
  {
   "cell_type": "code",
   "execution_count": null,
   "metadata": {},
   "outputs": [],
   "source": [
    "for step in range(nsteps):    \n",
    "    phi_old = np.copy(phi)\n",
    "    # Interior node phi calculation\n",
    "    for i in range(1, nx-1):\n",
    "        for j in range (1, ny-1):\n",
    "            phi[i,j] = -(At_W[i,j]*phi[i-1,j] + At_E[i,j]*phi[i+1,j] + At_N[i,j]*phi[i,j+1] + At_S[i,j]*phi[i,j-1])/At_P[i,j]\n",
    "\n",
    "    # West boundary phi calculation\n",
    "    for j in range(ny):\n",
    "        i = 0\n",
    "        if j == 0:\n",
    "            phi[i,j] = -(At_W[i,j]*phi_west[j] + At_E[i,j]*phi[i+1,j] + At_N[i,j]*phi[i,j+1])/(At_P[i,j]+At_S[i,j])\n",
    "        elif j == ny-1:\n",
    "            phi[i,j] = -(At_W[i,j]*phi_west[j] + At_E[i,j]*phi[i+1,j] + At_N[i,j]*0*phi[i,j] + At_S[i,j]*phi[i,j-1])/At_P[i,j]\n",
    "        else:\n",
    "            phi[i,j] = -(At_W[i,j]*phi_west[j] + At_E[i,j]*phi[i+1,j] + At_N[i,j]*phi[i,j+1] + At_S[i,j]*phi[i,j-1])/At_P[i,j]\n",
    "\n",
    "    # North boundary phi calculation\n",
    "    for i in range(nx):\n",
    "        j = -1\n",
    "        if i == 0:\n",
    "            phi[i,j] = -(At_W[i,j]*phi_west[j] + At_E[i,j]*phi[i+1,j] + At_N[i,j]*0*phi[i,j] + At_S[i,j]*phi[i,j-1])/At_P[i,j]\n",
    "        elif i == nx-1:\n",
    "            phi[i,j] = -(At_W[i,j]*phi[i-1,j] + At_N[i,j]*0*phi[i,j] + At_S[i,j]*phi[i,j-1])/(At_P[i,j]+At_E[i,j])\n",
    "        else:\n",
    "            phi[i,j] = -(At_W[i,j]*phi[i-1,j] + At_E[i,j]*phi[i+1,j] + At_N[i,j]*0*phi[i,j] + At_S[i,j]*phi[i,j-1])/At_P[i,j]\n",
    "\n",
    "    # East boundary phi calculation\n",
    "    for j in range(ny):\n",
    "        i = -1\n",
    "        if j == 0:\n",
    "            phi[i,j] = -(At_W[i,j]*phi[i-1,j] + At_E[i,j]*phi[i,j] + At_N[i,j]*phi[i,j+1] + At_S[i,j]*phi[i,j])/(At_P[i,j]+At_E[i,j])\n",
    "        elif j == ny-1:\n",
    "            phi[i,j] = -(At_W[i,j]*phi[i-1,j] + At_N[i,j]*0*phi[i,j] + At_S[i,j]*phi[i,j-1])/(At_P[i,j]+At_E[i,j])\n",
    "        else:\n",
    "            phi[i,j] = -(At_W[i,j]*phi[i-1,j] + At_N[i,j]*phi[i,j+1] + At_S[i,j]*phi[i,j-1])/(At_P[i,j]+At_E[i,j])\n",
    "\n",
    "    # South boundary phi calculation\n",
    "    for i in range(nx):\n",
    "        j = 0\n",
    "        if i == 0:\n",
    "            phi[i,j] = -(At_W[i,j]*phi_west[j] + At_E[i,j]*phi[i+1,j] + At_N[i,j]*phi[i,j+1])/(At_P[i,j]+At_S[i,j])\n",
    "        elif i == nx-1:\n",
    "            phi[i,j] = -(At_W[i,j]*phi[i-1,j] + At_E[i,j]*phi[i,j] + At_N[i,j]*phi[i,j+1])/(At_P[i,j]+At_S[i,j])\n",
    "        else:\n",
    "            phi[i,j] = -(At_W[i,j]*phi[i-1,j] + At_E[i,j]*phi[i+1,j] + At_N[i,j]*phi[i,j+1])/(At_P[i,j]+At_S[i,j])"
   ]
  },
  {
   "cell_type": "code",
   "execution_count": null,
   "metadata": {},
   "outputs": [],
   "source": [
    "X, Y = np.meshgrid(x, y)\n",
    "XX, YY = np.meshgrid(xx, yy)\n",
    "plt.quiver(XX[::5,::5],YY[::5,::5], XX[::5,::5] , -YY[::5,::5])\n",
    "plt.colorbar()"
   ]
  },
  {
   "cell_type": "code",
   "execution_count": 66,
   "metadata": {},
   "outputs": [
    {
     "data": {
      "text/plain": [
       "Text(0, 0.5, 'Y')"
      ]
     },
     "execution_count": 66,
     "metadata": {},
     "output_type": "execute_result"
    },
    {
     "data": {
      "image/png": "[encoded data removed]",
      "text/plain": [
       "<Figure size 432x288 with 1 Axes>"
      ]
     },
     "metadata": {
      "image/png": {
       "height": 261,
       "width": 385
      },
      "needs_background": "light"
     },
     "output_type": "display_data"
    }
   ],
   "source": [
    "plt.contour(X.T, Y.T, phi, levels=10)\n",
    "plt.xlabel('X')\n",
    "plt.ylabel('Y')"
   ]
  },
  {
   "cell_type": "code",
   "execution_count": null,
   "metadata": {},
   "outputs": [],
   "source": [
    "At_P"
   ]
  },
  {
   "cell_type": "code",
   "execution_count": null,
   "metadata": {},
   "outputs": [],
   "source": [
    "Ac_W[:,-1]"
   ]
  },
  {
   "cell_type": "code",
   "execution_count": null,
   "metadata": {},
   "outputs": [],
   "source": [
    "dx"
   ]
  },
  {
   "cell_type": "code",
   "execution_count": null,
   "metadata": {},
   "outputs": [],
   "source": []
  }
 ],
 "metadata": {
  "kernelspec": {
   "display_name": "Python 3",
   "language": "python",
   "name": "python3"
  },
  "language_info": {
   "codemirror_mode": {
    "name": "ipython",
    "version": 3
   },
   "file_extension": ".py",
   "mimetype": "text/x-python",
   "name": "python",
   "nbconvert_exporter": "python",
   "pygments_lexer": "ipython3",
   "version": "3.7.6"
  }
 },
 "nbformat": 4,
 "nbformat_minor": 4
}
