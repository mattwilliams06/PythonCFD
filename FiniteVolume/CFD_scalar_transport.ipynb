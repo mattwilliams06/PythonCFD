{
  "nbformat": 4,
  "nbformat_minor": 0,
  "metadata": {
    "colab": {
      "name": "CFD_scalar_transport.ipynb",
      "provenance": []
    },
    "kernelspec": {
      "name": "python3",
      "display_name": "Python 3"
    },
    "accelerator": "TPU"
  },
  "cells": [
    {
      "cell_type": "code",
      "metadata": {
        "id": "gmoxYcM7fguO",
        "colab_type": "code",
        "colab": {}
      },
      "source": [
        "import numpy as np\n",
        "import matplotlib.pyplot as plt"
      ],
      "execution_count": 0,
      "outputs": []
    },
    {
      "cell_type": "code",
      "metadata": {
        "id": "51R5DLAFfqNA",
        "colab_type": "code",
        "colab": {}
      },
      "source": [
        "rho = 1.\n",
        "gamma = 0.01\n",
        "nxx = 101      # velocity nodes\n",
        "nx = nxx - 1  # centroid nodes \n",
        "nyy = 101      \n",
        "ny = nyy - 1\n",
        "Lx = 1.\n",
        "Ly = 1.\n",
        "dx = Lx/nx\n",
        "dy = Ly/ny\n",
        "x = np.linspace(0+dx/2, Lx-dx/2, nx)\n",
        "y = np.linspace(0+dy/2, Ly-dy/2, ny)\n",
        "eps = 1e-4\n",
        "phi_west = np.zeros(ny)\n",
        "phi_west = -y/Ly + 1 \n",
        "xx = np.linspace(0, Lx, nxx)\n",
        "yy = np.linspace(0, Ly, nyy)\n",
        "XX, YY = np.meshgrid(xx, yy)\n",
        "Ac_E = np.zeros((nx,ny))\n",
        "Ac_W = np.zeros((nx,ny))\n",
        "Ac_N = np.zeros((nx,ny))\n",
        "Ac_S = np.zeros((nx,ny))\n",
        "Ac_P = np.zeros((nx,ny))\n",
        "Ad_E = np.zeros((nx,ny))\n",
        "Ad_W = np.zeros((nx,ny))\n",
        "Ad_N = np.zeros((nx,ny))\n",
        "Ad_S = np.zeros((nx,ny))\n",
        "Ad_P = np.zeros((nx,ny))\n",
        "At_E = np.zeros((nx,ny))\n",
        "At_W = np.zeros((nx,ny))\n",
        "At_N = np.zeros((nx,ny))\n",
        "At_S = np.zeros((nx,ny))\n",
        "At_P = np.zeros((nx,ny))\n",
        "phi = np.zeros((nx, ny))\n",
        "u = xx\n",
        "v = -yy\n",
        "uu = XX.T\n",
        "vv = -YY.T\n",
        "lam_w = np.zeros((nx,ny))\n",
        "lam_e = np.zeros((nx,ny))\n",
        "lam_n = np.zeros((nx,ny))\n",
        "lam_s = np.zeros((nx,ny))\n",
        "m_w = np.zeros((nx,ny))\n",
        "m_e = np.zeros((nx,ny))\n",
        "m_n = np.zeros((nx,ny))\n",
        "m_s = np.zeros((nx,ny))\n",
        "\n",
        "err_tol = 1e-5\n",
        "nsteps = 500\n",
        "m_zeros = np.zeros((nx, ny))\n",
        "# Internal nodes excluding the boundaries VERIFIED\n",
        "for i in range(1, nx-1):\n",
        "    for j in range (1, ny-1):\n",
        "        # Calculate convection coefficients\n",
        "        lam_w[i,j] = (xx[i] - x[i])/(x[i-1] - x[i])\n",
        "        lam_e[i,j] = (xx[i+1] - x[i])/(x[i+1] - x[i])\n",
        "        lam_n[i,j] = (yy[j+1] - y[j])/(y[j+1] - y[j])\n",
        "        lam_s[i,j] = (yy[j] - y[j])/(y[j-1] - y[j])\n",
        "        m_w[i,j] = rho*uu[i,j]*dy\n",
        "        m_e[i,j] = rho*uu[i+1,j]*dy\n",
        "        m_n[i,j] = rho*vv[i,j+1]*dx\n",
        "        m_s[i,j] = rho*vv[i,j]*dx\n",
        "        Ac_E[i,j] = m_e[i,j]*lam_e[i,j]\n",
        "        Ac_W[i,j] = -m_w[i,j]*lam_w[i,j]\n",
        "        Ac_N[i,j] = m_n[i,j]*lam_n[i,j]\n",
        "        Ac_S[i,j] = -m_s[i,j]*lam_s[i,j]\n",
        "        #Ac_P[i,j] = \n",
        "\n",
        "        # Calculate diffusion coefficients\n",
        "        Ad_E[i,j] = gamma*dy/(x[i+1]-x[i])\n",
        "        Ad_W[i,j] = gamma*dy/(x[i]-x[i-1])\n",
        "        Ad_N[i,j] = gamma*dx/(y[j+1]-y[j])\n",
        "        Ad_S[i,j] = gamma*dx/(y[j]-y[j-1])"
      ],
      "execution_count": 0,
      "outputs": []
    },
    {
      "cell_type": "code",
      "metadata": {
        "id": "Nack89-vfyKy",
        "colab_type": "code",
        "colab": {}
      },
      "source": [
        "\n",
        "# West boundary, prescribed phi using a half-interval \n",
        "for j in range(ny):\n",
        "    i = 0\n",
        "    lam_w[i,j] = (xx[0]-x[0])/(xx[0]-x[0])\n",
        "    lam_e[i,j] = (xx[1]-x[0])/(x[1]-x[0])\n",
        "    m_w[i,j] = rho*uu[0,j]*dy   \n",
        "    m_e[i,j] = rho*uu[1,j]*dy\n",
        "    if j == 0:  ## SW corner node ##\n",
        "        lam_s[i,j] = (yy[j]-y[j])/(yy[j]-y[j])\n",
        "        lam_n[i,j] = (yy[j+1]-y[j])/(y[j+1]-y[j])\n",
        "        m_n[i,j] = rho*vv[0,j+1]*dx\n",
        "        m_s[i,j] = rho*vv[0,j]*dx\n",
        "        Ac_N[i,j] = m_n[i,j]*lam_n[i,j]\n",
        "        Ac_S[i,j] = -m_s[i,j]*lam_s[i,j]\n",
        "        Ac_E[i,j] = m_e[i,j]*lam_e[i,j]\n",
        "        Ac_W[i,j] = -m_w[i,j]*lam_w[i,j]\n",
        "        \n",
        "        Ad_S[i,j] = 0. #-gamma*dx/(y[j]-yy[j])\n",
        "        Ad_E[i,j] = gamma*dy/(x[1]-x[0])\n",
        "        Ad_W[i,j] = gamma*dy/(x[0]-xx[0])\n",
        "        Ad_N[i,j] = gamma*dx/(y[j+1]-y[j])\n",
        "    elif j == ny-1:  ## NW corner node ##\n",
        "        lam_n[i,j] = (yy[j+1]-y[j])/(yy[j+1]-y[j])\n",
        "        lam_s[i,j] = (yy[j]-y[j])/(y[j-1]-y[j])\n",
        "        m_n[i,j] = rho*vv[0,j+1]*dx\n",
        "        m_s[i,j] = rho*vv[0,j]*dx\n",
        "        Ac_N[i,j] = m_n[i,j]*lam_n[i,j]\n",
        "        Ac_S[i,j] = -m_s[i,j]*lam_s[i,j]\n",
        "        Ac_E[i,j] = m_e[i,j]*lam_e[i,j]\n",
        "        Ac_W[i,j] = -m_w[i,j]*lam_w[i,j]\n",
        "        \n",
        "        Ad_N[i,j] = gamma*dx/(yy[j+1]-y[j])\n",
        "        Ad_E[i,j] = gamma*dy/(x[i+1]-x[i])\n",
        "        Ad_W[i,j] = gamma*dy/(x[i]-xx[i])\n",
        "        Ad_S[i,j] = gamma*dx/(y[j]-y[j-1])\n",
        "    else:\n",
        "        lam_n[i,j] = (yy[j+1]-y[j])/(y[j+1]-y[j])\n",
        "        lam_s[i,j] = (yy[j]-y[j])/(y[j-1]-y[j])\n",
        "        m_n[i,j] = rho*vv[0,j+1]*dx\n",
        "        m_s[i,j] = rho*vv[0,j]*dx\n",
        "        \n",
        "        # Convection coefficients\n",
        "        Ac_E[i,j] = m_e[i,j]*lam_e[i,j]\n",
        "        Ac_W[i,j] = -m_w[i,j]*lam_w[i,j]\n",
        "        Ac_N[i,j] = m_n[i,j]*lam_n[i,j]\n",
        "        Ac_S[i,j] = -m_s[i,j]*lam_s[i,j]\n",
        "\n",
        "        # Diffusion coefficients\n",
        "        Ad_E[i,j] = gamma*dy/(x[1]-x[0])\n",
        "        Ad_W[i,j] = gamma*dy/(x[0]-xx[0])\n",
        "        Ad_N[i,j] = gamma*dx/(y[j+1]-y[j])\n",
        "        Ad_S[i,j] = gamma*dx/(y[j]-y[j-1])"
      ],
      "execution_count": 0,
      "outputs": []
    },
    {
      "cell_type": "code",
      "metadata": {
        "id": "l3lOSdfJf6v3",
        "colab_type": "code",
        "colab": {}
      },
      "source": [
        "# North boundary, prescribed phi using a half-interval \n",
        "for i in range(1,nx):\n",
        "    j = -1\n",
        "    lam_n[i,j] = (yy[-1]-y[-1])/(yy[-1]-y[-1])\n",
        "    lam_s[i,j] = (yy[-2]-y[-1])/(y[-2]-y[-1])\n",
        "    m_n[i,j] = rho*vv[i,-1]*dx\n",
        "    m_s[i,j] = rho*vv[i,-2]*dx\n",
        "    # if i == 0: ## NW corner node ##\n",
        "    #     lam_w[i,j] = (xx[i]-x[i])/(xx[i]-x[i])\n",
        "    #     lam_e[i,j] = (xx[i+1]-x[i])/(x[i+1]-x[i])\n",
        "    #     m_w[i,j] += rho*u[i]*dy\n",
        "    #     m_e[i,j] += rho*u[i+1]*dy\n",
        "    #     Ac_N[i,j] += m_n[i,j]*lam_n[i,j]\n",
        "    #     Ac_S[i,j] += m_s[i,j]*lam_s[i,j]\n",
        "    #     Ac_E[i,j] += m_e[i,j]*lam_e[i,j]\n",
        "    #     Ac_W[i,j] += m_w[i,j]*lam_w[i,j]\n",
        "        \n",
        "    #     Ad_W[i,j] += -gamma*dy/(x[i]-xx[i])\n",
        "    #     Ad_E[i,j] += -gamma*dy/(x[i+1]-x[i])\n",
        "    #     Ad_N[i,j] += -gamma*dx/(yy[j+1]-y[j])\n",
        "    #     Ad_S[i,j] += -gamma*dx/(y[j]-y[j-1])\n",
        "    if i == nx-1: ## NE corner node ##\n",
        "        lam_e[i,j] = (xx[i+1]-x[i])/(xx[i+1]-x[i])\n",
        "        lam_w[i,j] = (xx[i]-x[i])/(x[i-1]-x[i])\n",
        "        m_e[i,j] = rho*uu[i+1,-1]*dy\n",
        "        m_w[i,j] = rho*uu[i,-1]*dy\n",
        "        Ac_E[i,j] = m_e[i,j]*lam_e[i,j]\n",
        "        Ac_W[i,j] = -m_w[i,j]*lam_w[i,j]\n",
        "        Ac_N[i,j] = m_n[i,j]*lam_n[i,j]\n",
        "        Ac_S[i,j] = -m_s[i,j]*lam_s[i,j]\n",
        "        \n",
        "        Ad_E[i,j] = gamma*dy/(xx[i+1]-x[i])\n",
        "        Ad_W[i,j] = gamma*dy/(x[i]-x[i-1])\n",
        "        Ad_N[i,j] = gamma*dx/(yy[-1]-y[-1])\n",
        "        Ad_S[i,j] = gamma*dx/(y[-1]-y[-2])\n",
        "    else:\n",
        "        # Convection coefficients\n",
        "        lam_w[i,j] = (xx[i] - x[i])/(x[i-1] - x[i])\n",
        "        lam_e[i,j] = (xx[i+1] - x[i])/(x[i+1] - x[i])\n",
        "        m_w[i,j] = rho*uu[i,-1]*dy\n",
        "        m_e[i,j] = rho*uu[i+1,-1]*dy\n",
        "        Ac_E[i,j] = m_e[i,j]*lam_e[i,j]\n",
        "        Ac_W[i,j] = -m_w[i,j]*lam_w[i,j]\n",
        "        Ac_N[i,j] = m_n[i,j]*lam_n[i,j]\n",
        "        Ac_S[i,j] = -m_s[i,j]*lam_s[i,j]\n",
        "        \n",
        "        # Diffusion coefficients\n",
        "        Ad_E[i,j] = gamma*dy/(x[i+1]-x[i])\n",
        "        Ad_W[i,j] = gamma*dy/(x[i]-x[i-1])\n",
        "        Ad_N[i,j] = gamma*dx/(yy[-1]-y[-1])\n",
        "        Ad_S[i,j] = gamma*dx/(y[-1]-y[-2])"
      ],
      "execution_count": 0,
      "outputs": []
    },
    {
      "cell_type": "code",
      "metadata": {
        "id": "rLZQHAPCf-Kn",
        "colab_type": "code",
        "colab": {}
      },
      "source": [
        "# South boundary, zero gradient\n",
        "for i in range(1,nx):\n",
        "    j = 0\n",
        "    lam_s[i,j] = (yy[0]-y[0])/(yy[0]-y[0])\n",
        "    lam_n[i,j] = (yy[1]-y[0])/(y[1]-y[0])\n",
        "    m_s[i,j] = rho*vv[i,0]*dx\n",
        "    m_n[i,j] = rho*vv[i,1]*dx\n",
        "    # if i == 0: ## SW corner node ##\n",
        "    #     lam_w[i,j] = (xx[i]-x[i])/(xx[i]-x[i])\n",
        "    #     lam_e[i,j] = (xx[i+1]-x[i])/(x[i+1]-x[i])\n",
        "    #     m_w[i,j] += rho*u[i]*dy\n",
        "    #     m_e[i,j] += rho*u[i+1]*dy\n",
        "    #     Ac_E[i,j] += m_e[i,j]*lam_e[i,j]\n",
        "    #     Ac_W[i,j] += m_w[i,j]*lam_w[i,j]\n",
        "    #     Ac_N[i,j] += m_n[i,j]*lam_n[i,j]\n",
        "    #     Ac_S[i,j] += m_s[i,j]*lam_s[i,j]\n",
        "        \n",
        "    #     Ad_W[i,j] += -gamma*dx/(x[i]-xx[i])\n",
        "    #     Ad_S[i,j] += 0.\n",
        "    #     Ad_N[i,j] += -gamma*dx/(y[j+1]-y[j])\n",
        "    #     Ad_E[i,j] += -gamma*dy/(x[i+1]-x[i])\n",
        "        \n",
        "    if i == nx-1: ## SE corner node ##\n",
        "        lam_e[i,j] = (xx[i+1]-x[i])/(xx[i+1]-x[i])\n",
        "        lam_w[i,j] = (xx[i]-x[i])/(x[i-1]-x[i])\n",
        "        m_e[i,j] = rho*uu[i+1,0]*dy\n",
        "        m_w[i,j] = rho*uu[i,0]*dy\n",
        "        Ac_E[i,j] = m_e[i,j]*lam_e[i,j]\n",
        "        Ac_W[i,j] = -m_w[i,j]*lam_w[i,j]\n",
        "        Ac_N[i,j] = m_n[i,j]*lam_n[i,j]\n",
        "        Ac_S[i,j] = -m_s[i,j]*lam_s[i,j]\n",
        "        \n",
        "        Ad_E[i,j] = gamma*dx/(xx[i+1]-x[i])\n",
        "        Ad_S[i,j] = 0.\n",
        "        Ad_W[i,j] = gamma*dy/(x[i]-x[i-1])\n",
        "        Ad_N[i,j] = gamma*dx/(y[1]-y[0])\n",
        "    else:\n",
        "        # Convection coefficients\n",
        "        lam_e[i,j] = (xx[i+1]-x[i])/(x[i+1]-x[i])\n",
        "        lam_w[i,j] = (xx[i]-x[i])/(x[i-1]-x[i])\n",
        "        m_e[i,j] = rho*uu[i+1,0]*dy\n",
        "        m_w[i,j] = rho*uu[i,0]*dy\n",
        "        Ac_E[i,j] = m_e[i,j]*lam_e[i,j]\n",
        "        Ac_W[i,j] = -m_w[i,j]*lam_w[i,j]\n",
        "        Ac_N[i,j] = m_n[i,j]*lam_n[i,j]\n",
        "        Ac_S[i,j] = -m_s[i,j]*lam_s[i,j]\n",
        "        \n",
        "        # Diffusion coefficients\n",
        "        Ad_S[i,j] = 0.\n",
        "        Ad_W[i,j] = gamma*dy/(x[i]-x[i-1])\n",
        "        Ad_N[i,j] = gamma*dx/(y[1]-y[0])\n",
        "        Ad_E[i,j] = gamma*dy/(x[i+1]-x[i])"
      ],
      "execution_count": 0,
      "outputs": []
    },
    {
      "cell_type": "code",
      "metadata": {
        "id": "4MpD2ouqhVAK",
        "colab_type": "code",
        "colab": {}
      },
      "source": [
        "# East boundary, zero gradient\n",
        "for j in range(1,ny-1):\n",
        "    i = -1\n",
        "    lam_e[i,j] = (xx[-1]-x[-1])/(xx[-1]-x[-1])\n",
        "    lam_w[i,j] = (xx[-2]-x[-1])/(x[-2]-x[-1])\n",
        "    m_e[i,j] = rho*uu[-1,j]*dy\n",
        "    m_w[i,j] = rho*uu[-2,j]*dy\n",
        "    # if j == 0: # SE corner node ##\n",
        "    #     lam_s[i,j] = (yy[j]-y[j])/(yy[j]-y[j])\n",
        "    #     lam_n[i,j] = (yy[j+1]-y[j])/(y[j+1]-y[j])\n",
        "    #     m_s[i,j] += rho*v[j]*dx\n",
        "    #     m_n[i,j] += rho*v[j+1]*dx\n",
        "    #     Ac_E[i,j] += m_e[i,j]*lam_e[i,j]\n",
        "    #     Ac_W[i,j] += m_w[i,j]*lam_w[i,j]\n",
        "    #     Ac_N[i,j] += m_n[i,j]*lam_n[i,j]\n",
        "    #     Ac_S[i,j] += m_s[i,j]*lam_s[i,j]\n",
        "        \n",
        "    #     Ad_S[i,j] += -gamma*dx/(y[j]-yy[j])\n",
        "    #     Ad_E[i,j] += 0.\n",
        "    #     Ad_W[i,j] += -gamma*dy/(x[i]-x[i-1])\n",
        "    #     Ad_N[i,j] += -gamma*dx/(y[j+1]-y[j])\n",
        "    # elif j == nx-1: ## NE corner node ##\n",
        "    #     lam_n[i,j] = (yy[j+1]-y[j])/(yy[j+1]-y[j])\n",
        "    #     lam_s[i,j] = (yy[j]-y[j])/(y[j-1]-y[j])\n",
        "    #     m_n[i,j] += rho*v[j+1]*dx\n",
        "    #     m_s[i,j] += rho*v[j]*dx\n",
        "    #     Ac_E[i,j] += m_e[i,j]*lam_e[i,j]\n",
        "    #     Ac_W[i,j] += m_w[i,j]*lam_w[i,j]\n",
        "    #     Ac_N[i,j] += m_n[i,j]*lam_n[i,j]\n",
        "    #     Ac_S[i,j] += m_s[i,j]*lam_s[i,j]\n",
        "        \n",
        "    #     Ad_N[i,j] += -gamma*dx/(yy[j+1]-y[j])\n",
        "    #     Ad_E[i,j] += 0.\n",
        "    #     Ad_W[i,j] += -gamma*dy/(x[i]-x[i-1])\n",
        "    #     Ad_S[i,j] += -gamma*dx/(y[j]-y[j-1])\n",
        "    #else:\n",
        "    # Convection coefficients\n",
        "    lam_n[i,j] = (yy[j+1]-y[j])/(y[j+1]-y[j])\n",
        "    lam_s[i,j] = (yy[j]-y[j])/(y[j-1]-y[j])\n",
        "    m_n[i,j] = rho*vv[-1,j+1]*dx\n",
        "    m_s[i,j] = rho*vv[-1,j]*dx\n",
        "    Ac_E[i,j] = m_e[i,j]*lam_e[i,j]\n",
        "    Ac_W[i,j] = -m_w[i,j]*lam_w[i,j]\n",
        "    Ac_N[i,j] = m_n[i,j]*lam_n[i,j]\n",
        "    Ac_S[i,j] = -m_s[i,j]*lam_s[i,j]\n",
        "    \n",
        "    # Diffusion coefficients\n",
        "    Ad_E[i,j] = 0.\n",
        "    Ad_W[i,j] = gamma*dy/(x[-1]-x[-2])\n",
        "    Ad_N[i,j] = gamma*dx/(y[j+1]-y[j])\n",
        "    Ad_S[i,j] = gamma*dx/(y[j]-y[j-1])"
      ],
      "execution_count": 0,
      "outputs": []
    },
    {
      "cell_type": "code",
      "metadata": {
        "id": "gL79oDy-hGNU",
        "colab_type": "code",
        "colab": {}
      },
      "source": [
        "# Totals\n",
        "Ad_P = -(Ad_E + Ad_W + Ad_N + Ad_S)\n",
        "Ac_P = -(Ac_E + Ac_W + Ac_N + Ac_S)\n",
        "At_E = Ac_E - Ad_E\n",
        "At_W = Ac_W - Ad_W\n",
        "At_N = Ac_N - Ad_N\n",
        "At_S = Ac_S - Ad_S\n",
        "At_P = Ac_P - Ad_P"
      ],
      "execution_count": 0,
      "outputs": []
    },
    {
      "cell_type": "code",
      "metadata": {
        "id": "1D7vaHT_hREv",
        "colab_type": "code",
        "outputId": "0667ab4d-1bd8-4e06-af26-30a0ef7d9127",
        "colab": {
          "base_uri": "https://localhost:8080/",
          "height": 187
        }
      },
      "source": [
        "err = 1.\n",
        "step = 0\n",
        "count = 0\n",
        "while err > err_tol:\n",
        "  err_prev = np.copy(err)\n",
        "  step += 1\n",
        "#for step in range(nsteps):    \n",
        "  phi_old = np.copy(phi)\n",
        "  # Interior node phi calculation\n",
        "  for i in range(1, nx-1):\n",
        "      for j in range (1, ny-1):\n",
        "          phi[i,j] = -(At_W[i,j]*phi[i-1,j] + At_E[i,j]*phi[i+1,j] + At_N[i,j]*phi[i,j+1] + At_S[i,j]*phi[i,j-1])/At_P[i,j]\n",
        "\n",
        "  # West boundary phi calculation\n",
        "  for j in range(ny):\n",
        "      i = 0\n",
        "      if j == 0: ## SW corner ##\n",
        "          phi[i,j] = -(At_W[i,j]*phi_west[j] + At_E[i,j]*phi[i+1,j] + At_N[i,j]*phi[i,j+1])/(At_P[i,j]+At_S[i,j])\n",
        "      elif j == ny-1: ## NW corner ##\n",
        "          phi[i,j] = -(At_W[i,j]*phi_west[j] + At_E[i,j]*phi[i+1,j] + At_N[i,j]*0*phi[i,j] + At_S[i,j]*phi[i,j-1])/At_P[i,j]\n",
        "      else:\n",
        "          phi[i,j] = -(At_W[i,j]*phi_west[j] + At_E[i,j]*phi[i+1,j] + At_N[i,j]*phi[i,j+1] + At_S[i,j]*phi[i,j-1])/At_P[i,j]\n",
        "\n",
        "  # North boundary phi calculation\n",
        "  for i in range(nx):\n",
        "      j = -1\n",
        "      if i == 0: ## NW corner ##\n",
        "          phi[i,j] = -(At_W[i,j]*phi_west[j] + At_E[i,j]*phi[i+1,j] + At_N[i,j]*0*phi[i,j] + At_S[i,j]*phi[i,j-1])/At_P[i,j]\n",
        "      elif i == nx-1: ## NE corner ##\n",
        "          phi[i,j] = -(At_W[i,j]*phi[i-1,j] + At_N[i,j]*0*phi[i,j] + At_S[i,j]*phi[i,j-1])/(At_P[i,j]+At_E[i,j])\n",
        "      else:\n",
        "          phi[i,j] = -(At_W[i,j]*phi[i-1,j] + At_E[i,j]*phi[i+1,j] + At_N[i,j]*0*phi[i,j] + At_S[i,j]*phi[i,j-1])/At_P[i,j]\n",
        "\n",
        "  # East boundary phi calculation\n",
        "  for j in range(ny):\n",
        "      i = -1\n",
        "      if j == 0: ## SE corner ##\n",
        "          phi[i,j] = -(At_W[i,j]*phi[i-1,j] + At_N[i,j]*phi[i,j+1])/(At_P[i,j]+At_E[i,j]+At_S[i,j])\n",
        "      elif j == ny-1: ## NE corner ##\n",
        "          phi[i,j] = -(At_W[i,j]*phi[i-1,j] + At_N[i,j]*0*phi[i,j] + At_S[i,j]*phi[i,j-1])/(At_P[i,j]+At_E[i,j])\n",
        "      else:\n",
        "          phi[i,j] = -(At_W[i,j]*phi[i-1,j] + At_N[i,j]*phi[i,j+1] + At_S[i,j]*phi[i,j-1])/(At_P[i,j]+At_E[i,j])\n",
        "\n",
        "  # South boundary phi calculation\n",
        "  for i in range(nx):\n",
        "      j = 0\n",
        "      if i == 0: ## SW corner ##\n",
        "          phi[i,j] = -(At_W[i,j]*phi_west[j] + At_E[i,j]*phi[i+1,j] + At_N[i,j]*phi[i,j+1])/(At_P[i,j]+At_S[i,j])\n",
        "      elif i == nx-1: ## SE corner ##\n",
        "          phi[i,j] = -(At_W[i,j]*phi[i-1,j] + At_N[i,j]*phi[i,j+1])/(At_P[i,j]+At_S[i,j]+At_E[i,j])\n",
        "      else:\n",
        "          phi[i,j] = -(At_W[i,j]*phi[i-1,j] + At_E[i,j]*phi[i+1,j] + At_N[i,j]*phi[i,j+1])/(At_P[i,j]+At_S[i,j])\n",
        "\n",
        "  err = np.max(np.abs(phi-phi_old))\n",
        "  if err > err_prev:\n",
        "    count += 1\n",
        "    if count == 10:\n",
        "      print(f'Minimum error achieved. Breaking. Final error: {err}')\n",
        "      break\n",
        "  if step % 100 == 0:\n",
        "    print(f'Step: {step}, max error: {err}')\n",
        "print(f'Convergence met. Final error: {err}')"
      ],
      "execution_count": 8,
      "outputs": [
        {
          "output_type": "stream",
          "text": [
            "Step: 100, max error: 0.003279615020996607\n",
            "Step: 200, max error: 0.0021171664320299155\n",
            "Step: 300, max error: 0.0015519539061452647\n",
            "Step: 400, max error: 0.0010216972771780741\n",
            "Step: 500, max error: 0.000551305686705944\n",
            "Step: 600, max error: 0.00023391335999889407\n",
            "Step: 700, max error: 8.93378759651009e-05\n",
            "Step: 800, max error: 3.2839702893749934e-05\n",
            "Step: 900, max error: 1.1905894909070014e-05\n",
            "Convergence met. Final error: 9.911937785600511e-06\n"
          ],
          "name": "stdout"
        }
      ]
    },
    {
      "cell_type": "code",
      "metadata": {
        "id": "yYFeQBUXsoxx",
        "colab_type": "code",
        "colab": {}
      },
      "source": [
        "X, Y = np.meshgrid(x, y)\n",
        "XX, YY = np.meshgrid(xx, yy)"
      ],
      "execution_count": 0,
      "outputs": []
    },
    {
      "cell_type": "code",
      "metadata": {
        "id": "SUcK7IXUs76L",
        "colab_type": "code",
        "outputId": "068eadcf-57e1-4972-95c6-7ecbe479d575",
        "colab": {
          "base_uri": "https://localhost:8080/",
          "height": 286
        }
      },
      "source": [
        "plt.contourf(X.T, Y.T, phi, levels=10)\n",
        "plt.quiver(XX.T[::10,::10], YY.T[::10,::10], uu[::10,::10], vv[::10,::10])\n",
        "plt.colorbar()\n"
      ],
      "execution_count": 10,
      "outputs": [
        {
          "output_type": "execute_result",
          "data": {
            "text/plain": [
              "<matplotlib.colorbar.Colorbar at 0x7fcfe51596d8>"
            ]
          },
          "metadata": {
            "tags": []
          },
          "execution_count": 10
        },
        {
          "output_type": "display_data",
          "data": {
            "image/png": "[encoded data removed]",
            "text/plain": [
              "<Figure size 432x288 with 2 Axes>"
            ]
          },
          "metadata": {
            "tags": [],
            "needs_background": "light"
          }
        }
      ]
    },
    {
      "cell_type": "code",
      "metadata": {
        "id": "HcNakAm7mZ2C",
        "colab_type": "code",
        "outputId": "2794b301-817e-48d4-a58e-e44c793e4814",
        "colab": {
          "base_uri": "https://localhost:8080/",
          "height": 136
        }
      },
      "source": [
        "np.argwhere(m_w>0)"
      ],
      "execution_count": 11,
      "outputs": [
        {
          "output_type": "execute_result",
          "data": {
            "text/plain": [
              "array([[ 1,  0],\n",
              "       [ 1,  1],\n",
              "       [ 1,  2],\n",
              "       ...,\n",
              "       [99, 97],\n",
              "       [99, 98],\n",
              "       [99, 99]])"
            ]
          },
          "metadata": {
            "tags": []
          },
          "execution_count": 11
        }
      ]
    },
    {
      "cell_type": "code",
      "metadata": {
        "id": "UDs9qcrxrjpy",
        "colab_type": "code",
        "outputId": "9bfe92c2-91ed-4165-8d1f-5d137bd0690c",
        "colab": {
          "base_uri": "https://localhost:8080/",
          "height": 34
        }
      },
      "source": [
        "count"
      ],
      "execution_count": 12,
      "outputs": [
        {
          "output_type": "execute_result",
          "data": {
            "text/plain": [
              "0"
            ]
          },
          "metadata": {
            "tags": []
          },
          "execution_count": 12
        }
      ]
    },
    {
      "cell_type": "code",
      "metadata": {
        "id": "5DkGrWmaF6iR",
        "colab_type": "code",
        "colab": {}
      },
      "source": [
        "Pe_x = np.max(Lx*uu[1:,1:]/At_P)"
      ],
      "execution_count": 0,
      "outputs": []
    },
    {
      "cell_type": "code",
      "metadata": {
        "id": "2F9UlXh6HKta",
        "colab_type": "code",
        "colab": {}
      },
      "source": [
        "Pe_y = np.max(Ly*vv[1:,1:]/At_P)"
      ],
      "execution_count": 0,
      "outputs": []
    },
    {
      "cell_type": "code",
      "metadata": {
        "id": "JLm2PteaHQgq",
        "colab_type": "code",
        "outputId": "0b427529-a1c5-4aff-9cfd-4cf627455689",
        "colab": {
          "base_uri": "https://localhost:8080/",
          "height": 34
        }
      },
      "source": [
        "Pe_y"
      ],
      "execution_count": 15,
      "outputs": [
        {
          "output_type": "execute_result",
          "data": {
            "text/plain": [
              "-0.24999999999999994"
            ]
          },
          "metadata": {
            "tags": []
          },
          "execution_count": 15
        }
      ]
    },
    {
      "cell_type": "code",
      "metadata": {
        "id": "kgHY9ceRHbBk",
        "colab_type": "code",
        "outputId": "b10631b0-9bc4-4643-f02b-a92358437d08",
        "colab": {
          "base_uri": "https://localhost:8080/",
          "height": 34
        }
      },
      "source": [
        "Pe_x"
      ],
      "execution_count": 16,
      "outputs": [
        {
          "output_type": "execute_result",
          "data": {
            "text/plain": [
              "40.00000000000004"
            ]
          },
          "metadata": {
            "tags": []
          },
          "execution_count": 16
        }
      ]
    },
    {
      "cell_type": "code",
      "metadata": {
        "id": "D6WzS2qOHwUP",
        "colab_type": "code",
        "colab": {
          "base_uri": "https://localhost:8080/",
          "height": 136
        },
        "outputId": "1bf17352-79b9-4a1f-e24a-4432674f2907"
      },
      "source": [
        "At_P"
      ],
      "execution_count": 17,
      "outputs": [
        {
          "output_type": "execute_result",
          "data": {
            "text/plain": [
              "array([[0.04 , 0.05 , 0.05 , ..., 0.05 , 0.05 , 0.065],\n",
              "       [0.03 , 0.04 , 0.04 , ..., 0.04 , 0.04 , 0.055],\n",
              "       [0.03 , 0.04 , 0.04 , ..., 0.04 , 0.04 , 0.055],\n",
              "       ...,\n",
              "       [0.03 , 0.04 , 0.04 , ..., 0.04 , 0.04 , 0.055],\n",
              "       [0.03 , 0.04 , 0.04 , ..., 0.04 , 0.04 , 0.055],\n",
              "       [0.035, 0.025, 0.025, ..., 0.025, 0.025, 0.06 ]])"
            ]
          },
          "metadata": {
            "tags": []
          },
          "execution_count": 17
        }
      ]
    },
    {
      "cell_type": "code",
      "metadata": {
        "id": "JgurwVBCDVfx",
        "colab_type": "code",
        "colab": {}
      },
      "source": [
        ""
      ],
      "execution_count": 0,
      "outputs": []
    }
  ]
}