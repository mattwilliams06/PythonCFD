{
 "cells": [
  {
   "cell_type": "code",
   "execution_count": 4,
   "metadata": {},
   "outputs": [],
   "source": [
    "import numpy as np\n",
    "import matplotlib.pyplot as plt\n",
    "from matplotlib import cm\n",
    "%matplotlib inline\n",
    "%config InlineBackend.figure_format='retina'"
   ]
  },
  {
   "cell_type": "code",
   "execution_count": null,
   "metadata": {},
   "outputs": [],
   "source": [
    "# Domain size and physical variables\n",
    "Lx = 1.\n",
    "Ly = 1.\n",
    "gx = 0.\n",
    "gy = 0.\n",
    "rho = 1.\n",
    "mu = 0.05    # Dynmaic viscocity\n",
    "\n",
    "# Tangential velocities\n",
    "unorth = 2.\n",
    "usouth = 0.\n",
    "veast = 0.\n",
    "vwest = 0.\n",
    "\n",
    "# Numerical variables\n",
    "nx = 21\n",
    "ny = 21\n",
    "dt = 0.0004\n",
    "nstep = 100\n",
    "maxiter = 1000\n",
    "maxError = 0.001\n",
    "beta = 1.2\n",
    "dx = Lx/"
   ]
  }
 ],
 "metadata": {
  "kernelspec": {
   "display_name": "Python 3",
   "language": "python",
   "name": "python3"
  },
  "language_info": {
   "codemirror_mode": {
    "name": "ipython",
    "version": 3
   },
   "file_extension": ".py",
   "mimetype": "text/x-python",
   "name": "python",
   "nbconvert_exporter": "python",
   "pygments_lexer": "ipython3",
   "version": "3.7.6"
  }
 },
 "nbformat": 4,
 "nbformat_minor": 4
}
