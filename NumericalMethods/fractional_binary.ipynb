{
 "cells": [
  {
   "cell_type": "code",
   "execution_count": 1,
   "metadata": {},
   "outputs": [],
   "source": [
    "import numpy as np"
   ]
  },
  {
   "cell_type": "markdown",
   "metadata": {},
   "source": [
    "# Patriot missile system problem\n",
    "\n",
    "The patriot missile clock system stores a 24-bit binary representation of time intervals of 0.1s. Without two's complement, where the leftmost bit is used to store the negative number, the missile system uses 8 bits to represent the decimal equivalent of 0.1."
   ]
  },
  {
   "cell_type": "code",
   "execution_count": 48,
   "metadata": {},
   "outputs": [],
   "source": [
    "def decimal_binary_estimator(number, n_bits, func=binary_calculator):\n",
    "    ''' Takes a fractional number and returns its binary approximation \n",
    "    based on 8-bit truncation error, along with the actual fractional number estimated by\n",
    "    the 8-bit digits. Any number requiring less than 8 bits will be exact.\n",
    "    \n",
    "    Inputs\n",
    "    -----\n",
    "    number: float -- The fractional number to be represented\n",
    "    n_bits: int -- The number of bits to hold the binary representation\n",
    "    func: function -- Default is the function binary_calculator, which carries out the \n",
    "    computation of the the estimate of the number base on an n bit storage of the fractional\n",
    "    part.\n",
    "    \n",
    "    Outputs\n",
    "    -------\n",
    "    representation: string -- A string of the binary representation of the input number. \n",
    "    result: The estimate of the input based on n bits. Any numbers requiring less than n bits\n",
    "    to store will be exact.\n",
    "    '''\n",
    "    func = binary_calculator\n",
    "    frac = .5    # seed to allow the while loop to begin\n",
    "    digits = []\n",
    "    i = 1     # counter, which will stop at n_bits \n",
    "    while (frac != 0.) & (i <= n_bits):\n",
    "        num = number*2\n",
    "        integer = int(num)\n",
    "        #print(f'num: {num}, integer: {integer}, frac: {frac}')\n",
    "        frac = num % 1\n",
    "        digits.append(integer)\n",
    "        number = frac\n",
    "        i += 1\n",
    "    result = func(digits)\n",
    "    binary_rep = [str(x) for x in digits]\n",
    "    representation = '.'+''.join(binary_rep)\n",
    "    return representation, result\n"
   ]
  },
  {
   "cell_type": "code",
   "execution_count": 30,
   "metadata": {},
   "outputs": [],
   "source": [
    "def binary_calculator(digits):\n",
    "    total = 0\n",
    "    for idx, exp in enumerate(digits):\n",
    "        if exp == 1:\n",
    "            total += 2**(-(idx+1))\n",
    "        else:\n",
    "            continue\n",
    "    return total"
   ]
  },
  {
   "cell_type": "code",
   "execution_count": 51,
   "metadata": {},
   "outputs": [
    {
     "data": {
      "text/plain": [
       "('.000110011001100110011001', 0.09999996423721313)"
      ]
     },
     "execution_count": 51,
     "metadata": {},
     "output_type": "execute_result"
    }
   ],
   "source": [
    "decimal_binary_estimator(0.1, 24)"
   ]
  },
  {
   "cell_type": "code",
   "execution_count": 21,
   "metadata": {},
   "outputs": [
    {
     "data": {
      "text/plain": [
       "[1, 0, 1]"
      ]
     },
     "execution_count": 21,
     "metadata": {},
     "output_type": "execute_result"
    }
   ],
   "source": [
    "digits"
   ]
  },
  {
   "cell_type": "code",
   "execution_count": 25,
   "metadata": {},
   "outputs": [],
   "source": [
    "total = 0\n",
    "for idx, exp in enumerate(digits):\n",
    "    if exp == 1:\n",
    "        total += 2**(-(idx+1))\n",
    "    else:\n",
    "        continue"
   ]
  },
  {
   "cell_type": "code",
   "execution_count": 32,
   "metadata": {},
   "outputs": [],
   "source": [
    "digits = [1, 0, 1]"
   ]
  },
  {
   "cell_type": "code",
   "execution_count": 35,
   "metadata": {},
   "outputs": [],
   "source": [
    "new_digits = [str(x) for x in digits]"
   ]
  },
  {
   "cell_type": "code",
   "execution_count": 36,
   "metadata": {},
   "outputs": [
    {
     "data": {
      "text/plain": [
       "'.101'"
      ]
     },
     "execution_count": 36,
     "metadata": {},
     "output_type": "execute_result"
    }
   ],
   "source": [
    "'.' + ''.join(new_digits)"
   ]
  },
  {
   "cell_type": "code",
   "execution_count": null,
   "metadata": {},
   "outputs": [],
   "source": []
  }
 ],
 "metadata": {
  "kernelspec": {
   "display_name": "Python 3",
   "language": "python",
   "name": "python3"
  },
  "language_info": {
   "codemirror_mode": {
    "name": "ipython",
    "version": 3
   },
   "file_extension": ".py",
   "mimetype": "text/x-python",
   "name": "python",
   "nbconvert_exporter": "python",
   "pygments_lexer": "ipython3",
   "version": "3.7.7"
  }
 },
 "nbformat": 4,
 "nbformat_minor": 4
}
