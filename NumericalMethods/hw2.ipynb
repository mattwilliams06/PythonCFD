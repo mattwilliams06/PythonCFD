{
 "cells": [
  {
   "cell_type": "code",
   "execution_count": 1,
   "metadata": {},
   "outputs": [],
   "source": [
    "import numpy as np"
   ]
  },
  {
   "cell_type": "code",
   "execution_count": 3,
   "metadata": {},
   "outputs": [],
   "source": [
    "def binary_calculator(digits):\n",
    "    total = 0\n",
    "    for idx, exp in enumerate(digits):\n",
    "        if exp == 1:\n",
    "            total += 2**(-(idx+1))\n",
    "        else:\n",
    "            continue\n",
    "    return total"
   ]
  },
  {
   "cell_type": "code",
   "execution_count": 4,
   "metadata": {},
   "outputs": [],
   "source": [
    "def decimal_binary_estimator(number, n_bits, func=binary_calculator):\n",
    "    ''' Takes a fractional number and returns its binary approximation \n",
    "    based on n bit truncation error, along with the actual fractional number estimated by\n",
    "    the n bit digits. Any number requiring less than n bits will be exact.\n",
    "    \n",
    "    Inputs\n",
    "    -----\n",
    "    number: float -- The fractional number to be represented\n",
    "    n_bits: int -- The number of bits to hold the binary representation\n",
    "    func: function -- Default is the function binary_calculator, which carries out the \n",
    "    computation of the the estimate of the number base on an n bit storage of the fractional\n",
    "    part.\n",
    "    \n",
    "    Outputs\n",
    "    -------\n",
    "    representation: string -- A string of the binary representation of the input number. \n",
    "    result: The estimate of the input based on n bits. Any numbers requiring less than n bits\n",
    "    to store will be exact.\n",
    "    '''\n",
    "    func = binary_calculator\n",
    "    frac = .5    # seed to allow the while loop to begin\n",
    "    digits = []\n",
    "    i = 1        # counter, which will stop at n_bits \n",
    "    while (frac != 0.) & (i <= n_bits):\n",
    "        num = number*2\n",
    "        integer = int(num)\n",
    "        #print(f'num: {num}, integer: {integer}, frac: {frac}')\n",
    "        frac = num % 1\n",
    "        digits.append(integer)\n",
    "        number = frac\n",
    "        i += 1\n",
    "    result = func(digits)\n",
    "    binary_rep = [str(x) for x in digits]\n",
    "    representation = '.'+''.join(binary_rep)\n",
    "    return representation, result"
   ]
  },
  {
   "cell_type": "code",
   "execution_count": 5,
   "metadata": {},
   "outputs": [],
   "source": [
    "binary, decimal = decimal_binary_estimator(0.1, 24)"
   ]
  },
  {
   "cell_type": "code",
   "execution_count": 6,
   "metadata": {},
   "outputs": [
    {
     "data": {
      "text/plain": [
       "0.09999996423721313"
      ]
     },
     "execution_count": 6,
     "metadata": {},
     "output_type": "execute_result"
    }
   ],
   "source": [
    "decimal"
   ]
  },
  {
   "cell_type": "markdown",
   "metadata": {},
   "source": [
    "# The PATRIOT Missile Problem\n",
    "\n",
    "Per the code above, the PATRIOT missile battery, which used 24 bits to store numbers, has a truncation error associated with attempting to store the repeating binary pattern for the number 0.1.\n",
    "\n",
    "The absolute relative error for this truncation is:"
   ]
  },
  {
   "cell_type": "code",
   "execution_count": 7,
   "metadata": {},
   "outputs": [
    {
     "data": {
      "text/plain": [
       "3.576278687078549e-07"
      ]
     },
     "execution_count": 7,
     "metadata": {},
     "output_type": "execute_result"
    }
   ],
   "source": [
    "rel_err = (np.abs(0.1 - decimal))/0.1\n",
    "rel_err"
   ]
  },
  {
   "cell_type": "markdown",
   "metadata": {},
   "source": [
    "The above result is the error per every 0.1 seconds of operation. Over the course of 100 hours of battery operation, the total error would be:"
   ]
  },
  {
   "cell_type": "code",
   "execution_count": 8,
   "metadata": {},
   "outputs": [
    {
     "name": "stdout",
     "output_type": "stream",
     "text": [
      "Total error: 0.13 seconds\n"
     ]
    }
   ],
   "source": [
    "total_err = rel_err * 100 * 3600\n",
    "print(f'Total error: {total_err:.2f} seconds')"
   ]
  },
  {
   "cell_type": "markdown",
   "metadata": {},
   "source": [
    "The SCUD missile travels 1676 m/s, so the distance the missile could travel after detected by the first pulse of the battery is:"
   ]
  },
  {
   "cell_type": "code",
   "execution_count": 9,
   "metadata": {},
   "outputs": [
    {
     "name": "stdout",
     "output_type": "stream",
     "text": [
      "Distance traveled: 215.78 meters\n"
     ]
    }
   ],
   "source": [
    "dist = total_err * 1676\n",
    "print(f'Distance traveled: {dist:.2f} meters')"
   ]
  },
  {
   "cell_type": "markdown",
   "metadata": {},
   "source": [
    "# Significant digits\n",
    "\n",
    "We can guarantee at least _m_ significant digits of accuracy if the absolute relative error is:\n",
    "\n",
    "$$\\epsilon_a \\leq (0.5x10^{2-m})\\%$$\n",
    "\n",
    "Let's design a code that estimates the sine function up to a desired number of significant digits using the Taylor series expansion for sine:\n",
    "\n",
    "$$sin(x)\\  =\\  \\sum^{\\infty }_{n=0} \\frac{(-1)^{n}}{(2n+1)!} x^{2n+1}=x-\\frac{x^{3}}{3!} +\\frac{x^{5}}{5!} +...$$"
   ]
  },
  {
   "cell_type": "code",
   "execution_count": 115,
   "metadata": {},
   "outputs": [],
   "source": [
    "def sine_taylor(x, m):\n",
    "    import math\n",
    "    '''Funtion to give the approximation to sine out to m significant digits about\n",
    "    point x using the Taylor Series expansion\n",
    "    \n",
    "    Inputs\n",
    "    ------\n",
    "    x: float -- The point about which to perform the approximation\n",
    "    m: int or list -- The number of significant digits desired\n",
    "    '''\n",
    "    err = np.inf\n",
    "    i = 0\n",
    "    oldval = 0.\n",
    "    if not isinstance(m, list):\n",
    "        tol = 0.5*10**(2-m)\n",
    "        while err >= tol:\n",
    "            oldval += (-1)**i/math.factorial((2*i+1))*x**(2*i+1)\n",
    "            n = i + 1\n",
    "            newval = oldval + (-1)**i/math.factorial((2*i+1))*x**(2*i+1)\n",
    "            err = np.abs((newval-oldval)/newval)*100\n",
    "            i += 1\n",
    "            #oldval = newval\n",
    "        return i, newval, err\n",
    "    else:\n",
    "        i_list = []\n",
    "        nsig_list = []\n",
    "        values = []\n",
    "        for nsigs in m:\n",
    "            tol = 0.5*10**(2-nsigs)\n",
    "            while err >= tol:\n",
    "                oldval += (-1)**i/math.factorial((2*i+1))*x**(2*i+1)\n",
    "                n = i + 1\n",
    "                newval = oldval + (-1)**i/math.factorial((2*i+1))*x**(2*i+1)\n",
    "                err = np.abs((newval-oldval)/newval)*100\n",
    "                i += 1\n",
    "            i_list.append(i)\n",
    "            nsig_list.append(nsigs)\n",
    "            values.append(newval)\n",
    "        return list(zip(nsig_list, i_list, values))"
   ]
  },
  {
   "cell_type": "code",
   "execution_count": 120,
   "metadata": {},
   "outputs": [],
   "source": [
    "m = [1,2,4,6,12]\n",
    "x = 1.5\n",
    "results = sine_taylor(x, m)"
   ]
  },
  {
   "cell_type": "code",
   "execution_count": 121,
   "metadata": {},
   "outputs": [
    {
     "name": "stdout",
     "output_type": "stream",
     "text": [
      "Significant figures: 1, number of terms: 4, value: 1.0\n",
      "Significant figures: 2, number of terms: 4, value: 0.99\n",
      "Significant figures: 4, number of terms: 6, value: 0.9975\n",
      "Significant figures: 6, number of terms: 7, value: 0.997495\n",
      "Significant figures: 12, number of terms: 10, value: 0.997494986604\n"
     ]
    }
   ],
   "source": [
    "for sigs, terms, val in results:\n",
    "    print(f'Significant figures: {sigs}, number of terms: {terms}, value: {val:.{sigs}f}')"
   ]
  },
  {
   "cell_type": "code",
   "execution_count": 122,
   "metadata": {},
   "outputs": [],
   "source": [
    "a = [1,2, 3]\n",
    "b = [4, 5, 6]\n",
    "c = [7, 8, 9]\n",
    "zipped = zip(a,b,c)"
   ]
  },
  {
   "cell_type": "markdown",
   "metadata": {},
   "source": [
    "# Problem 3 -- Truncation error\n",
    "\n",
    "The first derivative of a function can be approximated numerically as:\n",
    "\n",
    "$$f^{\\prime }(x)\\  \\approx \\  \\frac{f(x+h)-f(x)}{h}$$\n",
    "\n",
    "which is called the forward Euler approximation. If we let $f(x)=e^x$, find the relative error for $h = (1.0, 0.5, 0.25, 0.125, 0.0625)$."
   ]
  },
  {
   "cell_type": "code",
   "execution_count": 127,
   "metadata": {},
   "outputs": [],
   "source": [
    "def exp(x):\n",
    "    return np.exp(x)"
   ]
  },
  {
   "cell_type": "code",
   "execution_count": 129,
   "metadata": {},
   "outputs": [],
   "source": [
    "def first_deriv(func, x, h):\n",
    "    ''' Compute the forward Euler approximation to the first derivative of func'''\n",
    "    return (func(x+h) - func(x))/h"
   ]
  },
  {
   "cell_type": "code",
   "execution_count": 131,
   "metadata": {},
   "outputs": [],
   "source": [
    "def relative_error(old, new):\n",
    "    return np.abs(old-new)/new*100"
   ]
  },
  {
   "cell_type": "code",
   "execution_count": 134,
   "metadata": {},
   "outputs": [],
   "source": [
    "h = [1., 0.5, 0.25, 0.125, 0.0625]\n",
    "rel_error_array = np.zeros((len(h),len(h)))"
   ]
  },
  {
   "cell_type": "code",
   "execution_count": 158,
   "metadata": {},
   "outputs": [],
   "source": [
    "x = 2.\n",
    "for i, h_old in enumerate(h):\n",
    "    old = first_deriv(exp, x, h_old)\n",
    "    for j, h_new in enumerate(h):\n",
    "        new = first_deriv(exp, x, h_new)\n",
    "        rel_err = (new-old)/new*100\n",
    "        rel_error_array[j,i] = rel_err"
   ]
  },
  {
   "cell_type": "code",
   "execution_count": 159,
   "metadata": {},
   "outputs": [
    {
     "data": {
      "text/plain": [
       "array([[  0.        ,  24.49186624,  33.88152933,  38.00856141,\n",
       "         39.9451635 ],\n",
       "       [-32.43606354,   0.        ,  12.43530018,  17.900979  ,\n",
       "         20.46573858],\n",
       "       [-51.2436676 , -14.20127083,   0.        ,   6.24187467,\n",
       "          9.17086271],\n",
       "       [-61.31259779, -21.80413211,  -6.65742265,   0.        ,\n",
       "          3.12398314],\n",
       "       [-66.51448214, -25.73197791, -10.09682904,  -3.22472295,\n",
       "          0.        ]])"
      ]
     },
     "execution_count": 159,
     "metadata": {},
     "output_type": "execute_result"
    }
   ],
   "source": [
    "rel_error_array"
   ]
  },
  {
   "cell_type": "code",
   "execution_count": 160,
   "metadata": {},
   "outputs": [],
   "source": [
    "import pandas as pd"
   ]
  },
  {
   "cell_type": "code",
   "execution_count": 161,
   "metadata": {},
   "outputs": [],
   "source": [
    "\n",
    "df = pd.DataFrame(data=rel_error_array,\n",
    "                 columns=[f'Old h:{h_}' for h_ in h],\n",
    "                 index=[f'New h:{h_}' for h_ in h])"
   ]
  },
  {
   "cell_type": "code",
   "execution_count": 162,
   "metadata": {},
   "outputs": [
    {
     "data": {
      "text/html": [
       "<div>\n",
       "<style scoped>\n",
       "    .dataframe tbody tr th:only-of-type {\n",
       "        vertical-align: middle;\n",
       "    }\n",
       "\n",
       "    .dataframe tbody tr th {\n",
       "        vertical-align: top;\n",
       "    }\n",
       "\n",
       "    .dataframe thead th {\n",
       "        text-align: right;\n",
       "    }\n",
       "</style>\n",
       "<table border=\"1\" class=\"dataframe\">\n",
       "  <thead>\n",
       "    <tr style=\"text-align: right;\">\n",
       "      <th></th>\n",
       "      <th>Old h:1.0</th>\n",
       "      <th>Old h:0.5</th>\n",
       "      <th>Old h:0.25</th>\n",
       "      <th>Old h:0.125</th>\n",
       "      <th>Old h:0.0625</th>\n",
       "    </tr>\n",
       "  </thead>\n",
       "  <tbody>\n",
       "    <tr>\n",
       "      <th>New h:1.0</th>\n",
       "      <td>0.000000</td>\n",
       "      <td>24.491866</td>\n",
       "      <td>33.881529</td>\n",
       "      <td>38.008561</td>\n",
       "      <td>39.945164</td>\n",
       "    </tr>\n",
       "    <tr>\n",
       "      <th>New h:0.5</th>\n",
       "      <td>-32.436064</td>\n",
       "      <td>0.000000</td>\n",
       "      <td>12.435300</td>\n",
       "      <td>17.900979</td>\n",
       "      <td>20.465739</td>\n",
       "    </tr>\n",
       "    <tr>\n",
       "      <th>New h:0.25</th>\n",
       "      <td>-51.243668</td>\n",
       "      <td>-14.201271</td>\n",
       "      <td>0.000000</td>\n",
       "      <td>6.241875</td>\n",
       "      <td>9.170863</td>\n",
       "    </tr>\n",
       "    <tr>\n",
       "      <th>New h:0.125</th>\n",
       "      <td>-61.312598</td>\n",
       "      <td>-21.804132</td>\n",
       "      <td>-6.657423</td>\n",
       "      <td>0.000000</td>\n",
       "      <td>3.123983</td>\n",
       "    </tr>\n",
       "    <tr>\n",
       "      <th>New h:0.0625</th>\n",
       "      <td>-66.514482</td>\n",
       "      <td>-25.731978</td>\n",
       "      <td>-10.096829</td>\n",
       "      <td>-3.224723</td>\n",
       "      <td>0.000000</td>\n",
       "    </tr>\n",
       "  </tbody>\n",
       "</table>\n",
       "</div>"
      ],
      "text/plain": [
       "              Old h:1.0  Old h:0.5  Old h:0.25  Old h:0.125  Old h:0.0625\n",
       "New h:1.0      0.000000  24.491866   33.881529    38.008561     39.945164\n",
       "New h:0.5    -32.436064   0.000000   12.435300    17.900979     20.465739\n",
       "New h:0.25   -51.243668 -14.201271    0.000000     6.241875      9.170863\n",
       "New h:0.125  -61.312598 -21.804132   -6.657423     0.000000      3.123983\n",
       "New h:0.0625 -66.514482 -25.731978  -10.096829    -3.224723      0.000000"
      ]
     },
     "execution_count": 162,
     "metadata": {},
     "output_type": "execute_result"
    }
   ],
   "source": [
    "df"
   ]
  },
  {
   "cell_type": "markdown",
   "metadata": {},
   "source": [
    "```\n",
    "# Syntax?\n",
    "print('hello jupyter')\n",
    "```"
   ]
  },
  {
   "cell_type": "code",
   "execution_count": null,
   "metadata": {},
   "outputs": [],
   "source": []
  }
 ],
 "metadata": {
  "kernelspec": {
   "display_name": "Python 3",
   "language": "python",
   "name": "python3"
  },
  "language_info": {
   "codemirror_mode": {
    "name": "ipython",
    "version": 3
   },
   "file_extension": ".py",
   "mimetype": "text/x-python",
   "name": "python",
   "nbconvert_exporter": "python",
   "pygments_lexer": "ipython3",
   "version": "3.7.7"
  }
 },
 "nbformat": 4,
 "nbformat_minor": 4
}
