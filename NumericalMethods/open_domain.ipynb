{
 "cells": [
  {
   "cell_type": "code",
   "execution_count": 1,
   "metadata": {},
   "outputs": [],
   "source": [
    "import numpy as np\n",
    "import requests\n",
    "import matplotlib.pyplot as plt\n",
    "from IPython.core.display import HTML\n",
    "%config InlineBackend.figure_format = 'svg'\n",
    "def css_style(url):\n",
    "    style = requests.get(url)\n",
    "    return HTML(style.text)"
   ]
  },
  {
   "cell_type": "code",
   "execution_count": 2,
   "metadata": {},
   "outputs": [
    {
     "data": {
      "text/html": [
       "CSS style adapted from https://github.com/barbagroup/CFDPython. Copyright (c) Barba group\n",
       "<link href='http://fonts.googleapis.com/css?family=Merriweather' rel='stylesheet' type='text/css'>\n",
       "<link href='http://fonts.googleapis.com/css?family=Bitter' rel='stylesheet' type='text/css'>\n",
       "<link href='http://fonts.googleapis.com/css?family=Oxygen' rel='stylesheet' type='text/css'>\n",
       "<link href='http://fonts.googleapis.com/css?family=Lora' rel='stylesheet' type='text/css'>\n",
       "<link href='http://fonts.googleapis.com/css?family=Fenix' rel='stylesheet' type='text/css'>\n",
       "<link href='http://fonts.googleapis.com/css?family=Alegreya+Sans:100,300,400,500,700,800,900,100italic,300italic,400italic,500italic,700italic,800italic,900italic' rel='stylesheet' type='text/css'>\n",
       "<link href='http://fonts.googleapis.com/css?family=Source+Code+Pro:300,400' rel='stylesheet' type='text/css'>\n",
       "\n",
       "<style>\n",
       "    @font-face {\n",
       "        font-family: \"Computer Modern\";\n",
       "        src: url('http://mirrors.ctan.org/fonts/cm-unicode/fonts/otf/cmunss.otf');\n",
       "    }\n",
       "\n",
       "    /*div.cell{\n",
       "        width:800px;\n",
       "        margin-left:16% !important;\n",
       "        margin-right:auto;\n",
       "    } */\n",
       "\n",
       "    /* set the font size in tables */\n",
       "    tr, td, th{\n",
       "        font-size:110%;\n",
       "    }\n",
       "\n",
       "    /* spec for headers */\n",
       "    h1 {\n",
       "        font-family: 'Bitter', serif;\n",
       "    }\n",
       "\n",
       "    h2 {\n",
       "        font-family: 'Fenix', serif;\n",
       "    }\n",
       "    \n",
       "    h3{\n",
       "        font-family: 'Fenix', serif;\n",
       "        margin-top:12px;\n",
       "        margin-bottom: 3px;\n",
       "    }\n",
       "\n",
       "    h4{\n",
       "        font-family: 'Fenix', serif;\n",
       "    }\n",
       "\n",
       "    h5 {\n",
       "        font-family: 'Alegreya Sans', sans-serif;\n",
       "    }\n",
       "\n",
       "    div.text_cell_render{\n",
       "        font-family: 'Merriweather','Alegreya Sans','Lora', 'Oxygen', \"Helvetica Neue\", Arial, Helvetica, Geneva, sans-serif;\n",
       "        line-height: 160%;\n",
       "        font-size: 130%;\n",
       "    }\n",
       "\n",
       "    .CodeMirror{\n",
       "        font-family: \"Source Code Pro\";\n",
       "        font-size: 100%;\n",
       "    }\n",
       "\n",
       "    .text_cell_render h1 {\n",
       "        font-weight: 200;\n",
       "        font-size: 32pt;\n",
       "        line-height: 120%;\n",
       "        color:#CD2305;\n",
       "        margin-bottom: 0.5em;\n",
       "        margin-top: 0.5em;\n",
       "        display: block;\n",
       "    }\n",
       "\n",
       "    .text_cell_render h2 {\n",
       "        font-size: 26pt;\n",
       "        text-align: center;\n",
       "    }\n",
       "\n",
       "    .text_cell_render h3 {\n",
       "        font-size: 20pt;\n",
       "    }\n",
       "\n",
       "    .text_cell_render h4 {\n",
       "        font-size: 18pt;\n",
       "    }\n",
       "\n",
       "    .text_cell_render h5 {\n",
       "        font-weight: 300;\n",
       "        font-size: 16pt;\n",
       "        color: #CD2305;\n",
       "        font-style: italic;\n",
       "        margin-bottom: .5em;\n",
       "        margin-top: 0.5em;\n",
       "        display: block;\n",
       "    }\n",
       "    \n",
       "    .warning{\n",
       "        color: rgb( 240, 20, 20 )\n",
       "    }  \n",
       "\n",
       "/*  div#notebook {background-color: #1e1e1e; border-top: none;}\n",
       "    div#notebook-container {background-color: rgb(180, 180, 180);}\n",
       " */\n",
       "\n",
       "</style>\n",
       "\n",
       "<script>\n",
       "    MathJax.Hub.Config({\n",
       "                TeX: {\n",
       "                    extensions: [\"AMSmath.js\"]\n",
       "                },\n",
       "                tex2jax: {\n",
       "                    inlineMath: [ ['$','$'], [\"\\\\(\",\"\\\\)\"] ],\n",
       "                    displayMath: [ ['$$','$$'], [\"\\\\[\",\"\\\\]\"] ]\n",
       "                },\n",
       "                displayAlign: 'center', // Change this to 'center' to center equations.\n",
       "                \"HTML-CSS\": {\n",
       "                    availableFonts: [\"TeX\"],\n",
       "                    scale: 100,\n",
       "                    styles: {'.MathJax_Display': {\"margin\": 4}}\n",
       "                }\n",
       "        });\n",
       "</script>\n"
      ],
      "text/plain": [
       "<IPython.core.display.HTML object>"
      ]
     },
     "execution_count": 2,
     "metadata": {},
     "output_type": "execute_result"
    }
   ],
   "source": [
    "css_style('https://raw.githubusercontent.com/saadtony/NumericalMethods/master/styles/custom.css')"
   ]
  },
  {
   "cell_type": "markdown",
   "metadata": {},
   "source": [
    "# Open Domain Methods\n",
    "\n",
    "In root finding, open domain methods relax the requirement that the initial guess must bracket the root. In the secant method, you make an initial guess, and find the point where the line connecting the two points intersects the x-axis, and make this point $c$. You then reset points, making $a=b$ and $b=c$.\n",
    "\n",
    "Algorithm:\n",
    "\n",
    "Given arbitrary values for $a$ and $b$:\n",
    "\n",
    "1. Calculate the slope of the line connecting $f(a)$ and $f(b)$: $m\\  =\\  \\frac{f(b)-f(a)}{b-a} $\n",
    "2. Calculate the point where this line crosses the x-axis: $c\\  =\\  b\\  -\\  \\frac{f(b)}{m}$\n",
    "3. Set the new interval $b=c$ and $a=b$\n",
    "4. Check for convergence"
   ]
  },
  {
   "cell_type": "code",
   "execution_count": 35,
   "metadata": {},
   "outputs": [],
   "source": [
    "def secant(f, a, b, tol, maxiter):\n",
    "    err = tol + 100\n",
    "    niter = 0\n",
    "    while err > tol and niter < maxiter:\n",
    "        m = (f(b)-f(a))/(b-a)\n",
    "        c = b - f(b)/m\n",
    "        err = abs(f(c))\n",
    "        a = b\n",
    "        b = c\n",
    "        niter += 1\n",
    "#         print(f'Iteration: {niter}, m = {m}')\n",
    "    return c, err, niter"
   ]
  },
  {
   "cell_type": "code",
   "execution_count": 26,
   "metadata": {},
   "outputs": [],
   "source": [
    "def func(x):\n",
    "    return x**2 - 2"
   ]
  },
  {
   "cell_type": "code",
   "execution_count": 32,
   "metadata": {},
   "outputs": [
    {
     "name": "stdout",
     "output_type": "stream",
     "text": [
      "Iteration: 1, m = 2.5\n",
      "Iteration: 2, m = 3.1999999999999997\n",
      "Iteration: 3, m = 2.5749999999999997\n",
      "Iteration: 4, m = 2.7924757281553365\n"
     ]
    },
    {
     "data": {
      "text/plain": [
       "(1.4141677531508041, 0.00012956594840640712, 4)"
      ]
     },
     "execution_count": 32,
     "metadata": {},
     "output_type": "execute_result"
    }
   ],
   "source": [
    "secant(func, 0.5, 2, 1e-3, 100)"
   ]
  },
  {
   "cell_type": "code",
   "execution_count": 34,
   "metadata": {},
   "outputs": [],
   "source": [
    "def vel(x, u=40, m=70, t=10):\n",
    "    import numpy as np\n",
    "    g = 9.81\n",
    "    return m*g/x * (1 - np.exp(-x*t/m)) - u"
   ]
  },
  {
   "cell_type": "code",
   "execution_count": 36,
   "metadata": {},
   "outputs": [
    {
     "data": {
      "text/plain": [
       "(15.214088415610513, 2.6454658836883027e-06, 5)"
      ]
     },
     "execution_count": 36,
     "metadata": {},
     "output_type": "execute_result"
    }
   ],
   "source": [
    "secant(vel, 0.1, 10, 1e-3, 100)"
   ]
  },
  {
   "cell_type": "code",
   "execution_count": null,
   "metadata": {},
   "outputs": [],
   "source": []
  }
 ],
 "metadata": {
  "kernelspec": {
   "display_name": "Python 3.7.4 64-bit (conda)",
   "language": "python",
   "name": "python37464bitconda9433d5fd50984e8a8d6b7c9ceacbf4d6"
  },
  "language_info": {
   "codemirror_mode": {
    "name": "ipython",
    "version": 3
   },
   "file_extension": ".py",
   "mimetype": "text/x-python",
   "name": "python",
   "nbconvert_exporter": "python",
   "pygments_lexer": "ipython3",
   "version": "3.7.4"
  },
  "varInspector": {
   "cols": {
    "lenName": 16,
    "lenType": 16,
    "lenVar": 40
   },
   "kernels_config": {
    "python": {
     "delete_cmd_postfix": "",
     "delete_cmd_prefix": "del ",
     "library": "var_list.py",
     "varRefreshCmd": "print(var_dic_list())"
    },
    "r": {
     "delete_cmd_postfix": ") ",
     "delete_cmd_prefix": "rm(",
     "library": "var_list.r",
     "varRefreshCmd": "cat(var_dic_list()) "
    }
   },
   "types_to_exclude": [
    "module",
    "function",
    "builtin_function_or_method",
    "instance",
    "_Feature"
   ],
   "window_display": false
  }
 },
 "nbformat": 4,
 "nbformat_minor": 4
}
