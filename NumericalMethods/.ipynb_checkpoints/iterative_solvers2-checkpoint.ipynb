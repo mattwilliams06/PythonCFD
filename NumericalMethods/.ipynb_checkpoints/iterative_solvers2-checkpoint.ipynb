{
 "cells": [
  {
   "cell_type": "code",
   "execution_count": 1,
   "metadata": {},
   "outputs": [
    {
     "data": {
      "text/html": [
       "CSS style adapted from https://github.com/barbagroup/CFDPython. Copyright (c) Barba group\n",
       "<link href='http://fonts.googleapis.com/css?family=Merriweather' rel='stylesheet' type='text/css'>\n",
       "<link href='http://fonts.googleapis.com/css?family=Bitter' rel='stylesheet' type='text/css'>\n",
       "<link href='http://fonts.googleapis.com/css?family=Oxygen' rel='stylesheet' type='text/css'>\n",
       "<link href='http://fonts.googleapis.com/css?family=Lora' rel='stylesheet' type='text/css'>\n",
       "<link href='http://fonts.googleapis.com/css?family=Fenix' rel='stylesheet' type='text/css'>\n",
       "<link href='http://fonts.googleapis.com/css?family=Alegreya+Sans:100,300,400,500,700,800,900,100italic,300italic,400italic,500italic,700italic,800italic,900italic' rel='stylesheet' type='text/css'>\n",
       "<link href='http://fonts.googleapis.com/css?family=Source+Code+Pro:300,400' rel='stylesheet' type='text/css'>\n",
       "\n",
       "<style>\n",
       "    @font-face {\n",
       "        font-family: \"Computer Modern\";\n",
       "        src: url('http://mirrors.ctan.org/fonts/cm-unicode/fonts/otf/cmunss.otf');\n",
       "    }\n",
       "\n",
       "    /*div.cell{\n",
       "        width:800px;\n",
       "        margin-left:16% !important;\n",
       "        margin-right:auto;\n",
       "    } */\n",
       "\n",
       "    /* set the font size in tables */\n",
       "    tr, td, th{\n",
       "        font-size:110%;\n",
       "    }\n",
       "\n",
       "    /* spec for headers */\n",
       "    h1 {\n",
       "        font-family: 'Bitter', serif;\n",
       "    }\n",
       "\n",
       "    h2 {\n",
       "        font-family: 'Fenix', serif;\n",
       "    }\n",
       "    \n",
       "    h3{\n",
       "        font-family: 'Fenix', serif;\n",
       "        margin-top:12px;\n",
       "        margin-bottom: 3px;\n",
       "    }\n",
       "\n",
       "    h4{\n",
       "        font-family: 'Fenix', serif;\n",
       "    }\n",
       "\n",
       "    h5 {\n",
       "        font-family: 'Alegreya Sans', sans-serif;\n",
       "    }\n",
       "\n",
       "    div.text_cell_render{\n",
       "        font-family: 'Merriweather','Alegreya Sans','Lora', 'Oxygen', \"Helvetica Neue\", Arial, Helvetica, Geneva, sans-serif;\n",
       "        line-height: 160%;\n",
       "        font-size: 130%;\n",
       "    }\n",
       "\n",
       "    .CodeMirror{\n",
       "        font-family: \"Source Code Pro\";\n",
       "        font-size: 100%;\n",
       "    }\n",
       "\n",
       "    .text_cell_render h1 {\n",
       "        font-weight: 200;\n",
       "        font-size: 32pt;\n",
       "        line-height: 120%;\n",
       "        color:#CD2305;\n",
       "        margin-bottom: 0.5em;\n",
       "        margin-top: 0.5em;\n",
       "        display: block;\n",
       "    }\n",
       "\n",
       "    .text_cell_render h2 {\n",
       "        font-size: 26pt;\n",
       "        text-align: center;\n",
       "    }\n",
       "\n",
       "    .text_cell_render h3 {\n",
       "        font-size: 20pt;\n",
       "    }\n",
       "\n",
       "    .text_cell_render h4 {\n",
       "        font-size: 18pt;\n",
       "    }\n",
       "\n",
       "    .text_cell_render h5 {\n",
       "        font-weight: 300;\n",
       "        font-size: 16pt;\n",
       "        color: #CD2305;\n",
       "        font-style: italic;\n",
       "        margin-bottom: .5em;\n",
       "        margin-top: 0.5em;\n",
       "        display: block;\n",
       "    }\n",
       "    \n",
       "    .warning{\n",
       "        color: rgb( 240, 20, 20 )\n",
       "    }  \n",
       "\n",
       "/*  div#notebook {background-color: #1e1e1e; border-top: none;}\n",
       "    div#notebook-container {background-color: rgb(180, 180, 180);}\n",
       " */\n",
       "\n",
       "</style>\n",
       "\n",
       "<script>\n",
       "    MathJax.Hub.Config({\n",
       "                TeX: {\n",
       "                    extensions: [\"AMSmath.js\"]\n",
       "                },\n",
       "                tex2jax: {\n",
       "                    inlineMath: [ ['$','$'], [\"\\\\(\",\"\\\\)\"] ],\n",
       "                    displayMath: [ ['$$','$$'], [\"\\\\[\",\"\\\\]\"] ]\n",
       "                },\n",
       "                displayAlign: 'center', // Change this to 'center' to center equations.\n",
       "                \"HTML-CSS\": {\n",
       "                    availableFonts: [\"TeX\"],\n",
       "                    scale: 100,\n",
       "                    styles: {'.MathJax_Display': {\"margin\": 4}}\n",
       "                }\n",
       "        });\n",
       "</script>\n"
      ],
      "text/plain": [
       "<IPython.core.display.HTML object>"
      ]
     },
     "execution_count": 1,
     "metadata": {},
     "output_type": "execute_result"
    }
   ],
   "source": [
    "import numpy as np\n",
    "import requests\n",
    "url = 'https://raw.githubusercontent.com/saadtony/NumericalMethods/master/styles/custom.css'\n",
    "from IPython.core.display import HTML\n",
    "def css_style():\n",
    "    style = requests.get(url)\n",
    "    return HTML(style.text)\n",
    "css_style()"
   ]
  },
  {
   "cell_type": "code",
   "execution_count": 37,
   "metadata": {},
   "outputs": [],
   "source": [
    "def jacobi2(A, xguess, b, tol):\n",
    "    ''' Perform Jacobi iteration on the input parameters up to the specified tolerance.\n",
    "    Convergence criteria is based on the L2 norm of the solution error b - Ax, where x is the \n",
    "    current iteration solution\n",
    "    \n",
    "    Inputs\n",
    "    ------\n",
    "    A: array, float -- A square matrix of the coefficients of the linear system\n",
    "    b: array, float -- The solution vector\n",
    "    xguess: array, float -- An initial input for the vector x\n",
    "    tol: float -- The convergence tolerance\n",
    "    \n",
    "    Outputs\n",
    "    ------- \n",
    "    xnew: array, float -- The vector x that solves the system\n",
    "    '''\n",
    "    nr, nc = A.shape\n",
    "    if nr != nc:\n",
    "        print('The coefficient matrix A must be a square matrix.')\n",
    "        return None \n",
    "    err = np.inf\n",
    "    xold = xguess.copy()\n",
    "    xnew = np.empty(A.shape[1])\n",
    "    count = 0\n",
    "    while err > tol:\n",
    "        for i in range(len(b)):\n",
    "            xnew[i] = xold[i] + 1./A[i,i]*(b[i] - A[i]@xold)\n",
    "        diff = b - A@xnew\n",
    "        err = np.linalg.norm(diff, 2)\n",
    "        xold = xnew.copy()\n",
    "        count += 1\n",
    "        print(f'Iteration: {count}, error norm = {err:.4f}')\n",
    "    return xnew"
   ]
  },
  {
   "cell_type": "code",
   "execution_count": 7,
   "metadata": {},
   "outputs": [],
   "source": [
    "A = np.array([[5,1,1],\n",
    "             [2,3,0],\n",
    "             [3,0,4]])\n",
    "b = np.array([10, 11, 12])"
   ]
  },
  {
   "cell_type": "code",
   "execution_count": 8,
   "metadata": {},
   "outputs": [
    {
     "data": {
      "text/plain": [
       "array([0.93023256, 3.04651163, 2.30232558])"
      ]
     },
     "execution_count": 8,
     "metadata": {},
     "output_type": "execute_result"
    }
   ],
   "source": [
    "np.linalg.solve(A, b)"
   ]
  },
  {
   "cell_type": "code",
   "execution_count": 24,
   "metadata": {},
   "outputs": [],
   "source": [
    "xguess = np.array([10.,20.,15.])"
   ]
  },
  {
   "cell_type": "code",
   "execution_count": 38,
   "metadata": {},
   "outputs": [
    {
     "name": "stdout",
     "output_type": "stream",
     "text": [
      "Iteration: 1, error norm = 68.7841\n",
      "Iteration: 2, error norm = 37.2936\n",
      "Iteration: 3, error norm = 19.4888\n",
      "Iteration: 4, error norm = 10.5665\n",
      "Iteration: 5, error norm = 5.5218\n",
      "Iteration: 6, error norm = 2.9938\n",
      "Iteration: 7, error norm = 1.5645\n",
      "Iteration: 8, error norm = 0.8483\n",
      "Iteration: 9, error norm = 0.4433\n",
      "Iteration: 10, error norm = 0.2403\n",
      "Iteration: 11, error norm = 0.1256\n",
      "Iteration: 12, error norm = 0.0681\n",
      "Iteration: 13, error norm = 0.0356\n",
      "Iteration: 14, error norm = 0.0193\n",
      "Iteration: 15, error norm = 0.0101\n",
      "Iteration: 16, error norm = 0.0055\n",
      "Iteration: 17, error norm = 0.0029\n",
      "Iteration: 18, error norm = 0.0015\n",
      "Iteration: 19, error norm = 0.0008\n",
      "Iteration: 20, error norm = 0.0004\n",
      "Iteration: 21, error norm = 0.0002\n",
      "Iteration: 22, error norm = 0.0001\n",
      "Iteration: 23, error norm = 0.0001\n"
     ]
    },
    {
     "data": {
      "text/plain": [
       "array([0.93022696, 3.04650592, 2.30231916])"
      ]
     },
     "execution_count": 38,
     "metadata": {},
     "output_type": "execute_result"
    }
   ],
   "source": [
    "jacobi2(A, xguess, b, 1e-4)"
   ]
  },
  {
   "cell_type": "markdown",
   "metadata": {},
   "source": [
    "# Gauss-Seidel Iteration\n",
    "\n",
    "The above code uses the Jacobi iteration method to solve a linear system. In Python, Jacobi has the advantage of being able to use NumPy vector operations, which are very fast. Jacobi does not use the most recent information when performing an iteration, however. Using updated information during iteration will increase the convergence speed, which is the method employed by Gauss-Seidel."
   ]
  },
  {
   "cell_type": "code",
   "execution_count": 40,
   "metadata": {},
   "outputs": [],
   "source": [
    "def gauss_seidel(A, xguess, b, tol):\n",
    "    ''' Perform Gauss-Seidel iteration on the input parameters up to the specified tolerance.\n",
    "    Convergence criteria is based on the L2 norm of the solution error b - Ax, where x is the \n",
    "    current iteration solution\n",
    "    \n",
    "    Inputs\n",
    "    ------\n",
    "    A: array, float -- A square matrix of the coefficients of the linear system\n",
    "    b: array, float -- The solution vector\n",
    "    xguess: array, float -- An initial input for the vector x\n",
    "    tol: float -- The convergence tolerance\n",
    "    \n",
    "    Outputs\n",
    "    ------- \n",
    "    x: array, float -- The vector x that solves the system\n",
    "    '''\n",
    "    nr, nc = A.shape\n",
    "    if nr != nc:\n",
    "        print('The coefficient matrix A must be a square matrix.')\n",
    "        return None\n",
    "    err = np.inf\n",
    "    x = xguess.copy()\n",
    "    count = 0\n",
    "    while err > tol:\n",
    "        for i in range(len(b)):\n",
    "            x[i] = x[i] + 1./A[i,i]*(b[i] - A[i]@x)\n",
    "        diff = b - A@x\n",
    "        err = np.linalg.norm(diff, 2)\n",
    "        count += 1\n",
    "        print(f'Iteration: {count}, error norm = {err:.4f}')\n",
    "    return x"
   ]
  },
  {
   "cell_type": "code",
   "execution_count": 41,
   "metadata": {},
   "outputs": [
    {
     "name": "stdout",
     "output_type": "stream",
     "text": [
      "Iteration: 1, error norm = 21.2500\n",
      "Iteration: 2, error norm = 6.0208\n",
      "Iteration: 3, error norm = 1.7059\n",
      "Iteration: 4, error norm = 0.4833\n",
      "Iteration: 5, error norm = 0.1369\n",
      "Iteration: 6, error norm = 0.0388\n",
      "Iteration: 7, error norm = 0.0110\n",
      "Iteration: 8, error norm = 0.0031\n",
      "Iteration: 9, error norm = 0.0009\n",
      "Iteration: 10, error norm = 0.0003\n",
      "Iteration: 11, error norm = 0.0001\n"
     ]
    },
    {
     "data": {
      "text/plain": [
       "array([0.93021279, 3.04652481, 2.30234041])"
      ]
     },
     "execution_count": 41,
     "metadata": {},
     "output_type": "execute_result"
    }
   ],
   "source": [
    "gauss_seidel(A, xguess, b, 1e-4)"
   ]
  },
  {
   "cell_type": "code",
   "execution_count": null,
   "metadata": {},
   "outputs": [],
   "source": []
  }
 ],
 "metadata": {
  "kernelspec": {
   "display_name": "Python 3.7.4 64-bit (conda)",
   "language": "python",
   "name": "python37464bitconda9433d5fd50984e8a8d6b7c9ceacbf4d6"
  },
  "language_info": {
   "codemirror_mode": {
    "name": "ipython",
    "version": 3
   },
   "file_extension": ".py",
   "mimetype": "text/x-python",
   "name": "python",
   "nbconvert_exporter": "python",
   "pygments_lexer": "ipython3",
   "version": "3.7.4"
  },
  "varInspector": {
   "cols": {
    "lenName": 16,
    "lenType": 16,
    "lenVar": 40
   },
   "kernels_config": {
    "python": {
     "delete_cmd_postfix": "",
     "delete_cmd_prefix": "del ",
     "library": "var_list.py",
     "varRefreshCmd": "print(var_dic_list())"
    },
    "r": {
     "delete_cmd_postfix": ") ",
     "delete_cmd_prefix": "rm(",
     "library": "var_list.r",
     "varRefreshCmd": "cat(var_dic_list()) "
    }
   },
   "types_to_exclude": [
    "module",
    "function",
    "builtin_function_or_method",
    "instance",
    "_Feature"
   ],
   "window_display": false
  }
 },
 "nbformat": 4,
 "nbformat_minor": 4
}
