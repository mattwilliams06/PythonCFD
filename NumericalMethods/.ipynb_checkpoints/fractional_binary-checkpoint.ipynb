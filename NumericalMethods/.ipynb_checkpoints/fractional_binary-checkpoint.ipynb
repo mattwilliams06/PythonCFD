{
 "cells": [
  {
   "cell_type": "code",
   "execution_count": 1,
   "metadata": {},
   "outputs": [],
   "source": [
    "import numpy as np"
   ]
  },
  {
   "cell_type": "code",
   "execution_count": 48,
   "metadata": {},
   "outputs": [],
   "source": [
    "def decimal_binary_estimator(number, n_bits, func=binary_calculator):\n",
    "    ''' Takes a fractional number and returns its binary approximation \n",
    "    based on n bit truncation error, along with the actual fractional number estimated by\n",
    "    the n bit digits. Any number requiring less than n bits will be exact.\n",
    "    \n",
    "    Inputs\n",
    "    -----\n",
    "    number: float -- The fractional number to be represented\n",
    "    n_bits: int -- The number of bits to hold the binary representation\n",
    "    func: function -- Default is the function binary_calculator, which carries out the \n",
    "    computation of the the estimate of the number base on an n bit storage of the fractional\n",
    "    part.\n",
    "    \n",
    "    Outputs\n",
    "    -------\n",
    "    representation: string -- A string of the binary representation of the input number. \n",
    "    result: The estimate of the input based on n bits. Any numbers requiring less than n bits\n",
    "    to store will be exact.\n",
    "    '''\n",
    "    func = binary_calculator\n",
    "    frac = .5    # seed to allow the while loop to begin\n",
    "    digits = []\n",
    "    i = 1        # counter, which will stop at n_bits \n",
    "    while (frac != 0.) & (i <= n_bits):\n",
    "        num = number*2\n",
    "        integer = int(num)\n",
    "        #print(f'num: {num}, integer: {integer}, frac: {frac}')\n",
    "        frac = num % 1\n",
    "        digits.append(integer)\n",
    "        number = frac\n",
    "        i += 1\n",
    "    result = func(digits)\n",
    "    binary_rep = [str(x) for x in digits]\n",
    "    representation = '.'+''.join(binary_rep)\n",
    "    return representation, result\n"
   ]
  },
  {
   "cell_type": "code",
   "execution_count": 30,
   "metadata": {},
   "outputs": [],
   "source": [
    "def binary_calculator(digits):\n",
    "    total = 0\n",
    "    for idx, exp in enumerate(digits):\n",
    "        if exp == 1:\n",
    "            total += 2**(-(idx+1))\n",
    "        else:\n",
    "            continue\n",
    "    return total"
   ]
  },
  {
   "cell_type": "code",
   "execution_count": 55,
   "metadata": {},
   "outputs": [
    {
     "data": {
      "text/plain": [
       "('.1', 0.5)"
      ]
     },
     "execution_count": 55,
     "metadata": {},
     "output_type": "execute_result"
    }
   ],
   "source": [
    "decimal_binary_estimator(0.5, 24)"
   ]
  },
  {
   "cell_type": "code",
   "execution_count": null,
   "metadata": {},
   "outputs": [],
   "source": []
  }
 ],
 "metadata": {
  "kernelspec": {
   "display_name": "Python 3",
   "language": "python",
   "name": "python3"
  },
  "language_info": {
   "codemirror_mode": {
    "name": "ipython",
    "version": 3
   },
   "file_extension": ".py",
   "mimetype": "text/x-python",
   "name": "python",
   "nbconvert_exporter": "python",
   "pygments_lexer": "ipython3",
   "version": "3.7.7"
  }
 },
 "nbformat": 4,
 "nbformat_minor": 4
}
