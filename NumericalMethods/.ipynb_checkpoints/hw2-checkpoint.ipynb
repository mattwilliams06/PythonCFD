{
 "cells": [
  {
   "cell_type": "code",
   "execution_count": 1,
   "metadata": {},
   "outputs": [],
   "source": [
    "import numpy as np"
   ]
  },
  {
   "cell_type": "code",
   "execution_count": 3,
   "metadata": {},
   "outputs": [],
   "source": [
    "def binary_calculator(digits):\n",
    "    total = 0\n",
    "    for idx, exp in enumerate(digits):\n",
    "        if exp == 1:\n",
    "            total += 2**(-(idx+1))\n",
    "        else:\n",
    "            continue\n",
    "    return total"
   ]
  },
  {
   "cell_type": "code",
   "execution_count": 4,
   "metadata": {},
   "outputs": [],
   "source": [
    "def decimal_binary_estimator(number, n_bits, func=binary_calculator):\n",
    "    ''' Takes a fractional number and returns its binary approximation \n",
    "    based on n bit truncation error, along with the actual fractional number estimated by\n",
    "    the n bit digits. Any number requiring less than n bits will be exact.\n",
    "    \n",
    "    Inputs\n",
    "    -----\n",
    "    number: float -- The fractional number to be represented\n",
    "    n_bits: int -- The number of bits to hold the binary representation\n",
    "    func: function -- Default is the function binary_calculator, which carries out the \n",
    "    computation of the the estimate of the number base on an n bit storage of the fractional\n",
    "    part.\n",
    "    \n",
    "    Outputs\n",
    "    -------\n",
    "    representation: string -- A string of the binary representation of the input number. \n",
    "    result: The estimate of the input based on n bits. Any numbers requiring less than n bits\n",
    "    to store will be exact.\n",
    "    '''\n",
    "    func = binary_calculator\n",
    "    frac = .5    # seed to allow the while loop to begin\n",
    "    digits = []\n",
    "    i = 1        # counter, which will stop at n_bits \n",
    "    while (frac != 0.) & (i <= n_bits):\n",
    "        num = number*2\n",
    "        integer = int(num)\n",
    "        #print(f'num: {num}, integer: {integer}, frac: {frac}')\n",
    "        frac = num % 1\n",
    "        digits.append(integer)\n",
    "        number = frac\n",
    "        i += 1\n",
    "    result = func(digits)\n",
    "    binary_rep = [str(x) for x in digits]\n",
    "    representation = '.'+''.join(binary_rep)\n",
    "    return representation, result"
   ]
  },
  {
   "cell_type": "code",
   "execution_count": 5,
   "metadata": {},
   "outputs": [],
   "source": [
    "binary, decimal = decimal_binary_estimator(0.1, 24)"
   ]
  },
  {
   "cell_type": "code",
   "execution_count": 6,
   "metadata": {},
   "outputs": [
    {
     "data": {
      "text/plain": [
       "0.09999996423721313"
      ]
     },
     "execution_count": 6,
     "metadata": {},
     "output_type": "execute_result"
    }
   ],
   "source": [
    "decimal"
   ]
  },
  {
   "cell_type": "markdown",
   "metadata": {},
   "source": [
    "# The PATRIOT Missile Problem\n",
    "\n",
    "Per the code above, the PATRIOT missile battery, which used 24 bits to store numbers, has a truncation error associated with attempting to store the repeating binary pattern for the number 0.1.\n",
    "\n",
    "The absolute relative error for this truncation is:"
   ]
  },
  {
   "cell_type": "code",
   "execution_count": 7,
   "metadata": {},
   "outputs": [
    {
     "data": {
      "text/plain": [
       "3.576278687078549e-07"
      ]
     },
     "execution_count": 7,
     "metadata": {},
     "output_type": "execute_result"
    }
   ],
   "source": [
    "rel_err = (np.abs(0.1 - decimal))/0.1\n",
    "rel_err"
   ]
  },
  {
   "cell_type": "markdown",
   "metadata": {},
   "source": [
    "The above result is the error per every 0.1 seconds of operation. Over the course of 100 hours of battery operation, the total error would be:"
   ]
  },
  {
   "cell_type": "code",
   "execution_count": 8,
   "metadata": {},
   "outputs": [
    {
     "name": "stdout",
     "output_type": "stream",
     "text": [
      "Total error: 0.13 seconds\n"
     ]
    }
   ],
   "source": [
    "total_err = rel_err * 100 * 3600\n",
    "print(f'Total error: {total_err:.2f} seconds')"
   ]
  },
  {
   "cell_type": "markdown",
   "metadata": {},
   "source": [
    "The SCUD missile travels 1676 m/s, so the distance the missile could travel after detected by the first pulse of the battery is:"
   ]
  },
  {
   "cell_type": "code",
   "execution_count": 9,
   "metadata": {},
   "outputs": [
    {
     "name": "stdout",
     "output_type": "stream",
     "text": [
      "Distance traveled: 215.78 meters\n"
     ]
    }
   ],
   "source": [
    "dist = total_err * 1676\n",
    "print(f'Distance traveled: {dist:.2f} meters')"
   ]
  },
  {
   "cell_type": "markdown",
   "metadata": {},
   "source": [
    "# Significant digits\n",
    "\n",
    "We can guarantee at least _m_ significant digits of accuracy if the absolute relative error is:\n",
    "\n",
    "$$\\epsilon_a \\leq (0.5x10^{2-m})\\%$$\n",
    "\n",
    "Let's design a code that estimates the sine function up to a desired number of significant digits using the Taylor series expansion for sine:\n",
    "\n",
    "$$sin(x)\\  =\\  \\sum^{\\infty }_{n=0} \\frac{(-1)^{n}}{(2n+1)!} x^{2n+1}=x-\\frac{x^{3}}{3!} +\\frac{x^{5}}{5!} +...$$"
   ]
  },
  {
   "cell_type": "code",
   "execution_count": 73,
   "metadata": {},
   "outputs": [],
   "source": [
    "def sine_taylor(x, m):\n",
    "    import math\n",
    "    '''Funtion to give the approximation to sine out to m significant digits about\n",
    "    point x using the Taylor Series expansion\n",
    "    \n",
    "    Inputs\n",
    "    ------\n",
    "    x: float -- The point about which to perform the approximation\n",
    "    m: int -- The number of significant digits desired\n",
    "    '''\n",
    "    \n",
    "    tol = 0.5*10**(2-m)\n",
    "    err = np.inf\n",
    "    i = 0\n",
    "    oldval = 0.\n",
    "    while err >= tol:\n",
    "        oldval += (-1)**i/math.factorial((2*i+1))*x**(2*i+1)\n",
    "        n = i + 1\n",
    "        newval = oldval + (-1)**i/math.factorial((2*i+1))*x**(2*i+1)\n",
    "        err = np.abs((newval-oldval)/newval)*100\n",
    "        i += 1\n",
    "        #oldval = newval\n",
    "        print(f'i: {i}, err: {err}')\n",
    "        print(i)\n",
    "    return i, newval, err"
   ]
  },
  {
   "cell_type": "code",
   "execution_count": 81,
   "metadata": {},
   "outputs": [
    {
     "name": "stdout",
     "output_type": "stream",
     "text": [
      "i: 1, err: 50.0\n",
      "1\n",
      "i: 2, err: 150.0\n",
      "2\n",
      "i: 3, err: 5.947136563876648\n",
      "3\n",
      "i: 4, err: 0.34105263157894355\n",
      "4\n",
      "i: 5, err: 0.010619413336411176\n",
      "5\n",
      "i: 6, err: 0.0002172392860761973\n",
      "6\n",
      "i: 7, err: 3.13325193089841e-06\n",
      "7\n"
     ]
    }
   ],
   "source": [
    "x = 1.5\n",
    "m = 6\n",
    "i, val, err = sine_taylor(x, m)"
   ]
  },
  {
   "cell_type": "code",
   "execution_count": 83,
   "metadata": {},
   "outputs": [
    {
     "name": "stdout",
     "output_type": "stream",
     "text": [
      "Value of sin(1.5) using 7 terms up to an accuracy of 3.13325193089841e-06%: 0.997495\n"
     ]
    }
   ],
   "source": [
    "print(f'Value of sin({x}) using {i} terms up to an accuracy of {err}%: {val:.6f}')"
   ]
  },
  {
   "cell_type": "code",
   "execution_count": 84,
   "metadata": {},
   "outputs": [
    {
     "data": {
      "text/plain": [
       "0.9974950181901991"
      ]
     },
     "execution_count": 84,
     "metadata": {},
     "output_type": "execute_result"
    }
   ],
   "source": [
    "val"
   ]
  },
  {
   "cell_type": "code",
   "execution_count": null,
   "metadata": {},
   "outputs": [],
   "source": []
  }
 ],
 "metadata": {
  "kernelspec": {
   "display_name": "Python 3",
   "language": "python",
   "name": "python3"
  },
  "language_info": {
   "codemirror_mode": {
    "name": "ipython",
    "version": 3
   },
   "file_extension": ".py",
   "mimetype": "text/x-python",
   "name": "python",
   "nbconvert_exporter": "python",
   "pygments_lexer": "ipython3",
   "version": "3.7.7"
  }
 },
 "nbformat": 4,
 "nbformat_minor": 4
}
