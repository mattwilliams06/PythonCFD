{
 "cells": [
  {
   "cell_type": "markdown",
   "metadata": {},
   "source": [
    "# The Regula-Falsi Algorithm\n",
    "\n",
    "This root-finding method is similar to the bisection method, but it draws a line between the two points and puts one of the guesses at the root of the line. This uses the slope of the line in order to help achieve faster convergence than the bisection method. The steps of the algorithm are:\n",
    "\n",
    "Given $a$ and $b$, which bracket a root of $f(x)$:\n",
    "\n",
    "1. Calculate the slope of the line connecting $f(a)$ and $f(b)$: $m\\  =\\  \\frac{f(b)-f(a)}{b-a} $\n",
    "2. Calculate the point where this line crosses the x-axis: $c\\  =\\  b\\  -\\  \\frac{f(b)}{m}$\n",
    "3. If $f(a)f(c)<0$, then $b=c$ else $a=c$\n",
    "4. Check for convergence"
   ]
  },
  {
   "cell_type": "code",
   "execution_count": 15,
   "metadata": {},
   "outputs": [],
   "source": [
    "def secant(f, a, b, tol, maxiter):\n",
    "    err = tol + 100\n",
    "    niter = 0\n",
    "    while err > tol and niter < maxiter:\n",
    "        niter += 1\n",
    "        m = (f(b)-f(a))/(b-a)\n",
    "        c = b - f(b)/m\n",
    "        if f(a)*f(c) < 0.:\n",
    "            b = c\n",
    "        else:\n",
    "            a = c\n",
    "        err = abs(f(c))\n",
    "    return c, err, niter"
   ]
  },
  {
   "cell_type": "code",
   "execution_count": 17,
   "metadata": {},
   "outputs": [],
   "source": [
    "def f(x):\n",
    "    return x**2 - 2"
   ]
  },
  {
   "cell_type": "code",
   "execution_count": 18,
   "metadata": {},
   "outputs": [
    {
     "data": {
      "text/plain": [
       "(1.4142133986383711, 4.6311170764923304e-07, 18)"
      ]
     },
     "execution_count": 18,
     "metadata": {},
     "output_type": "execute_result"
    }
   ],
   "source": [
    "secant(f, -1, 3, 1e-6, 100)"
   ]
  },
  {
   "cell_type": "code",
   "execution_count": 22,
   "metadata": {},
   "outputs": [],
   "source": [
    "def vel(x, u=40, m=70, t=10):\n",
    "    import numpy as np\n",
    "    g = 9.81\n",
    "    return m*g/x * (1 - np.exp(-x*t/m)) - u"
   ]
  },
  {
   "cell_type": "code",
   "execution_count": 25,
   "metadata": {},
   "outputs": [
    {
     "data": {
      "text/plain": [
       "(15.214090157031126, 6.553224807248625e-07, 30)"
      ]
     },
     "execution_count": 25,
     "metadata": {},
     "output_type": "execute_result"
    }
   ],
   "source": [
    "secant(vel, .1, 200, 1e-6, 100)"
   ]
  },
  {
   "cell_type": "code",
   "execution_count": null,
   "metadata": {},
   "outputs": [],
   "source": []
  }
 ],
 "metadata": {
  "kernelspec": {
   "display_name": "Python 3.7.4 64-bit (conda)",
   "language": "python",
   "name": "python37464bitconda9433d5fd50984e8a8d6b7c9ceacbf4d6"
  },
  "language_info": {
   "codemirror_mode": {
    "name": "ipython",
    "version": 3
   },
   "file_extension": ".py",
   "mimetype": "text/x-python",
   "name": "python",
   "nbconvert_exporter": "python",
   "pygments_lexer": "ipython3",
   "version": "3.7.4"
  },
  "varInspector": {
   "cols": {
    "lenName": 16,
    "lenType": 16,
    "lenVar": 40
   },
   "kernels_config": {
    "python": {
     "delete_cmd_postfix": "",
     "delete_cmd_prefix": "del ",
     "library": "var_list.py",
     "varRefreshCmd": "print(var_dic_list())"
    },
    "r": {
     "delete_cmd_postfix": ") ",
     "delete_cmd_prefix": "rm(",
     "library": "var_list.r",
     "varRefreshCmd": "cat(var_dic_list()) "
    }
   },
   "types_to_exclude": [
    "module",
    "function",
    "builtin_function_or_method",
    "instance",
    "_Feature"
   ],
   "window_display": false
  }
 },
 "nbformat": 4,
 "nbformat_minor": 4
}
