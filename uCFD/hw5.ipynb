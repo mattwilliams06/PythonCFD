{
 "cells": [
  {
   "cell_type": "code",
   "execution_count": 1,
   "metadata": {},
   "outputs": [
    {
     "data": {
      "text/html": [
       "CSS style adapted from https://github.com/barbagroup/CFDPython. Copyright (c) Barba group\n",
       "<link href='http://fonts.googleapis.com/css?family=Merriweather' rel='stylesheet' type='text/css'>\n",
       "<link href='http://fonts.googleapis.com/css?family=Bitter' rel='stylesheet' type='text/css'>\n",
       "<link href='http://fonts.googleapis.com/css?family=Oxygen' rel='stylesheet' type='text/css'>\n",
       "<link href='http://fonts.googleapis.com/css?family=Lora' rel='stylesheet' type='text/css'>\n",
       "<link href='http://fonts.googleapis.com/css?family=Fenix' rel='stylesheet' type='text/css'>\n",
       "<link href='http://fonts.googleapis.com/css?family=Alegreya+Sans:100,300,400,500,700,800,900,100italic,300italic,400italic,500italic,700italic,800italic,900italic' rel='stylesheet' type='text/css'>\n",
       "<link href='http://fonts.googleapis.com/css?family=Source+Code+Pro:300,400' rel='stylesheet' type='text/css'>\n",
       "\n",
       "<style>\n",
       "    @font-face {\n",
       "        font-family: \"Computer Modern\";\n",
       "        src: url('http://mirrors.ctan.org/fonts/cm-unicode/fonts/otf/cmunss.otf');\n",
       "    }\n",
       "\n",
       "    /*div.cell{\n",
       "        width:800px;\n",
       "        margin-left:16% !important;\n",
       "        margin-right:auto;\n",
       "    } */\n",
       "\n",
       "    /* set the font size in tables */\n",
       "    tr, td, th{\n",
       "        font-size:110%;\n",
       "    }\n",
       "\n",
       "    /* spec for headers */\n",
       "    h1 {\n",
       "        font-family: 'Bitter', serif;\n",
       "    }\n",
       "\n",
       "    h2 {\n",
       "        font-family: 'Fenix', serif;\n",
       "    }\n",
       "    \n",
       "    h3{\n",
       "        font-family: 'Fenix', serif;\n",
       "        margin-top:12px;\n",
       "        margin-bottom: 3px;\n",
       "    }\n",
       "\n",
       "    h4{\n",
       "        font-family: 'Fenix', serif;\n",
       "    }\n",
       "\n",
       "    h5 {\n",
       "        font-family: 'Alegreya Sans', sans-serif;\n",
       "    }\n",
       "\n",
       "    div.text_cell_render{\n",
       "        font-family: 'Merriweather','Alegreya Sans','Lora', 'Oxygen', \"Helvetica Neue\", Arial, Helvetica, Geneva, sans-serif;\n",
       "        line-height: 160%;\n",
       "        font-size: 130%;\n",
       "    }\n",
       "\n",
       "    .CodeMirror{\n",
       "        font-family: \"Source Code Pro\";\n",
       "        font-size: 100%;\n",
       "    }\n",
       "\n",
       "    .text_cell_render h1 {\n",
       "        font-weight: 200;\n",
       "        font-size: 32pt;\n",
       "        line-height: 120%;\n",
       "        color:#CD2305;\n",
       "        margin-bottom: 0.5em;\n",
       "        margin-top: 0.5em;\n",
       "        display: block;\n",
       "    }\n",
       "\n",
       "    .text_cell_render h2 {\n",
       "        font-size: 26pt;\n",
       "        text-align: center;\n",
       "    }\n",
       "\n",
       "    .text_cell_render h3 {\n",
       "        font-size: 20pt;\n",
       "    }\n",
       "\n",
       "    .text_cell_render h4 {\n",
       "        font-size: 18pt;\n",
       "    }\n",
       "\n",
       "    .text_cell_render h5 {\n",
       "        font-weight: 300;\n",
       "        font-size: 16pt;\n",
       "        color: #CD2305;\n",
       "        font-style: italic;\n",
       "        margin-bottom: .5em;\n",
       "        margin-top: 0.5em;\n",
       "        display: block;\n",
       "    }\n",
       "    \n",
       "    .warning{\n",
       "        color: rgb( 240, 20, 20 )\n",
       "    }  \n",
       "\n",
       "/*  div#notebook {background-color: #1e1e1e; border-top: none;}\n",
       "    div#notebook-container {background-color: rgb(180, 180, 180);}\n",
       " */\n",
       "\n",
       "</style>\n",
       "\n",
       "<script>\n",
       "    MathJax.Hub.Config({\n",
       "                TeX: {\n",
       "                    extensions: [\"AMSmath.js\"]\n",
       "                },\n",
       "                tex2jax: {\n",
       "                    inlineMath: [ ['$','$'], [\"\\\\(\",\"\\\\)\"] ],\n",
       "                    displayMath: [ ['$$','$$'], [\"\\\\[\",\"\\\\]\"] ]\n",
       "                },\n",
       "                displayAlign: 'center', // Change this to 'center' to center equations.\n",
       "                \"HTML-CSS\": {\n",
       "                    availableFonts: [\"TeX\"],\n",
       "                    scale: 100,\n",
       "                    styles: {'.MathJax_Display': {\"margin\": 4}}\n",
       "                }\n",
       "        });\n",
       "</script>\n"
      ],
      "text/plain": [
       "<IPython.core.display.HTML object>"
      ]
     },
     "execution_count": 1,
     "metadata": {},
     "output_type": "execute_result"
    }
   ],
   "source": [
    "import urllib\n",
    "import requests\n",
    "from IPython.core.display import HTML\n",
    "def css_styling():\n",
    "    styles = requests.get('https://raw.githubusercontent.com/saadtony/NumericalMethods/master/styles/custom.css')\n",
    "    return HTML(styles.text)\n",
    "css_styling()"
   ]
  },
  {
   "cell_type": "code",
   "execution_count": 2,
   "metadata": {},
   "outputs": [],
   "source": [
    "import numpy as np\n",
    "import matplotlib.pyplot as plt\n",
    "from matplotlib import cm\n",
    "import matplotlib.animation as animation\n",
    "%matplotlib inline\n",
    "%config InlineBackend.figure_format='svg'\n",
    "plt.rcParams['animation.html'] = 'html5'"
   ]
  },
  {
   "cell_type": "markdown",
   "metadata": {},
   "source": [
    "# Problem 1\n",
    "## Derive the modified equation for an FTCS scheme for the linear advection equation:\n",
    "\n",
    "$$u_t = -cu_x $$\n",
    "\n",
    "The numerical form of a this partial differential equation actually solves an equation of the form:\n",
    "\n",
    "$$u_t = a_1u_x + a_2u_{xx} + a_3u_{xxx} + a_4u_{xxxx} + ... $$\n",
    "\n",
    "where odd-ordered derivatives represent advection and dispersion terms, and even-ordered derivatives represent diffusion terms.\n",
    "\n",
    "Re-writing the PDE in numerical form following an FTCS scheme:\n",
    "\n",
    "$$\\frac{u^{n+1}_{i}-u^{n}_{i}}{\\Delta t} \\  +\\  c\\frac{u^{n}_{i+1}-u^{n}_{i-1}}{\\Delta x} =0$$"
   ]
  },
  {
   "cell_type": "markdown",
   "metadata": {},
   "source": [
    "Expanding the $u^{n+1}_i$ term as a Taylor series about time $n$:\n",
    "\n",
    "$$u^{n+1}_{i}=u^{n}_{i}+\\frac{1}{2!}\\frac{\\partial u^{n}_{i}}{\\partial t} \\Delta t+\\frac{1}{3!}\\frac{\\partial^{2} u^{n}_{i}}{\\partial t^{2}} \\Delta t+...$$\n",
    "\n",
    "which can be written in shorthand as:\n",
    "\n",
    "$$u^{n+1}_{i}=u^{n}_{i}+\\Delta tu^{n}_{it}+\\frac{\\Delta t^{2}}{2} u^{n}_{itt}+\\frac{\\Delta t^{3}}{3!} u^{n}_{ittt}+...$$\n",
    "\n",
    "A brief note about this notation: The first index in the subscript indicates the velocity at point $i$, and is not a derivative. Similarly, we can expand the $u^{n}_{i\\pm 1}$ term about $i$:\n",
    "\n",
    "$$u^{n}_{i\\pm 1}=u_{i}\\pm \\Delta xu^{n}_{ix}+\\frac{\\Delta x^{2}}{2} u^{n}_{ixx}\\pm \\frac{\\Delta x^{3}}{3!} u^{n}_{ixxx}+...$$"
   ]
  },
  {
   "cell_type": "markdown",
   "metadata": {},
   "source": [
    "Making the substitution into the numerical equation and rearranging gives:\n",
    "\n",
    "$$u^{n}_{it}+cu^{n}_{ix}=-\\frac{\\Delta t}{2} u_{itt}-\\frac{\\Delta t^{2}}{3!} u_{ittt}+\\frac{\\Delta x^{2}}{3!} u^{n}_{ixxx}+...$$"
   ]
  },
  {
   "cell_type": "markdown",
   "metadata": {},
   "source": [
    "We have recovered the original equation on the left. On the right, the spatial derivatives of even order did not survive the operation, but the odd-ordered ones, which had opposite signs, did. \n",
    "\n",
    "We now want the time derivatives in terms of space. We can differentiate the original equation in terms of time to obtain:\n",
    "\n",
    "$$u_{tt}+cu_{xt}=u_{tt}+cu_{tx}=u_{tt}+c(-cu_{x})_{x}=u_{tt}-c^{2}u_{xx}=0$$\n",
    "\n",
    "and therefore:\n",
    "\n",
    "$$u_{tt} = c^2u_{xx}$$\n",
    "\n",
    "Similarly, differentiating twice WRT time:\n",
    "\n",
    "$$u_{ttt}+cu_{xtt}=u_{ttt}+cu_{ttx}=u_{ttt}+c(c^{2}u_{xx})_{x}=u_{ttt}+c^{3}u_{xxx}=0$$"
   ]
  },
  {
   "cell_type": "markdown",
   "metadata": {},
   "source": [
    "and therefore:\n",
    "\n",
    "$$u_{ttt} = -c^3u_{xxx}$$\n",
    "\n",
    "Substituting gives:\n",
    "\n",
    "$$u^{n}_{it}+cu^{n}_{ix}=-\\frac{\\Delta tc^{2}}{2} u_{ixx}+\\left(\\frac{\\Delta t^{2}c^{3}}{3!} -\\frac{c\\Delta x^{2}}{3!} \\right)u^{n}_{ixxx}+...$$"
   ]
  },
  {
   "cell_type": "markdown",
   "metadata": {},
   "source": [
    "The first term on the right will always have a negative coefficient, since both $\\Delta t$ and $c^2$ will always be positive. Therefore, negative diffusion will always exist and the scheme is unconditionally unstable."
   ]
  },
  {
   "cell_type": "markdown",
   "metadata": {},
   "source": [
    "## Conduct VonNeumann stability analysis for the FTCS scheme. Find the amplification factor and show that the scheme is unconditionally unstable.\n",
    "\n",
    "Let the solution $u$ be \n",
    "\n",
    "$$u(x,t)\\  =\\  e^{qt}e^{ikx}$$\n",
    "\n",
    "Therefore, the numerical advection equation is:\n",
    "\n",
    "$$\\frac{e^{q(t+\\Delta t)}e^{ikx}-e^{qt}e^{ikx}}{\\Delta t} +c\\frac{e^{qt}e^{ik(x+\\Delta x)}-e^{qt}e^{ik(x-\\Delta x)}}{2\\Delta x} =0$$\n",
    "\n"
   ]
  },
  {
   "cell_type": "markdown",
   "metadata": {},
   "source": [
    "Dividing this equation by $e^{qt}e^{ikx}$ gives:\n",
    "\n",
    "$$\\frac{e^{q\\Delta t}-1}{\\Delta t} +c\\frac{e^{ik\\Delta x}-e^{-ik\\Delta x}}{2\\Delta x} =0$$\n",
    "\n",
    "$$e^{q\\Delta t}-1+\\frac{c\\Delta t}{2\\Delta x} (e^{ik\\Delta x}-e^{-ik\\Delta x})=0$$\n",
    "\n",
    "Using the identity:\n",
    "\n",
    "$$e^{ik\\Delta x}-e^{-ik\\Delta x}=cos(k\\Delta x)+isin(k\\Delta x)-(cos(k\\Delta x)-isin(k\\Delta x))=2isin(k\\Delta x)$$"
   ]
  },
  {
   "cell_type": "markdown",
   "metadata": {},
   "source": [
    "we can rewrite the equation as:\n",
    "\n",
    "$$e^{q\\Delta t}-1+i\\frac{c\\Delta t}{\\Delta x} sin(k\\Delta x)=0$$\n",
    "\n",
    "$$e^{q\\Delta t}=1-i\\frac{c\\Delta t}{\\Delta x}sin(k\\Delta x) $$\n",
    "\n",
    "The magnitude of the term on the right is:\n",
    "\n",
    "$$\\sqrt{1+\\left( \\frac{c\\Delta t}{\\Delta x} \\right)^{2}  } $$\n",
    "\n",
    "which is always greater than one, and therefore will contribute to positive growth, and instability.\n",
    "\n",
    "Alternatively, the value of q can be found to be:\n"
   ]
  },
  {
   "cell_type": "markdown",
   "metadata": {},
   "source": [
    "$$q\\Delta t\\  +\\  ln\\left( \\frac{c\\Delta t}{2\\Delta x} \\right)  +ln\\left( \\frac{e^{ik\\Delta x}}{e^{-ik\\Delta x}} \\right)  =0 $$\n",
    "\n",
    "$$q\\Delta t\\  +\\  ln\\left( \\frac{c\\Delta t}{2\\Delta x} \\right)  +2ik\\Delta x=0$$\n",
    "\n",
    "$$q\\  =\\  -\\frac{1}{\\Delta t} ln\\left( \\frac{c\\Delta t}{2\\Delta x} \\right)  -i\\frac{2k\\Delta x}{\\Delta t}  $$\n",
    "\n",
    "The magnitude of which will is:\n",
    "\n",
    "$$\\sqrt{\\left( \\frac{1}{\\Delta t} ln\\left( \\frac{c\\Delta t}{2\\Delta x} \\right)  \\right)^{2}  +\\left( \\frac{2k\\Delta x}{\\Delta t} \\right)^{2}  } $$"
   ]
  },
  {
   "cell_type": "markdown",
   "metadata": {},
   "source": [
    "This will also always be greater than 0, and so the exponential term will always grow.\n",
    "\n",
    "## Use the amplification factor to derive the first two spatial derivative terms of the modified equation"
   ]
  },
  {
   "cell_type": "code",
   "execution_count": 42,
   "metadata": {},
   "outputs": [],
   "source": [
    "from sympy import *\n",
    "init_printing(use_latex=True)"
   ]
  },
  {
   "cell_type": "markdown",
   "metadata": {},
   "source": [
    "Recall that the numerical scheme can be written as a series of spatial derivatives:\n",
    "\n",
    "$$u_t = a_1u_x + a_2u_{xx} + a_3u_{xxx} + a_4u_{xxxx} + ... $$\n",
    "\n",
    "Again, if we let the solution be $u(x,t) = e^{qt}e^{ikx}$, then our equation becomes:\n",
    "\n",
    "$$qu\\  =\\  \\sum^{}_{} a_{n}i^{n}k^{n}u$$\n",
    "\n",
    "and therefore:\n",
    "\n",
    "$$q\\  =\\  \\sum^{}_{n} a_{n}i^{n}k^{n}$$\n",
    "\n",
    "where, in general:\n",
    "\n",
    "$$a_{n}=\\frac{1}{i^{n}n!} \\frac{\\partial^{n} q}{\\partial k^{n}} \\big |_{k=0}$$"
   ]
  },
  {
   "cell_type": "code",
   "execution_count": 7,
   "metadata": {},
   "outputs": [],
   "source": [
    "dt, dx, k, c, x, t= symbols('dt, dx, k, c, x, t', real=True)"
   ]
  },
  {
   "cell_type": "code",
   "execution_count": 13,
   "metadata": {},
   "outputs": [],
   "source": [
    "q = 1/dt*ln(1-c*dt/2/dx*(exp(I*k*dx)-exp(-I*k*dx)))"
   ]
  },
  {
   "cell_type": "code",
   "execution_count": 14,
   "metadata": {},
   "outputs": [
    {
     "data": {
      "image/png": "[encoded data removed]",
      "text/latex": [
       "$\\displaystyle \\frac{\\log{\\left(- \\frac{c dt \\left(e^{i dx k} - e^{- i dx k}\\right)}{2 dx} + 1 \\right)}}{dt}$"
      ],
      "text/plain": [
       "   ⎛       ⎛ ⅈ⋅dx⋅k    -ⅈ⋅dx⋅k⎞    ⎞\n",
       "   ⎜  c⋅dt⋅⎝ℯ       - ℯ       ⎠    ⎟\n",
       "log⎜- ───────────────────────── + 1⎟\n",
       "   ⎝             2⋅dx              ⎠\n",
       "────────────────────────────────────\n",
       "                 dt                 "
      ]
     },
     "execution_count": 14,
     "metadata": {},
     "output_type": "execute_result"
    }
   ],
   "source": [
    "q"
   ]
  },
  {
   "cell_type": "code",
   "execution_count": 15,
   "metadata": {},
   "outputs": [],
   "source": [
    "dqdx = q.diff(k)"
   ]
  },
  {
   "cell_type": "code",
   "execution_count": 16,
   "metadata": {},
   "outputs": [
    {
     "data": {
      "image/png": "[encoded data removed]",
      "text/latex": [
       "$\\displaystyle - i c$"
      ],
      "text/plain": [
       "-ⅈ⋅c"
      ]
     },
     "execution_count": 16,
     "metadata": {},
     "output_type": "execute_result"
    }
   ],
   "source": [
    "dqdx.subs(k,0)"
   ]
  },
  {
   "cell_type": "code",
   "execution_count": 19,
   "metadata": {},
   "outputs": [],
   "source": [
    "n = 1\n",
    "a1 = 1/(I**n*factorial(n))*dqdx.subs(k,0)"
   ]
  },
  {
   "cell_type": "code",
   "execution_count": 20,
   "metadata": {},
   "outputs": [
    {
     "data": {
      "image/png": "[encoded data removed]",
      "text/latex": [
       "$\\displaystyle - c$"
      ],
      "text/plain": [
       "-c"
      ]
     },
     "execution_count": 20,
     "metadata": {},
     "output_type": "execute_result"
    }
   ],
   "source": [
    "a1"
   ]
  },
  {
   "cell_type": "markdown",
   "metadata": {},
   "source": [
    "Here, we have exactly recovered the coefficient of the first spatial derivative. Moving on to the second derivative:"
   ]
  },
  {
   "cell_type": "code",
   "execution_count": 21,
   "metadata": {},
   "outputs": [
    {
     "data": {
      "image/png": "[encoded data removed]",
      "text/latex": [
       "$\\displaystyle \\frac{c \\left(\\frac{c dt \\left(e^{i dx k} + e^{- i dx k}\\right)^{2}}{\\frac{c dt \\left(e^{i dx k} - e^{- i dx k}\\right)}{dx} - 2} - dx \\left(e^{i dx k} - e^{- i dx k}\\right)\\right)}{\\frac{c dt \\left(e^{i dx k} - e^{- i dx k}\\right)}{dx} - 2}$"
      ],
      "text/plain": [
       "  ⎛                           2                           ⎞\n",
       "  ⎜       ⎛ ⅈ⋅dx⋅k    -ⅈ⋅dx⋅k⎞                            ⎟\n",
       "  ⎜  c⋅dt⋅⎝ℯ       + ℯ       ⎠        ⎛ ⅈ⋅dx⋅k    -ⅈ⋅dx⋅k⎞⎟\n",
       "c⋅⎜───────────────────────────── - dx⋅⎝ℯ       - ℯ       ⎠⎟\n",
       "  ⎜     ⎛ ⅈ⋅dx⋅k    -ⅈ⋅dx⋅k⎞                              ⎟\n",
       "  ⎜c⋅dt⋅⎝ℯ       - ℯ       ⎠                              ⎟\n",
       "  ⎜───────────────────────── - 2                          ⎟\n",
       "  ⎝            dx                                         ⎠\n",
       "───────────────────────────────────────────────────────────\n",
       "                    ⎛ ⅈ⋅dx⋅k    -ⅈ⋅dx⋅k⎞                   \n",
       "               c⋅dt⋅⎝ℯ       - ℯ       ⎠                   \n",
       "               ───────────────────────── - 2               \n",
       "                           dx                              "
      ]
     },
     "execution_count": 21,
     "metadata": {},
     "output_type": "execute_result"
    }
   ],
   "source": [
    "d2qdk = q.diff(k,2)\n",
    "d2qdk"
   ]
  },
  {
   "cell_type": "code",
   "execution_count": 25,
   "metadata": {},
   "outputs": [],
   "source": [
    "n = 2\n",
    "a2 = 1/(I**n*factorial(n))*d2qdk.subs(k,0)"
   ]
  },
  {
   "cell_type": "code",
   "execution_count": 26,
   "metadata": {},
   "outputs": [
    {
     "data": {
      "image/png": "[encoded data removed]",
      "text/latex": [
       "$\\displaystyle - \\frac{c^{2} dt}{2}$"
      ],
      "text/plain": [
       "  2    \n",
       "-c ⋅dt \n",
       "───────\n",
       "   2   "
      ]
     },
     "execution_count": 26,
     "metadata": {},
     "output_type": "execute_result"
    }
   ],
   "source": [
    "a2"
   ]
  },
  {
   "cell_type": "markdown",
   "metadata": {},
   "source": [
    "We have also successfuly recovered the coefficient of the second spatial derivative.\n",
    "\n",
    "# Problem 2\n",
    "## The diffusion term in the previous problem causes instability. Propose a modification to the FTCS scheme to suppress the term.\n",
    "\n",
    "One solution would be to solve a modified version of the equation where we add the unstable diffusion term, thereby canceling it out of the modified equation. The proposed equation is therefore:\n",
    "\n",
    "$$\\frac{u^{n+1}_i-u^n_i}{\\Delta t} + c\\frac{u^n_{i+1}-u^n_{i-1}}{2\\Delta x}+\\frac{c^2\\Delta t}{2}\\frac{u^n_{i+1}-2u^n_i+u^n_{i-1}}{\\Delta x^2} = 0$$\n",
    "\n",
    "To find the amplification factor, we first assume a solution of the form $u(x, t) = e^{qt}e^{ikx}$ and substitute it into the discretized equation to be solved.\n",
    "\n",
    "$$\\frac{e^{q(t+\\Delta t)}e^{ikx}-e^{qt}e^{ikx}}{\\Delta t} + c\\frac{e^{qt}e^{ik(x+\\Delta x)}-e^{qt}e^{ik(x-\\Delta x)}}{2\\Delta x} + \\frac{e^{qt}e^{ik(x+\\Delta x)}-2e^{qt}e^{ikx}+e^{qt}e^{ik(x-\\Delta x)}}{\\Delta x^2} = 0$$\n",
    "\n",
    "Divide the entire equation by $e^{qt}e^{ikx}$:\n",
    "\n",
    "$$\\frac{e^{q\\Delta t}-1}{\\Delta t} + c\\frac{e^{ik\\Delta x}-e^{-ik\\Delta x}}{2\\Delta x} + \\frac{c^2\\Delta t}{2}\\frac{e^{ik\\Delta x}-2+e^{-ik\\Delta x}}{\\Delta x^2} = 0$$\n",
    "\n",
    "We can then obtain the amplification factor as:\n",
    "\n",
    "$$ q = \\frac{1}{\\Delta t} ln\\left(1-\\frac{c\\Delta t}{2\\Delta x}\\left(e^{ik\\Delta x}-e^{-ik\\Delta x}\\right) + \\frac{c^2\\Delta t^2}{2\\Delta x^2}\\left(e^{ik\\Delta x}-2+e^{-ik\\Delta x}\\right)\\right)$$\n",
    "\n",
    "Recalling that a given coefficient of the modofied equation is related to the amplification factor as:\n",
    "\n",
    "$$a_n = \\frac{1}{i^nn!}\\frac{\\partial q}{\\partial k}\\bigg\\rvert_{k=0}$$\n",
    "\n",
    "we can, with the assistance of sympy, find the first three coefficients."
   ]
  },
  {
   "cell_type": "code",
   "execution_count": 36,
   "metadata": {},
   "outputs": [],
   "source": [
    "c, dt, dx, k = symbols('c, Delta_t, Delta_x, k', real=True)"
   ]
  },
  {
   "cell_type": "code",
   "execution_count": 37,
   "metadata": {},
   "outputs": [],
   "source": [
    "q = 1/dt*log(1-c*dt/2/dx*(exp(I*k*dx)-exp(-I*k*dx)) + c**2*dt**2/2/dx**2*(exp(I*k*dx)-2+exp(-I*k*dx)))"
   ]
  },
  {
   "cell_type": "code",
   "execution_count": 43,
   "metadata": {},
   "outputs": [
    {
     "data": {
      "image/png": "[encoded data removed]",
      "text/latex": [
       "$\\displaystyle \\frac{\\log{\\left(\\frac{\\Delta_{t}^{2} c^{2} \\left(e^{i \\Delta_{x} k} - 2 + e^{- i \\Delta_{x} k}\\right)}{2 \\Delta_{x}^{2}} - \\frac{\\Delta_{t} c \\left(e^{i \\Delta_{x} k} - e^{- i \\Delta_{x} k}\\right)}{2 \\Delta_{x}} + 1 \\right)}}{\\Delta_{t}}$"
      ],
      "text/plain": [
       "   ⎛  2  2 ⎛ ⅈ⋅Δₓ⋅k        -ⅈ⋅Δₓ⋅k⎞        ⎛ ⅈ⋅Δₓ⋅k    -ⅈ⋅Δₓ⋅k⎞    ⎞\n",
       "   ⎜Δₜ ⋅c ⋅⎝ℯ       - 2 + ℯ       ⎠   Δₜ⋅c⋅⎝ℯ       - ℯ       ⎠    ⎟\n",
       "log⎜─────────────────────────────── - ───────────────────────── + 1⎟\n",
       "   ⎜                 2                           2⋅Δₓ              ⎟\n",
       "   ⎝             2⋅Δₓ                                              ⎠\n",
       "────────────────────────────────────────────────────────────────────\n",
       "                                 Δₜ                                 "
      ]
     },
     "execution_count": 43,
     "metadata": {},
     "output_type": "execute_result"
    }
   ],
   "source": [
    "q"
   ]
  },
  {
   "cell_type": "code",
   "execution_count": 44,
   "metadata": {},
   "outputs": [],
   "source": [
    "dqdk = q.diff(k)"
   ]
  },
  {
   "cell_type": "code",
   "execution_count": 45,
   "metadata": {},
   "outputs": [],
   "source": [
    "n = 1\n",
    "a1 = 1/(I**n*factorial(n))*dqdk.subs(k, 0)"
   ]
  },
  {
   "cell_type": "code",
   "execution_count": 46,
   "metadata": {},
   "outputs": [
    {
     "data": {
      "image/png": "[encoded data removed]",
      "text/latex": [
       "$\\displaystyle - c$"
      ],
      "text/plain": [
       "-c"
      ]
     },
     "execution_count": 46,
     "metadata": {},
     "output_type": "execute_result"
    }
   ],
   "source": [
    "a1"
   ]
  },
  {
   "cell_type": "code",
   "execution_count": 47,
   "metadata": {},
   "outputs": [],
   "source": [
    "d2qdk = q.diff(k, 2)"
   ]
  },
  {
   "cell_type": "code",
   "execution_count": 48,
   "metadata": {},
   "outputs": [],
   "source": [
    "n = 2\n",
    "a2 = 1/(I**n*factorial(n))*d2qdk.subs(k, 0)"
   ]
  },
  {
   "cell_type": "code",
   "execution_count": 49,
   "metadata": {},
   "outputs": [
    {
     "data": {
      "image/png": "[encoded data removed]",
      "text/latex": [
       "$\\displaystyle 0$"
      ],
      "text/plain": [
       "0"
      ]
     },
     "execution_count": 49,
     "metadata": {},
     "output_type": "execute_result"
    }
   ],
   "source": [
    "a2"
   ]
  },
  {
   "cell_type": "code",
   "execution_count": 50,
   "metadata": {},
   "outputs": [],
   "source": [
    "d3qdk = q.diff(k, 3)"
   ]
  },
  {
   "cell_type": "code",
   "execution_count": 51,
   "metadata": {},
   "outputs": [],
   "source": [
    "n = 3\n",
    "a3 = 1/(I**n*factorial(n))*d3qdk.subs(k, 0)"
   ]
  },
  {
   "cell_type": "code",
   "execution_count": 53,
   "metadata": {},
   "outputs": [
    {
     "data": {
      "image/png": "[encoded data removed]",
      "text/latex": [
       "$\\displaystyle \\frac{c \\left(2 \\Delta_{t}^{2} c^{2} - 2 \\Delta_{x}^{2}\\right)}{12}$"
      ],
      "text/plain": [
       "  ⎛    2  2       2⎞\n",
       "c⋅⎝2⋅Δₜ ⋅c  - 2⋅Δₓ ⎠\n",
       "────────────────────\n",
       "         12         "
      ]
     },
     "execution_count": 53,
     "metadata": {},
     "output_type": "execute_result"
    }
   ],
   "source": [
    "a3"
   ]
  },
  {
   "cell_type": "markdown",
   "metadata": {},
   "source": [
    "Our scheme to eliminate the diffusion term from the modified equation has succeeded. The second coefficient, $a_2$, is zero. It will still have diffusion via the $a_3$ coefficient.\n",
    "\n",
    "## Suggest a modification to address the dispersion. Show the modification in discretized form\n",
    "\n",
    "As before, we will want to add a term that will cancel the dispersion term. In this case, that modification will include the $a_3$ coefficient in front of a third spatial derivative. Disregarding higher-order terms, we can use a third-difference sceme and have the discretized equation:\n",
    "\n",
    "$$\\frac{u^{n+1}_i-u^n_i}{\\Delta t} + c\\frac{u^n_{i+1}-u^n_{i-1}}{2\\Delta x}+\\frac{c^2\\Delta t}{2}\\frac{u^n_{i+1}-2u^n_i+u^n_{i-1}}{\\Delta x^2} - \\frac{c}{12} (2\\Delta t^{2}c^{2}-2\\Delta x^{2})\\frac{u^{n}_{i+1}-2u^{n}_{i+1}+2u^{n}_{i-2}-u^{n}_{i-1}}{2\\Delta x^{3}} = 0$$\n",
    "\n",
    "which uses a second-order centered finite difference scheme for the third derivative."
   ]
  },
  {
   "cell_type": "markdown",
   "metadata": {},
   "source": [
    "# Problem 3\n",
    "## 2D advection equation\n",
    "For a scalar quantity $u(x,y,t)$, the 2D advection equation is:\n",
    "\n",
    "$$u_t = -au_x - bu_y; \\quad a,b > 0, \\quad u(x,y,0)=u_0(x,y)$$\n",
    "\n",
    "Show that $u(x,y,t) = u_0(x-at, y-bt)$ is an exact solution.\n",
    "\n",
    "For $u(x,y,t)$, the chain rules states that:\n",
    "\n",
    "$$\\frac{\\partial u}{\\partial t} =\\frac{\\partial u}{\\partial x} \\frac{\\partial x}{\\partial t} +\\frac{\\partial u}{\\partial y} \\frac{\\partial y}{\\partial t} $$\n",
    "\n",
    "We do not know what the function $u$ is, but we do know what the components of $y$ and $x$ are. Therefore, using the chain rule, we have:\n",
    "\n",
    "$$\\frac{\\partial u}{\\partial t} =-a\\frac{\\partial u}{\\partial x} -b\\frac{\\partial u}{\\partial y} $$\n",
    "\n",
    "which is the equation in the problem statement.\n",
    "\n",
    "## FTUS discretization\n",
    "\n",
    "$$\\frac{u^{n+1}_{ij} - u^n_{ij}}{\\Delta t}+a\\frac{u^n_{ij} - u^n_{i-1,j}}{\\Delta x} + b\\frac{u^n_{ij}-u^n_{i,j-1}}{\\Delta y} = 0$$\n",
    "\n",
    "## Finding the amplification factor\n",
    "\n",
    "Let $u(x,y,t) = e^{qt}e^{ikx}e^{iky}$. Making this substitution, the equation becomes:\n",
    "\n",
    "$$\\frac{e^{q(t+\\Delta t)}e^{ikx}e^{iky} - e^{qt}e^{ikx}e^{iky}}{\\Delta t} + a\\frac{e^{qt}e^{ikx}e^{iky} - e^{qt}e^{ik(x-\\Delta x)}e^{iky}}{\\Delta x} + b\\frac{e^{qt}e^{ikx}e^{iky}-e^{qt}e^{ikx}e^{ik(y-\\Delta y)}}{\\Delta y} = 0$$\n",
    "\n",
    "Dividing by $u(x,y,t)$ gives:\n",
    "\n",
    "$$\\frac{e^{q\\Delta t}-1}{\\Delta t} + \\frac{a}{\\Delta x}(1-e^{-ik\\Delta x}) + \\frac{b}{\\Delta y}(1-e^{-ik\\Delta y}) = 0$$\n",
    "\n",
    "This gives an amplification factor of:\n",
    "\n",
    "$$q = \\frac{1}{\\Delta t}ln\\left(1-\\frac{a\\Delta t}{\\Delta x}(1-e^{-ik\\Delta x})-\\frac{b\\Delta t}{\\Delta y}(1-e^{-ik\\Delta y})\\right)$$ \n",
    "\n",
    "To determine the stability condition, we must look at the coefficients per usual:"
   ]
  },
  {
   "cell_type": "code",
   "execution_count": 54,
   "metadata": {},
   "outputs": [],
   "source": [
    "from sympy import *\n",
    "init_printing(use_unicode=True)"
   ]
  },
  {
   "cell_type": "code",
   "execution_count": 55,
   "metadata": {},
   "outputs": [],
   "source": [
    "k, a, b, dt, dx, dy, t, x, y = symbols('k, a, b, Delta_t Delta_x Delta_y t x y', real=True)"
   ]
  },
  {
   "cell_type": "code",
   "execution_count": 56,
   "metadata": {},
   "outputs": [
    {
     "data": {
      "image/png": "[encoded data removed]",
      "text/latex": [
       "$\\displaystyle \\frac{\\log{\\left(- \\frac{\\Delta_{t} b \\left(1 - e^{- i \\Delta_{y} k}\\right)}{\\Delta_{y}} - \\frac{\\Delta_{t} a \\left(1 - e^{- i \\Delta_{x} k}\\right)}{\\Delta_{x}} + 1 \\right)}}{\\Delta_{t}}$"
      ],
      "text/plain": [
       "   ⎛       ⎛     -ⅈ⋅Δ_y⋅k⎞        ⎛     -ⅈ⋅Δₓ⋅k⎞    ⎞\n",
       "   ⎜  Δₜ⋅b⋅⎝1 - ℯ        ⎠   Δₜ⋅a⋅⎝1 - ℯ       ⎠    ⎟\n",
       "log⎜- ──────────────────── - ─────────────────── + 1⎟\n",
       "   ⎝          Δ_y                     Δₓ            ⎠\n",
       "─────────────────────────────────────────────────────\n",
       "                          Δₜ                         "
      ]
     },
     "execution_count": 56,
     "metadata": {},
     "output_type": "execute_result"
    }
   ],
   "source": [
    "q = 1/dt*log(1-a*dt/dx*(1-exp(-I*k*dx))-b*dt/dy*(1-exp(-I*k*dy)))\n",
    "q"
   ]
  },
  {
   "cell_type": "code",
   "execution_count": 57,
   "metadata": {},
   "outputs": [],
   "source": [
    "dqdk = q.diff(k)"
   ]
  },
  {
   "cell_type": "code",
   "execution_count": 58,
   "metadata": {},
   "outputs": [
    {
     "data": {
      "image/png": "[encoded data removed]",
      "text/latex": [
       "$\\displaystyle - \\frac{i \\left(- i \\Delta_{t} a - i \\Delta_{t} b\\right)}{\\Delta_{t}}$"
      ],
      "text/plain": [
       "-ⅈ⋅(-ⅈ⋅Δₜ⋅a - ⅈ⋅Δₜ⋅b) \n",
       "──────────────────────\n",
       "          Δₜ          "
      ]
     },
     "execution_count": 58,
     "metadata": {},
     "output_type": "execute_result"
    }
   ],
   "source": [
    "n = 1\n",
    "a1 = dqdk.subs(k,0)/(I**n*factorial(n))\n",
    "a1"
   ]
  },
  {
   "cell_type": "code",
   "execution_count": 59,
   "metadata": {},
   "outputs": [],
   "source": [
    "d2qdk = q.diff(k, 2)"
   ]
  },
  {
   "cell_type": "code",
   "execution_count": 60,
   "metadata": {},
   "outputs": [
    {
     "data": {
      "image/png": "[encoded data removed]",
      "text/latex": [
       "$\\displaystyle - \\frac{\\Delta_{t} \\left(a + b\\right)^{2}}{2} + \\frac{\\Delta_{x} a}{2} + \\frac{\\Delta_{y} b}{2}$"
      ],
      "text/plain": [
       "            2               \n",
       "  Δₜ⋅(a + b)    Δₓ⋅a   Δ_y⋅b\n",
       "- ─────────── + ──── + ─────\n",
       "       2         2       2  "
      ]
     },
     "execution_count": 60,
     "metadata": {},
     "output_type": "execute_result"
    }
   ],
   "source": [
    "n = 2\n",
    "a2 = d2qdk.subs(k,0)/(I**n*factorial(n))\n",
    "a2"
   ]
  },
  {
   "cell_type": "markdown",
   "metadata": {},
   "source": [
    "## Using the Taylor Series to derive the modified equation\n",
    "\n",
    "The Taylor series for the time component is:\n",
    "\n",
    "$$u^{n+1}_{ij} = u^n_{ij} + \\Delta t u^n_{ijt} + \\frac{\\Delta t^2}{2!}u^n_{ijtt} + ...$$\n",
    "\n",
    "For the x and y components:\n",
    "\n",
    "$$u^n_{i-1,j} = u^n_{ij} -\\Delta x u^n_{ijx} + \\frac{\\Delta x^2}{2!}u^n_{ijxx}+...$$\n",
    "\n",
    "$$u^n_{i,j-1} = u^n_{ij} -\\Delta y u^n_{ijy} + \\frac{\\Delta y^2}{2!}u^n_{ijyy}+...$$\n",
    "\n",
    "The first term of the discrete equation becomes: \n",
    "\n",
    "$$u^n_{it} + \\frac{\\Delta t}{2}u^n_{itt} $$\n",
    "\n",
    "The second term is:\n",
    "\n",
    "$$au^n_{ijx} -a\\frac{\\Delta x}{2!}u^n_{ijxx}+...$$\n",
    "\n",
    "The third term is:\n",
    "\n",
    "$$bu^n_{ijy} -b\\frac{\\Delta y}{2!}u^n_{ijyy}+...$$\n",
    "\n",
    "We would like to eliminate the second derivative with respect to time, so we differentiate the original equation, which is of the form:\n",
    "\n",
    "$$u^n_{it} +au^n_x + bu^n_y=0$$\n",
    "\n",
    "with respect to time to get:\n",
    "\n",
    "$$u^n_{itt} + a\\left(u^n_{xx}x_t\\right) + b(u^n_{yy}y_t)=0$$\n",
    "\n",
    "Here, we can solve for the second derivative term in time directly:\n",
    "\n",
    "$$u^n_{tt} = a^2(u^n_{xx}) + b^2(u^n_{yy})$$\n",
    "\n",
    "The unsimplified modified equation is:\n",
    "\n",
    "$$u^n_t - au^n_x - bu^n_y = -\\frac{\\Delta t}{2}u^n_{itt} -a\\frac{\\Delta x}{2!}u^n_{ijxx} - b\\frac{\\Delta y}{2!}u^n_{ijyy}+...$$\n",
    "\n",
    "Substituting for $u^n_{tt}$:\n",
    "\n",
    "$$u^n_t - au^n_x - bu^n_y = -\\frac{\\Delta t}{2}(a^2(u^n_{xx}) + b^2(u^n_{yy})) -a\\frac{\\Delta x}{2!}u^n_{ijxx} - b\\frac{\\Delta y}{2!}u^n_{ijyy}+...$$\n",
    "\n",
    "$$u^n_t - au^n_x - bu^n_y = -\\frac{a^2\\Delta t+a\\Delta x}{2}u^n_{xx} - \\frac{b^2\\Delta t +b\\Delta y}{2}u^n_{yy}+...$$\n",
    "\n",
    "This recovers the same coefficients for the first and second deivatives that we found using the amplification factor.\n",
    "\n",
    "The diffusion terms are negative as long as the coefficient numerators are positive. For the first term, this means:\n",
    "\n",
    "$$a^2\\Delta t + a \\Delta x > 0$$\n",
    "$$a\\Delta t + \\Delta x > 0$$\n",
    "$$a>-\\frac{\\Delta x}{\\Delta t}$$\n",
    "\n",
    "But a is the advecting velocity, and therefore our condition is really:\n",
    "\n",
    "$$2\\frac{\\Delta x}{\\Delta t} > 0$$\n",
    "\n",
    "Which is always true, and therefore negative diffusion exists.\n",
    "\n",
    "Let's now factor a $\\Delta t$ term out of the right-hand side terms, to get:\n",
    "\n",
    "$$u^n_t - au^n_x - bu^n_y = -\\Delta ta^2u^n_{xx} - \\Delta tb^2u^n_{yy}+...$$\n",
    "\n",
    "If we let $a = b = v$, we get a resultant vector whose components are $vsin(\\theta)$ and $vcos(\\theta)$.\n",
    "$$u^n_t - v(u^n_xcos(\\theta) + u^n_ysin(\\theta)) = -\\Delta tv^2(u^n_{xx}cos^2(\\theta) + u^n_{yy}sin^2(\\theta))+...$$\n"
   ]
  },
  {
   "cell_type": "code",
   "execution_count": null,
   "metadata": {},
   "outputs": [],
   "source": []
  }
 ],
 "metadata": {
  "kernelspec": {
   "display_name": "Python 3",
   "language": "python",
   "name": "python3"
  },
  "language_info": {
   "codemirror_mode": {
    "name": "ipython",
    "version": 3
   },
   "file_extension": ".py",
   "mimetype": "text/x-python",
   "name": "python",
   "nbconvert_exporter": "python",
   "pygments_lexer": "ipython3",
   "version": "3.7.7"
  }
 },
 "nbformat": 4,
 "nbformat_minor": 4
}
