{
 "cells": [
  {
   "cell_type": "code",
   "execution_count": 1,
   "metadata": {},
   "outputs": [
    {
     "data": {
      "text/html": [
       "CSS style adapted from https://github.com/barbagroup/CFDPython. Copyright (c) Barba group\n",
       "<link href='http://fonts.googleapis.com/css?family=Merriweather' rel='stylesheet' type='text/css'>\n",
       "<link href='http://fonts.googleapis.com/css?family=Bitter' rel='stylesheet' type='text/css'>\n",
       "<link href='http://fonts.googleapis.com/css?family=Oxygen' rel='stylesheet' type='text/css'>\n",
       "<link href='http://fonts.googleapis.com/css?family=Lora' rel='stylesheet' type='text/css'>\n",
       "<link href='http://fonts.googleapis.com/css?family=Fenix' rel='stylesheet' type='text/css'>\n",
       "<link href='http://fonts.googleapis.com/css?family=Alegreya+Sans:100,300,400,500,700,800,900,100italic,300italic,400italic,500italic,700italic,800italic,900italic' rel='stylesheet' type='text/css'>\n",
       "<link href='http://fonts.googleapis.com/css?family=Source+Code+Pro:300,400' rel='stylesheet' type='text/css'>\n",
       "\n",
       "<style>\n",
       "    @font-face {\n",
       "        font-family: \"Computer Modern\";\n",
       "        src: url('http://mirrors.ctan.org/fonts/cm-unicode/fonts/otf/cmunss.otf');\n",
       "    }\n",
       "\n",
       "    /*div.cell{\n",
       "        width:800px;\n",
       "        margin-left:16% !important;\n",
       "        margin-right:auto;\n",
       "    } */\n",
       "\n",
       "    /* set the font size in tables */\n",
       "    tr, td, th{\n",
       "        font-size:110%;\n",
       "    }\n",
       "\n",
       "    /* spec for headers */\n",
       "    h1 {\n",
       "        font-family: 'Bitter', serif;\n",
       "    }\n",
       "\n",
       "    h2 {\n",
       "        font-family: 'Fenix', serif;\n",
       "    }\n",
       "    \n",
       "    h3{\n",
       "        font-family: 'Fenix', serif;\n",
       "        margin-top:12px;\n",
       "        margin-bottom: 3px;\n",
       "    }\n",
       "\n",
       "    h4{\n",
       "        font-family: 'Fenix', serif;\n",
       "    }\n",
       "\n",
       "    h5 {\n",
       "        font-family: 'Alegreya Sans', sans-serif;\n",
       "    }\n",
       "\n",
       "    div.text_cell_render{\n",
       "        font-family: 'Merriweather','Alegreya Sans','Lora', 'Oxygen', \"Helvetica Neue\", Arial, Helvetica, Geneva, sans-serif;\n",
       "        line-height: 160%;\n",
       "        font-size: 130%;\n",
       "    }\n",
       "\n",
       "    .CodeMirror{\n",
       "        font-family: \"Source Code Pro\";\n",
       "        font-size: 100%;\n",
       "    }\n",
       "\n",
       "    .text_cell_render h1 {\n",
       "        font-weight: 200;\n",
       "        font-size: 32pt;\n",
       "        line-height: 120%;\n",
       "        color:#CD2305;\n",
       "        margin-bottom: 0.5em;\n",
       "        margin-top: 0.5em;\n",
       "        display: block;\n",
       "    }\n",
       "\n",
       "    .text_cell_render h2 {\n",
       "        font-size: 26pt;\n",
       "        text-align: center;\n",
       "    }\n",
       "\n",
       "    .text_cell_render h3 {\n",
       "        font-size: 20pt;\n",
       "    }\n",
       "\n",
       "    .text_cell_render h4 {\n",
       "        font-size: 18pt;\n",
       "    }\n",
       "\n",
       "    .text_cell_render h5 {\n",
       "        font-weight: 300;\n",
       "        font-size: 16pt;\n",
       "        color: #CD2305;\n",
       "        font-style: italic;\n",
       "        margin-bottom: .5em;\n",
       "        margin-top: 0.5em;\n",
       "        display: block;\n",
       "    }\n",
       "    \n",
       "    .warning{\n",
       "        color: rgb( 240, 20, 20 )\n",
       "    }  \n",
       "\n",
       "/*  div#notebook {background-color: #1e1e1e; border-top: none;}\n",
       "    div#notebook-container {background-color: rgb(180, 180, 180);}\n",
       " */\n",
       "\n",
       "</style>\n",
       "\n",
       "<script>\n",
       "    MathJax.Hub.Config({\n",
       "                TeX: {\n",
       "                    extensions: [\"AMSmath.js\"]\n",
       "                },\n",
       "                tex2jax: {\n",
       "                    inlineMath: [ ['$','$'], [\"\\\\(\",\"\\\\)\"] ],\n",
       "                    displayMath: [ ['$$','$$'], [\"\\\\[\",\"\\\\]\"] ]\n",
       "                },\n",
       "                displayAlign: 'center', // Change this to 'center' to center equations.\n",
       "                \"HTML-CSS\": {\n",
       "                    availableFonts: [\"TeX\"],\n",
       "                    scale: 100,\n",
       "                    styles: {'.MathJax_Display': {\"margin\": 4}}\n",
       "                }\n",
       "        });\n",
       "</script>\n"
      ],
      "text/plain": [
       "<IPython.core.display.HTML object>"
      ]
     },
     "execution_count": 1,
     "metadata": {},
     "output_type": "execute_result"
    }
   ],
   "source": [
    "import urllib\n",
    "import requests\n",
    "from IPython.core.display import HTML\n",
    "def css_styling():\n",
    "    styles = requests.get('https://raw.githubusercontent.com/saadtony/NumericalMethods/master/styles/custom.css')\n",
    "    return HTML(styles.text)\n",
    "css_styling()"
   ]
  },
  {
   "cell_type": "code",
   "execution_count": 2,
   "metadata": {},
   "outputs": [],
   "source": [
    "import numpy as np\n",
    "import matplotlib.pyplot as plt\n",
    "from matplotlib import cm\n",
    "import matplotlib.animation as animation\n",
    "%matplotlib inline\n",
    "%config InlineBackend.figure_format='retina'\n",
    "plt.rcParams['animation.html'] = 'html5'"
   ]
  },
  {
   "cell_type": "code",
   "execution_count": 3,
   "metadata": {},
   "outputs": [],
   "source": [
    "# Domain parameters\n",
    "nx = 21\n",
    "ny = 21\n",
    "Lx = 1.\n",
    "Ly = 1.\n",
    "dx = Lx/(nx-1)\n",
    "dy = Ly/(ny-1)"
   ]
  },
  {
   "cell_type": "code",
   "execution_count": 7,
   "metadata": {},
   "outputs": [],
   "source": [
    "# Boundary velocities\n",
    "Ut = 1.   # U top wall\n",
    "Ub = 0.   # U bottom wall\n",
    "Vl = 0.   # V left wall\n",
    "Vr = 0.   # V right wall"
   ]
  },
  {
   "cell_type": "code",
   "execution_count": 9,
   "metadata": {},
   "outputs": [
    {
     "name": "stdout",
     "output_type": "stream",
     "text": [
      "True\n",
      "True\n"
     ]
    }
   ],
   "source": [
    "ψ0 = np.zeros((ny, nx))\n",
    "ω0 = np.zeros((ny, nx))\n",
    "\n",
    "# Apply boundary conditions on vorticity\n",
    "## Vorticity on the left wall\n",
    "ω0[1:-1,0] = 2./dx**2 * (ψ0[1:-1,0]-ψ0[1:-1,1]) + 2./dx*Vl\n",
    "## Vorticity on right wall\n",
    "ω0[1:-1,-1] = 2./dx**2 * (ψ0[1:-1,-1]-ψ0[1:-1,-2]) - 2./dx*Vr\n",
    "## Vorticity on bottom wall\n",
    "ω0[0,1:-1] = 2./dy**2 * (ψ0[0,1:-1]-ψ0[1,1:-1]) + 2./dy*Ub\n",
    "## Vorticity on top wall\n",
    "ω0[-1,1:-1] = 2./dy**2 * (ψ0[-1,1:-1]-ψ0[-2,1:-1]) - 2./dy*Ut\n",
    "\n",
    "t = 0.\n",
    "dt = 0.5e-2\n",
    "tend = 1.\n",
    "\n",
    "tol = 1e-3\n",
    "maxit = 100\n",
    "β = 1.5\n",
    "ν = 1e-1\n",
    "\n",
    "# Create empty lists for animations\n",
    "psi = []\n",
    "psi.append(ψ0)\n",
    "omega = []\n",
    "omega.append(ω0)\n",
    "\n",
    "print(ν*dt/dx**2 < 0.25)\n",
    "print(2.*Ut*dt/ν < 2)"
   ]
  },
  {
   "cell_type": "code",
   "execution_count": 10,
   "metadata": {},
   "outputs": [
    {
     "data": {
      "text/plain": [
       "<matplotlib.contour.QuadContourSet at 0x7ff12b726f50>"
      ]
     },
     "execution_count": 10,
     "metadata": {},
     "output_type": "execute_result"
    },
    {
     "data": {
      "image/png": "[encoded data removed]",
      "text/plain": [
       "<Figure size 432x288 with 1 Axes>"
      ]
     },
     "metadata": {
      "image/png": {
       "height": 252,
       "width": 389
      },
      "needs_background": "light"
     },
     "output_type": "display_data"
    }
   ],
   "source": [
    "plt.contour(ω0)"
   ]
  },
  {
   "cell_type": "code",
   "execution_count": null,
   "metadata": {},
   "outputs": [],
   "source": [
    "u_{0}e^{\\left( \\frac{x-x_{0}}{\\sigma } \\right)^{2}  }"
   ]
  }
 ],
 "metadata": {
  "kernelspec": {
   "display_name": "Python 3",
   "language": "python",
   "name": "python3"
  },
  "language_info": {
   "codemirror_mode": {
    "name": "ipython",
    "version": 3
   },
   "file_extension": ".py",
   "mimetype": "text/x-python",
   "name": "python",
   "nbconvert_exporter": "python",
   "pygments_lexer": "ipython3",
   "version": "3.7.4"
  }
 },
 "nbformat": 4,
 "nbformat_minor": 4
}
